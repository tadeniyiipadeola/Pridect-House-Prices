{
 "cells": [
  {
   "cell_type": "code",
   "execution_count": 52,
   "metadata": {},
   "outputs": [
    {
     "data": {
      "text/html": [
       "<div>\n",
       "<style scoped>\n",
       "    .dataframe tbody tr th:only-of-type {\n",
       "        vertical-align: middle;\n",
       "    }\n",
       "\n",
       "    .dataframe tbody tr th {\n",
       "        vertical-align: top;\n",
       "    }\n",
       "\n",
       "    .dataframe thead th {\n",
       "        text-align: right;\n",
       "    }\n",
       "</style>\n",
       "<table border=\"1\" class=\"dataframe\">\n",
       "  <thead>\n",
       "    <tr style=\"text-align: right;\">\n",
       "      <th></th>\n",
       "      <th>LotArea</th>\n",
       "      <th>OverallQual</th>\n",
       "      <th>OverallCond</th>\n",
       "      <th>TotalBsmtSF</th>\n",
       "      <th>FullBath</th>\n",
       "      <th>HalfBath</th>\n",
       "      <th>BedroomAbvGr</th>\n",
       "      <th>TotRmsAbvGrd</th>\n",
       "      <th>Fireplaces</th>\n",
       "      <th>GarageArea</th>\n",
       "      <th>AboveMedianPrice</th>\n",
       "    </tr>\n",
       "  </thead>\n",
       "  <tbody>\n",
       "    <tr>\n",
       "      <th>0</th>\n",
       "      <td>8450</td>\n",
       "      <td>7</td>\n",
       "      <td>5</td>\n",
       "      <td>856</td>\n",
       "      <td>2</td>\n",
       "      <td>1</td>\n",
       "      <td>3</td>\n",
       "      <td>8</td>\n",
       "      <td>0</td>\n",
       "      <td>548</td>\n",
       "      <td>1</td>\n",
       "    </tr>\n",
       "    <tr>\n",
       "      <th>1</th>\n",
       "      <td>9600</td>\n",
       "      <td>6</td>\n",
       "      <td>8</td>\n",
       "      <td>1262</td>\n",
       "      <td>2</td>\n",
       "      <td>0</td>\n",
       "      <td>3</td>\n",
       "      <td>6</td>\n",
       "      <td>1</td>\n",
       "      <td>460</td>\n",
       "      <td>1</td>\n",
       "    </tr>\n",
       "    <tr>\n",
       "      <th>2</th>\n",
       "      <td>11250</td>\n",
       "      <td>7</td>\n",
       "      <td>5</td>\n",
       "      <td>920</td>\n",
       "      <td>2</td>\n",
       "      <td>1</td>\n",
       "      <td>3</td>\n",
       "      <td>6</td>\n",
       "      <td>1</td>\n",
       "      <td>608</td>\n",
       "      <td>1</td>\n",
       "    </tr>\n",
       "    <tr>\n",
       "      <th>3</th>\n",
       "      <td>9550</td>\n",
       "      <td>7</td>\n",
       "      <td>5</td>\n",
       "      <td>756</td>\n",
       "      <td>1</td>\n",
       "      <td>0</td>\n",
       "      <td>3</td>\n",
       "      <td>7</td>\n",
       "      <td>1</td>\n",
       "      <td>642</td>\n",
       "      <td>0</td>\n",
       "    </tr>\n",
       "    <tr>\n",
       "      <th>4</th>\n",
       "      <td>14260</td>\n",
       "      <td>8</td>\n",
       "      <td>5</td>\n",
       "      <td>1145</td>\n",
       "      <td>2</td>\n",
       "      <td>1</td>\n",
       "      <td>4</td>\n",
       "      <td>9</td>\n",
       "      <td>1</td>\n",
       "      <td>836</td>\n",
       "      <td>1</td>\n",
       "    </tr>\n",
       "    <tr>\n",
       "      <th>...</th>\n",
       "      <td>...</td>\n",
       "      <td>...</td>\n",
       "      <td>...</td>\n",
       "      <td>...</td>\n",
       "      <td>...</td>\n",
       "      <td>...</td>\n",
       "      <td>...</td>\n",
       "      <td>...</td>\n",
       "      <td>...</td>\n",
       "      <td>...</td>\n",
       "      <td>...</td>\n",
       "    </tr>\n",
       "    <tr>\n",
       "      <th>1455</th>\n",
       "      <td>7917</td>\n",
       "      <td>6</td>\n",
       "      <td>5</td>\n",
       "      <td>953</td>\n",
       "      <td>2</td>\n",
       "      <td>1</td>\n",
       "      <td>3</td>\n",
       "      <td>7</td>\n",
       "      <td>1</td>\n",
       "      <td>460</td>\n",
       "      <td>1</td>\n",
       "    </tr>\n",
       "    <tr>\n",
       "      <th>1456</th>\n",
       "      <td>13175</td>\n",
       "      <td>6</td>\n",
       "      <td>6</td>\n",
       "      <td>1542</td>\n",
       "      <td>2</td>\n",
       "      <td>0</td>\n",
       "      <td>3</td>\n",
       "      <td>7</td>\n",
       "      <td>2</td>\n",
       "      <td>500</td>\n",
       "      <td>1</td>\n",
       "    </tr>\n",
       "    <tr>\n",
       "      <th>1457</th>\n",
       "      <td>9042</td>\n",
       "      <td>7</td>\n",
       "      <td>9</td>\n",
       "      <td>1152</td>\n",
       "      <td>2</td>\n",
       "      <td>0</td>\n",
       "      <td>4</td>\n",
       "      <td>9</td>\n",
       "      <td>2</td>\n",
       "      <td>252</td>\n",
       "      <td>1</td>\n",
       "    </tr>\n",
       "    <tr>\n",
       "      <th>1458</th>\n",
       "      <td>9717</td>\n",
       "      <td>5</td>\n",
       "      <td>6</td>\n",
       "      <td>1078</td>\n",
       "      <td>1</td>\n",
       "      <td>0</td>\n",
       "      <td>2</td>\n",
       "      <td>5</td>\n",
       "      <td>0</td>\n",
       "      <td>240</td>\n",
       "      <td>0</td>\n",
       "    </tr>\n",
       "    <tr>\n",
       "      <th>1459</th>\n",
       "      <td>9937</td>\n",
       "      <td>5</td>\n",
       "      <td>6</td>\n",
       "      <td>1256</td>\n",
       "      <td>1</td>\n",
       "      <td>1</td>\n",
       "      <td>3</td>\n",
       "      <td>6</td>\n",
       "      <td>0</td>\n",
       "      <td>276</td>\n",
       "      <td>0</td>\n",
       "    </tr>\n",
       "  </tbody>\n",
       "</table>\n",
       "<p>1460 rows × 11 columns</p>\n",
       "</div>"
      ],
      "text/plain": [
       "      LotArea  OverallQual  OverallCond  TotalBsmtSF  FullBath  HalfBath  \\\n",
       "0        8450            7            5          856         2         1   \n",
       "1        9600            6            8         1262         2         0   \n",
       "2       11250            7            5          920         2         1   \n",
       "3        9550            7            5          756         1         0   \n",
       "4       14260            8            5         1145         2         1   \n",
       "...       ...          ...          ...          ...       ...       ...   \n",
       "1455     7917            6            5          953         2         1   \n",
       "1456    13175            6            6         1542         2         0   \n",
       "1457     9042            7            9         1152         2         0   \n",
       "1458     9717            5            6         1078         1         0   \n",
       "1459     9937            5            6         1256         1         1   \n",
       "\n",
       "      BedroomAbvGr  TotRmsAbvGrd  Fireplaces  GarageArea  AboveMedianPrice  \n",
       "0                3             8           0         548                 1  \n",
       "1                3             6           1         460                 1  \n",
       "2                3             6           1         608                 1  \n",
       "3                3             7           1         642                 0  \n",
       "4                4             9           1         836                 1  \n",
       "...            ...           ...         ...         ...               ...  \n",
       "1455             3             7           1         460                 1  \n",
       "1456             3             7           2         500                 1  \n",
       "1457             4             9           2         252                 1  \n",
       "1458             2             5           0         240                 0  \n",
       "1459             3             6           0         276                 0  \n",
       "\n",
       "[1460 rows x 11 columns]"
      ]
     },
     "execution_count": 52,
     "metadata": {},
     "output_type": "execute_result"
    }
   ],
   "source": [
    "import pandas as pd \n",
    "\n",
    "df = pd.read_csv('housepricedata.csv')\n",
    "\n",
    "df\n"
   ]
  },
  {
   "cell_type": "code",
   "execution_count": 53,
   "metadata": {},
   "outputs": [],
   "source": [
    "dataset = df.values"
   ]
  },
  {
   "cell_type": "code",
   "execution_count": 54,
   "metadata": {},
   "outputs": [
    {
     "data": {
      "text/plain": [
       "array([[ 8450,     7,     5, ...,     0,   548,     1],\n",
       "       [ 9600,     6,     8, ...,     1,   460,     1],\n",
       "       [11250,     7,     5, ...,     1,   608,     1],\n",
       "       ...,\n",
       "       [ 9042,     7,     9, ...,     2,   252,     1],\n",
       "       [ 9717,     5,     6, ...,     0,   240,     0],\n",
       "       [ 9937,     5,     6, ...,     0,   276,     0]], dtype=int64)"
      ]
     },
     "execution_count": 54,
     "metadata": {},
     "output_type": "execute_result"
    }
   ],
   "source": [
    "dataset"
   ]
  },
  {
   "cell_type": "code",
   "execution_count": 55,
   "metadata": {},
   "outputs": [],
   "source": [
    "X=dataset[:,0:10]"
   ]
  },
  {
   "cell_type": "code",
   "execution_count": 56,
   "metadata": {},
   "outputs": [
    {
     "data": {
      "text/plain": [
       "array([[ 8450,     7,     5, ...,     8,     0,   548],\n",
       "       [ 9600,     6,     8, ...,     6,     1,   460],\n",
       "       [11250,     7,     5, ...,     6,     1,   608],\n",
       "       ...,\n",
       "       [ 9042,     7,     9, ...,     9,     2,   252],\n",
       "       [ 9717,     5,     6, ...,     5,     0,   240],\n",
       "       [ 9937,     5,     6, ...,     6,     0,   276]], dtype=int64)"
      ]
     },
     "execution_count": 56,
     "metadata": {},
     "output_type": "execute_result"
    }
   ],
   "source": [
    "X"
   ]
  },
  {
   "cell_type": "code",
   "execution_count": 57,
   "metadata": {},
   "outputs": [],
   "source": [
    "Y = dataset[:,10]"
   ]
  },
  {
   "cell_type": "code",
   "execution_count": 58,
   "metadata": {},
   "outputs": [
    {
     "data": {
      "text/plain": [
       "array([1, 1, 1, ..., 1, 0, 0], dtype=int64)"
      ]
     },
     "execution_count": 58,
     "metadata": {},
     "output_type": "execute_result"
    }
   ],
   "source": [
    "Y"
   ]
  },
  {
   "cell_type": "code",
   "execution_count": 59,
   "metadata": {},
   "outputs": [],
   "source": [
    "from sklearn import preprocessing"
   ]
  },
  {
   "cell_type": "code",
   "execution_count": 60,
   "metadata": {},
   "outputs": [],
   "source": [
    "min_max_scaler = preprocessing.MinMaxScaler()\n",
    "x_scale = min_max_scaler.fit_transform(X)"
   ]
  },
  {
   "cell_type": "code",
   "execution_count": 61,
   "metadata": {},
   "outputs": [
    {
     "data": {
      "text/plain": [
       "array([[0.0334198 , 0.66666667, 0.5       , ..., 0.5       , 0.        ,\n",
       "        0.3864598 ],\n",
       "       [0.03879502, 0.55555556, 0.875     , ..., 0.33333333, 0.33333333,\n",
       "        0.32440056],\n",
       "       [0.04650728, 0.66666667, 0.5       , ..., 0.33333333, 0.33333333,\n",
       "        0.42877292],\n",
       "       ...,\n",
       "       [0.03618687, 0.66666667, 1.        , ..., 0.58333333, 0.66666667,\n",
       "        0.17771509],\n",
       "       [0.03934189, 0.44444444, 0.625     , ..., 0.25      , 0.        ,\n",
       "        0.16925247],\n",
       "       [0.04037019, 0.44444444, 0.625     , ..., 0.33333333, 0.        ,\n",
       "        0.19464034]])"
      ]
     },
     "execution_count": 61,
     "metadata": {},
     "output_type": "execute_result"
    }
   ],
   "source": [
    "x_scale"
   ]
  },
  {
   "cell_type": "code",
   "execution_count": 62,
   "metadata": {},
   "outputs": [],
   "source": [
    "from sklearn.model_selection import train_test_split"
   ]
  },
  {
   "cell_type": "code",
   "execution_count": 63,
   "metadata": {},
   "outputs": [],
   "source": [
    "X_train, X_val_and_test, Y_train, Y_val_and_test = train_test_split(x_scale, Y, test_size=0.3)"
   ]
  },
  {
   "cell_type": "code",
   "execution_count": 64,
   "metadata": {},
   "outputs": [],
   "source": [
    "X_val, X_test, Y_val, Y_test = train_test_split(X_val_and_test, Y_val_and_test, test_size=0.5)"
   ]
  },
  {
   "cell_type": "code",
   "execution_count": 65,
   "metadata": {},
   "outputs": [
    {
     "name": "stdout",
     "output_type": "stream",
     "text": [
      "(1022, 10) (219, 10) (219, 10) (1022,) (219,) (219,)\n"
     ]
    }
   ],
   "source": [
    "print(X_train.shape, X_val.shape, X_test.shape, Y_train.shape, Y_val.shape, Y_test.shape)"
   ]
  },
  {
   "cell_type": "code",
   "execution_count": 66,
   "metadata": {},
   "outputs": [],
   "source": [
    "import tensorflow as tf"
   ]
  },
  {
   "cell_type": "code",
   "execution_count": 67,
   "metadata": {},
   "outputs": [],
   "source": [
    "from tensorflow.keras.models import Sequential\n"
   ]
  },
  {
   "cell_type": "code",
   "execution_count": 68,
   "metadata": {},
   "outputs": [],
   "source": [
    "import tensorflow as tf\n",
    "from tensorflow.keras.models import Sequential\n"
   ]
  },
  {
   "cell_type": "code",
   "execution_count": 69,
   "metadata": {},
   "outputs": [],
   "source": [
    "from keras.models import Sequential\n",
    "from keras.layers import Dense"
   ]
  },
  {
   "cell_type": "code",
   "execution_count": 70,
   "metadata": {},
   "outputs": [],
   "source": [
    "model = Sequential([\n",
    "   Dense(32, activation='relu', input_shape=(10,)),\n",
    "   Dense(32, activation='relu'),\n",
    "   Dense(1, activation='sigmoid'),\n",
    "])"
   ]
  },
  {
   "cell_type": "code",
   "execution_count": 71,
   "metadata": {},
   "outputs": [],
   "source": [
    "model.compile(optimizer='sgd',\n",
    "               loss='binary_crossentropy',\n",
    "               metrics=['accuracy'])"
   ]
  },
  {
   "cell_type": "code",
   "execution_count": 72,
   "metadata": {},
   "outputs": [
    {
     "name": "stdout",
     "output_type": "stream",
     "text": [
      "Epoch 1/100\n",
      "32/32 [==============================] - 3s 76ms/step - loss: 0.7064 - accuracy: 0.4599 - val_loss: 0.7088 - val_accuracy: 0.3379\n",
      "Epoch 2/100\n",
      "32/32 [==============================] - 0s 3ms/step - loss: 0.6998 - accuracy: 0.3836 - val_loss: 0.7012 - val_accuracy: 0.3014\n",
      "Epoch 3/100\n",
      "32/32 [==============================] - 0s 4ms/step - loss: 0.6949 - accuracy: 0.4051 - val_loss: 0.6953 - val_accuracy: 0.4247\n",
      "Epoch 4/100\n",
      "32/32 [==============================] - 0s 3ms/step - loss: 0.6910 - accuracy: 0.4961 - val_loss: 0.6906 - val_accuracy: 0.4977\n",
      "Epoch 5/100\n",
      "32/32 [==============================] - 0s 4ms/step - loss: 0.6878 - accuracy: 0.5176 - val_loss: 0.6866 - val_accuracy: 0.5205\n",
      "Epoch 6/100\n",
      "32/32 [==============================] - 0s 4ms/step - loss: 0.6847 - accuracy: 0.5108 - val_loss: 0.6828 - val_accuracy: 0.5479\n",
      "Epoch 7/100\n",
      "32/32 [==============================] - 0s 4ms/step - loss: 0.6819 - accuracy: 0.5205 - val_loss: 0.6797 - val_accuracy: 0.5571\n",
      "Epoch 8/100\n",
      "32/32 [==============================] - 0s 3ms/step - loss: 0.6795 - accuracy: 0.5352 - val_loss: 0.6772 - val_accuracy: 0.5753\n",
      "Epoch 9/100\n",
      "32/32 [==============================] - 0s 3ms/step - loss: 0.6774 - accuracy: 0.5509 - val_loss: 0.6748 - val_accuracy: 0.5936\n",
      "Epoch 10/100\n",
      "32/32 [==============================] - 0s 3ms/step - loss: 0.6751 - accuracy: 0.5783 - val_loss: 0.6724 - val_accuracy: 0.6164\n",
      "Epoch 11/100\n",
      "32/32 [==============================] - 0s 3ms/step - loss: 0.6728 - accuracy: 0.6027 - val_loss: 0.6699 - val_accuracy: 0.6621\n",
      "Epoch 12/100\n",
      "32/32 [==============================] - 0s 3ms/step - loss: 0.6704 - accuracy: 0.6067 - val_loss: 0.6676 - val_accuracy: 0.6941\n",
      "Epoch 13/100\n",
      "32/32 [==============================] - 0s 3ms/step - loss: 0.6679 - accuracy: 0.7055 - val_loss: 0.6648 - val_accuracy: 0.7169\n",
      "Epoch 14/100\n",
      "32/32 [==============================] - 0s 4ms/step - loss: 0.6655 - accuracy: 0.7006 - val_loss: 0.6621 - val_accuracy: 0.7215\n",
      "Epoch 15/100\n",
      "32/32 [==============================] - 0s 4ms/step - loss: 0.6627 - accuracy: 0.7299 - val_loss: 0.6593 - val_accuracy: 0.7397\n",
      "Epoch 16/100\n",
      "32/32 [==============================] - 0s 4ms/step - loss: 0.6598 - accuracy: 0.7544 - val_loss: 0.6561 - val_accuracy: 0.7580\n",
      "Epoch 17/100\n",
      "32/32 [==============================] - 0s 4ms/step - loss: 0.6567 - accuracy: 0.7554 - val_loss: 0.6528 - val_accuracy: 0.7626\n",
      "Epoch 18/100\n",
      "32/32 [==============================] - 0s 4ms/step - loss: 0.6534 - accuracy: 0.7681 - val_loss: 0.6492 - val_accuracy: 0.7808\n",
      "Epoch 19/100\n",
      "32/32 [==============================] - 0s 4ms/step - loss: 0.6498 - accuracy: 0.7730 - val_loss: 0.6455 - val_accuracy: 0.7945\n",
      "Epoch 20/100\n",
      "32/32 [==============================] - 0s 4ms/step - loss: 0.6463 - accuracy: 0.7798 - val_loss: 0.6417 - val_accuracy: 0.8037\n",
      "Epoch 21/100\n",
      "32/32 [==============================] - 0s 3ms/step - loss: 0.6422 - accuracy: 0.7828 - val_loss: 0.6377 - val_accuracy: 0.8082\n",
      "Epoch 22/100\n",
      "32/32 [==============================] - 0s 4ms/step - loss: 0.6383 - accuracy: 0.7886 - val_loss: 0.6334 - val_accuracy: 0.8174\n",
      "Epoch 23/100\n",
      "32/32 [==============================] - 0s 4ms/step - loss: 0.6337 - accuracy: 0.8131 - val_loss: 0.6283 - val_accuracy: 0.8037\n",
      "Epoch 24/100\n",
      "32/32 [==============================] - 0s 4ms/step - loss: 0.6292 - accuracy: 0.8014 - val_loss: 0.6234 - val_accuracy: 0.8037\n",
      "Epoch 25/100\n",
      "32/32 [==============================] - 0s 4ms/step - loss: 0.6243 - accuracy: 0.8033 - val_loss: 0.6186 - val_accuracy: 0.8174\n",
      "Epoch 26/100\n",
      "32/32 [==============================] - 0s 4ms/step - loss: 0.6190 - accuracy: 0.8014 - val_loss: 0.6134 - val_accuracy: 0.8174\n",
      "Epoch 27/100\n",
      "32/32 [==============================] - 0s 4ms/step - loss: 0.6137 - accuracy: 0.8082 - val_loss: 0.6080 - val_accuracy: 0.8356\n",
      "Epoch 28/100\n",
      "32/32 [==============================] - 0s 3ms/step - loss: 0.6079 - accuracy: 0.8288 - val_loss: 0.6018 - val_accuracy: 0.8311\n",
      "Epoch 29/100\n",
      "32/32 [==============================] - 0s 3ms/step - loss: 0.6019 - accuracy: 0.8327 - val_loss: 0.5954 - val_accuracy: 0.8356\n",
      "Epoch 30/100\n",
      "32/32 [==============================] - 0s 3ms/step - loss: 0.5957 - accuracy: 0.8268 - val_loss: 0.5892 - val_accuracy: 0.8584\n",
      "Epoch 31/100\n",
      "32/32 [==============================] - 0s 4ms/step - loss: 0.5890 - accuracy: 0.8317 - val_loss: 0.5827 - val_accuracy: 0.8676\n",
      "Epoch 32/100\n",
      "32/32 [==============================] - 0s 3ms/step - loss: 0.5822 - accuracy: 0.8434 - val_loss: 0.5753 - val_accuracy: 0.8721\n",
      "Epoch 33/100\n",
      "32/32 [==============================] - 0s 2ms/step - loss: 0.5751 - accuracy: 0.8405 - val_loss: 0.5681 - val_accuracy: 0.8721\n",
      "Epoch 34/100\n",
      "32/32 [==============================] - 0s 3ms/step - loss: 0.5677 - accuracy: 0.8464 - val_loss: 0.5607 - val_accuracy: 0.8721\n",
      "Epoch 35/100\n",
      "32/32 [==============================] - 0s 3ms/step - loss: 0.5601 - accuracy: 0.8493 - val_loss: 0.5530 - val_accuracy: 0.8721\n",
      "Epoch 36/100\n",
      "32/32 [==============================] - 0s 3ms/step - loss: 0.5523 - accuracy: 0.8483 - val_loss: 0.5449 - val_accuracy: 0.8813\n",
      "Epoch 37/100\n",
      "32/32 [==============================] - 0s 4ms/step - loss: 0.5443 - accuracy: 0.8562 - val_loss: 0.5364 - val_accuracy: 0.8813\n",
      "Epoch 38/100\n",
      "32/32 [==============================] - 0s 4ms/step - loss: 0.5362 - accuracy: 0.8552 - val_loss: 0.5284 - val_accuracy: 0.8767\n",
      "Epoch 39/100\n",
      "32/32 [==============================] - 0s 3ms/step - loss: 0.5279 - accuracy: 0.8542 - val_loss: 0.5201 - val_accuracy: 0.8767\n",
      "Epoch 40/100\n",
      "32/32 [==============================] - 0s 3ms/step - loss: 0.5192 - accuracy: 0.8571 - val_loss: 0.5096 - val_accuracy: 0.8858\n",
      "Epoch 41/100\n",
      "32/32 [==============================] - 0s 2ms/step - loss: 0.5110 - accuracy: 0.8542 - val_loss: 0.5017 - val_accuracy: 0.8767\n",
      "Epoch 42/100\n",
      "32/32 [==============================] - 0s 4ms/step - loss: 0.5024 - accuracy: 0.8562 - val_loss: 0.4927 - val_accuracy: 0.8813\n",
      "Epoch 43/100\n",
      "32/32 [==============================] - 0s 3ms/step - loss: 0.4939 - accuracy: 0.8523 - val_loss: 0.4831 - val_accuracy: 0.8767\n",
      "Epoch 44/100\n",
      "32/32 [==============================] - 0s 3ms/step - loss: 0.4856 - accuracy: 0.8552 - val_loss: 0.4739 - val_accuracy: 0.8813\n",
      "Epoch 45/100\n",
      "32/32 [==============================] - 0s 3ms/step - loss: 0.4775 - accuracy: 0.8562 - val_loss: 0.4657 - val_accuracy: 0.8767\n",
      "Epoch 46/100\n",
      "32/32 [==============================] - 0s 3ms/step - loss: 0.4693 - accuracy: 0.8542 - val_loss: 0.4576 - val_accuracy: 0.8813\n",
      "Epoch 47/100\n",
      "32/32 [==============================] - 0s 3ms/step - loss: 0.4611 - accuracy: 0.8581 - val_loss: 0.4492 - val_accuracy: 0.8858\n",
      "Epoch 48/100\n",
      "32/32 [==============================] - 0s 4ms/step - loss: 0.4533 - accuracy: 0.8552 - val_loss: 0.4413 - val_accuracy: 0.8904\n",
      "Epoch 49/100\n",
      "32/32 [==============================] - 0s 4ms/step - loss: 0.4454 - accuracy: 0.8581 - val_loss: 0.4340 - val_accuracy: 0.8767\n",
      "Epoch 50/100\n",
      "32/32 [==============================] - 0s 4ms/step - loss: 0.4378 - accuracy: 0.8562 - val_loss: 0.4247 - val_accuracy: 0.8904\n",
      "Epoch 51/100\n",
      "32/32 [==============================] - 0s 4ms/step - loss: 0.4304 - accuracy: 0.8523 - val_loss: 0.4170 - val_accuracy: 0.8904\n",
      "Epoch 52/100\n",
      "32/32 [==============================] - 0s 4ms/step - loss: 0.4233 - accuracy: 0.8571 - val_loss: 0.4104 - val_accuracy: 0.8767\n",
      "Epoch 53/100\n",
      "32/32 [==============================] - 0s 4ms/step - loss: 0.4165 - accuracy: 0.8552 - val_loss: 0.4035 - val_accuracy: 0.8721\n",
      "Epoch 54/100\n",
      "32/32 [==============================] - 0s 5ms/step - loss: 0.4099 - accuracy: 0.8552 - val_loss: 0.3959 - val_accuracy: 0.8721\n",
      "Epoch 55/100\n",
      "32/32 [==============================] - 0s 4ms/step - loss: 0.4035 - accuracy: 0.8611 - val_loss: 0.3882 - val_accuracy: 0.8858\n",
      "Epoch 56/100\n",
      "32/32 [==============================] - 0s 4ms/step - loss: 0.3974 - accuracy: 0.8601 - val_loss: 0.3823 - val_accuracy: 0.8721\n",
      "Epoch 57/100\n",
      "32/32 [==============================] - 0s 3ms/step - loss: 0.3914 - accuracy: 0.8611 - val_loss: 0.3760 - val_accuracy: 0.8721\n",
      "Epoch 58/100\n",
      "32/32 [==============================] - 0s 4ms/step - loss: 0.3861 - accuracy: 0.8601 - val_loss: 0.3716 - val_accuracy: 0.8767\n",
      "Epoch 59/100\n",
      "32/32 [==============================] - 0s 4ms/step - loss: 0.3811 - accuracy: 0.8630 - val_loss: 0.3654 - val_accuracy: 0.8767\n",
      "Epoch 60/100\n",
      "32/32 [==============================] - 0s 4ms/step - loss: 0.3762 - accuracy: 0.8630 - val_loss: 0.3610 - val_accuracy: 0.8813\n",
      "Epoch 61/100\n",
      "32/32 [==============================] - 0s 5ms/step - loss: 0.3713 - accuracy: 0.8659 - val_loss: 0.3535 - val_accuracy: 0.8676\n",
      "Epoch 62/100\n",
      "32/32 [==============================] - 0s 5ms/step - loss: 0.3672 - accuracy: 0.8659 - val_loss: 0.3489 - val_accuracy: 0.8721\n",
      "Epoch 63/100\n",
      "32/32 [==============================] - 0s 4ms/step - loss: 0.3629 - accuracy: 0.8650 - val_loss: 0.3441 - val_accuracy: 0.8721\n",
      "Epoch 64/100\n",
      "32/32 [==============================] - 0s 4ms/step - loss: 0.3587 - accuracy: 0.8640 - val_loss: 0.3418 - val_accuracy: 0.8813\n",
      "Epoch 65/100\n",
      "32/32 [==============================] - 0s 4ms/step - loss: 0.3550 - accuracy: 0.8659 - val_loss: 0.3379 - val_accuracy: 0.8813\n",
      "Epoch 66/100\n",
      "32/32 [==============================] - 0s 4ms/step - loss: 0.3509 - accuracy: 0.8650 - val_loss: 0.3311 - val_accuracy: 0.8767\n",
      "Epoch 67/100\n",
      "32/32 [==============================] - 0s 4ms/step - loss: 0.3475 - accuracy: 0.8659 - val_loss: 0.3303 - val_accuracy: 0.8767\n",
      "Epoch 68/100\n",
      "32/32 [==============================] - 0s 3ms/step - loss: 0.3446 - accuracy: 0.8630 - val_loss: 0.3238 - val_accuracy: 0.8767\n",
      "Epoch 69/100\n",
      "32/32 [==============================] - 0s 3ms/step - loss: 0.3414 - accuracy: 0.8699 - val_loss: 0.3212 - val_accuracy: 0.8813\n",
      "Epoch 70/100\n",
      "32/32 [==============================] - 0s 4ms/step - loss: 0.3387 - accuracy: 0.8679 - val_loss: 0.3170 - val_accuracy: 0.8858\n",
      "Epoch 71/100\n",
      "32/32 [==============================] - 0s 3ms/step - loss: 0.3362 - accuracy: 0.8679 - val_loss: 0.3151 - val_accuracy: 0.8767\n",
      "Epoch 72/100\n",
      "32/32 [==============================] - 0s 4ms/step - loss: 0.3338 - accuracy: 0.8659 - val_loss: 0.3111 - val_accuracy: 0.8904\n",
      "Epoch 73/100\n",
      "32/32 [==============================] - 0s 4ms/step - loss: 0.3310 - accuracy: 0.8748 - val_loss: 0.3077 - val_accuracy: 0.8813\n",
      "Epoch 74/100\n",
      "32/32 [==============================] - 0s 3ms/step - loss: 0.3285 - accuracy: 0.8738 - val_loss: 0.3073 - val_accuracy: 0.8813\n",
      "Epoch 75/100\n",
      "32/32 [==============================] - 0s 3ms/step - loss: 0.3266 - accuracy: 0.8699 - val_loss: 0.3040 - val_accuracy: 0.8813\n",
      "Epoch 76/100\n",
      "32/32 [==============================] - 0s 3ms/step - loss: 0.3239 - accuracy: 0.8659 - val_loss: 0.2997 - val_accuracy: 0.8813\n",
      "Epoch 77/100\n",
      "32/32 [==============================] - 0s 4ms/step - loss: 0.3223 - accuracy: 0.8708 - val_loss: 0.2980 - val_accuracy: 0.8858\n",
      "Epoch 78/100\n",
      "32/32 [==============================] - 0s 5ms/step - loss: 0.3199 - accuracy: 0.8699 - val_loss: 0.2953 - val_accuracy: 0.8904\n",
      "Epoch 79/100\n",
      "32/32 [==============================] - 0s 5ms/step - loss: 0.3182 - accuracy: 0.8718 - val_loss: 0.2925 - val_accuracy: 0.8767\n",
      "Epoch 80/100\n",
      "32/32 [==============================] - 0s 4ms/step - loss: 0.3166 - accuracy: 0.8669 - val_loss: 0.2921 - val_accuracy: 0.8950\n",
      "Epoch 81/100\n",
      "32/32 [==============================] - 0s 3ms/step - loss: 0.3151 - accuracy: 0.8728 - val_loss: 0.2902 - val_accuracy: 0.8950\n",
      "Epoch 82/100\n",
      "32/32 [==============================] - 0s 3ms/step - loss: 0.3136 - accuracy: 0.8738 - val_loss: 0.2878 - val_accuracy: 0.8995\n",
      "Epoch 83/100\n",
      "32/32 [==============================] - 0s 3ms/step - loss: 0.3113 - accuracy: 0.8689 - val_loss: 0.2890 - val_accuracy: 0.8995\n",
      "Epoch 84/100\n",
      "32/32 [==============================] - 0s 4ms/step - loss: 0.3112 - accuracy: 0.8757 - val_loss: 0.2843 - val_accuracy: 0.9041\n",
      "Epoch 85/100\n",
      "32/32 [==============================] - 0s 3ms/step - loss: 0.3093 - accuracy: 0.8708 - val_loss: 0.2840 - val_accuracy: 0.8995\n",
      "Epoch 86/100\n",
      "32/32 [==============================] - 0s 3ms/step - loss: 0.3077 - accuracy: 0.8767 - val_loss: 0.2795 - val_accuracy: 0.8904\n",
      "Epoch 87/100\n",
      "32/32 [==============================] - 0s 3ms/step - loss: 0.3059 - accuracy: 0.8748 - val_loss: 0.2806 - val_accuracy: 0.8995\n",
      "Epoch 88/100\n",
      "32/32 [==============================] - 0s 3ms/step - loss: 0.3054 - accuracy: 0.8748 - val_loss: 0.2762 - val_accuracy: 0.8950\n",
      "Epoch 89/100\n",
      "32/32 [==============================] - 0s 3ms/step - loss: 0.3039 - accuracy: 0.8708 - val_loss: 0.2762 - val_accuracy: 0.9041\n",
      "Epoch 90/100\n",
      "32/32 [==============================] - 0s 7ms/step - loss: 0.3032 - accuracy: 0.8767 - val_loss: 0.2750 - val_accuracy: 0.8995\n",
      "Epoch 91/100\n",
      "32/32 [==============================] - 0s 5ms/step - loss: 0.3018 - accuracy: 0.8757 - val_loss: 0.2727 - val_accuracy: 0.9041\n",
      "Epoch 92/100\n",
      "32/32 [==============================] - 0s 3ms/step - loss: 0.3006 - accuracy: 0.8767 - val_loss: 0.2713 - val_accuracy: 0.9041\n",
      "Epoch 93/100\n",
      "32/32 [==============================] - 0s 3ms/step - loss: 0.2996 - accuracy: 0.8796 - val_loss: 0.2697 - val_accuracy: 0.9041\n",
      "Epoch 94/100\n",
      "32/32 [==============================] - 0s 4ms/step - loss: 0.2985 - accuracy: 0.8757 - val_loss: 0.2681 - val_accuracy: 0.9041\n",
      "Epoch 95/100\n",
      "32/32 [==============================] - 0s 3ms/step - loss: 0.2976 - accuracy: 0.8748 - val_loss: 0.2667 - val_accuracy: 0.8950\n",
      "Epoch 96/100\n",
      "32/32 [==============================] - 0s 3ms/step - loss: 0.2957 - accuracy: 0.8757 - val_loss: 0.2725 - val_accuracy: 0.8995\n",
      "Epoch 97/100\n",
      "32/32 [==============================] - 0s 3ms/step - loss: 0.2969 - accuracy: 0.8767 - val_loss: 0.2650 - val_accuracy: 0.9041\n",
      "Epoch 98/100\n",
      "32/32 [==============================] - 0s 4ms/step - loss: 0.2949 - accuracy: 0.8787 - val_loss: 0.2632 - val_accuracy: 0.9087\n",
      "Epoch 99/100\n",
      "32/32 [==============================] - 0s 3ms/step - loss: 0.2945 - accuracy: 0.8796 - val_loss: 0.2625 - val_accuracy: 0.9041\n",
      "Epoch 100/100\n",
      "32/32 [==============================] - 0s 3ms/step - loss: 0.2939 - accuracy: 0.8787 - val_loss: 0.2617 - val_accuracy: 0.9041\n"
     ]
    }
   ],
   "source": [
    "hist = model.fit(X_train, Y_train,\n",
    "         batch_size=32, epochs=100,\n",
    "         validation_data=(X_val, Y_val))"
   ]
  },
  {
   "cell_type": "code",
   "execution_count": 73,
   "metadata": {},
   "outputs": [
    {
     "name": "stdout",
     "output_type": "stream",
     "text": [
      "7/7 [==============================] - 0s 3ms/step - loss: 0.2954 - accuracy: 0.9041\n"
     ]
    },
    {
     "data": {
      "text/plain": [
       "[0.2953718304634094, 0.9041095972061157]"
      ]
     },
     "execution_count": 73,
     "metadata": {},
     "output_type": "execute_result"
    }
   ],
   "source": [
    "model.evaluate(X_test, Y_test)"
   ]
  },
  {
   "cell_type": "code",
   "execution_count": 74,
   "metadata": {},
   "outputs": [],
   "source": [
    "import matplotlib.pyplot as plt"
   ]
  },
  {
   "cell_type": "code",
   "execution_count": 75,
   "metadata": {},
   "outputs": [
    {
     "data": {
      "image/png": "[encoded data removed]",
      "text/plain": [
       "<Figure size 432x288 with 1 Axes>"
      ]
     },
     "metadata": {
      "needs_background": "light"
     },
     "output_type": "display_data"
    }
   ],
   "source": [
    "plt.plot(hist.history['loss'])\n",
    "plt.plot(hist.history['val_loss'])\n",
    "plt.title('Model loss')\n",
    "plt.ylabel('loss')\n",
    "plt.xlabel('Epoch')\n",
    "plt.legend(['Train', 'Val'], loc='upper right')\n",
    "plt.show()"
   ]
  },
  {
   "cell_type": "code",
   "execution_count": 76,
   "metadata": {},
   "outputs": [
    {
     "data": {
      "image/png": "[encoded data removed]",
      "text/plain": [
       "<Figure size 432x288 with 1 Axes>"
      ]
     },
     "metadata": {
      "needs_background": "light"
     },
     "output_type": "display_data"
    }
   ],
   "source": [
    "plt.plot(hist.history['accuracy'])\n",
    "plt.plot(hist.history['val_accuracy'])\n",
    "plt.title('Model accuracy')\n",
    "plt.ylabel('Accuracy')\n",
    "plt.xlabel('Epoch')\n",
    "plt.legend(['Train', 'Val'], loc='lower right')\n",
    "plt.show()"
   ]
  },
  {
   "cell_type": "code",
   "execution_count": 77,
   "metadata": {},
   "outputs": [
    {
     "name": "stdout",
     "output_type": "stream",
     "text": [
      "Epoch 1/100\n",
      "32/32 [==============================] - 3s 41ms/step - loss: 0.4807 - accuracy: 0.7661 - val_loss: 0.3119 - val_accuracy: 0.8721\n",
      "Epoch 2/100\n",
      "32/32 [==============================] - 1s 32ms/step - loss: 0.3576 - accuracy: 0.8591 - val_loss: 0.2719 - val_accuracy: 0.8767\n",
      "Epoch 3/100\n",
      "32/32 [==============================] - 1s 33ms/step - loss: 0.3334 - accuracy: 0.8611 - val_loss: 0.2279 - val_accuracy: 0.9132\n",
      "Epoch 4/100\n",
      "32/32 [==============================] - 1s 35ms/step - loss: 0.3069 - accuracy: 0.8669 - val_loss: 0.2431 - val_accuracy: 0.8995\n",
      "Epoch 5/100\n",
      "32/32 [==============================] - 1s 35ms/step - loss: 0.2816 - accuracy: 0.8845 - val_loss: 0.2101 - val_accuracy: 0.8995\n",
      "Epoch 6/100\n",
      "32/32 [==============================] - 1s 36ms/step - loss: 0.2897 - accuracy: 0.8796 - val_loss: 0.2383 - val_accuracy: 0.8858\n",
      "Epoch 7/100\n",
      "32/32 [==============================] - 1s 33ms/step - loss: 0.2645 - accuracy: 0.8894 - val_loss: 0.2694 - val_accuracy: 0.8904\n",
      "Epoch 8/100\n",
      "32/32 [==============================] - 1s 31ms/step - loss: 0.2525 - accuracy: 0.8885 - val_loss: 0.1954 - val_accuracy: 0.9269\n",
      "Epoch 9/100\n",
      "11/32 [=========>....................] - ETA: 0s - loss: 0.2316 - accuracy: 0.9006"
     ]
    }
   ],
   "source": [
    "model_2=Sequential([\n",
    "   Dense(1000, activation='relu', input_shape=(10,)),\n",
    "   Dense(1000, activation='relu'),\n",
    "   Dense(1000, activation='relu'),\n",
    "   Dense(1000, activation='relu'),\n",
    "   Dense(1, activation='sigmoid'),\n",
    "])\n",
    "\n",
    "model_2.compile(optimizer='adam', \n",
    "               loss='binary_crossentropy',\n",
    "               metrics = ['accuracy'])\n",
    "\n",
    "hist_2 = model_2.fit(X_train, Y_train,\n",
    "         batch_size=32, epochs=100,\n",
    "         validation_data=(X_val, Y_val))\n",
    "            "
   ]
  },
  {
   "cell_type": "code",
   "execution_count": null,
   "metadata": {},
   "outputs": [],
   "source": []
  },
  {
   "cell_type": "code",
   "execution_count": null,
   "metadata": {},
   "outputs": [
    {
     "data": {
      "image/png": "[encoded data removed]",
      "text/plain": [
       "<Figure size 432x288 with 1 Axes>"
      ]
     },
     "metadata": {
      "needs_background": "light"
     },
     "output_type": "display_data"
    }
   ],
   "source": [
    "plt.plot(hist_2.history['loss'])\n",
    "plt.plot(hist_2.history['val_loss'])\n",
    "plt.title('Model loss')\n",
    "plt.ylabel('Loss')\n",
    "plt.xlabel('Epoch')\n",
    "plt.legend(['Train', 'Val'], loc='upper right')\n",
    "plt.show()"
   ]
  },
  {
   "cell_type": "markdown",
   "metadata": {},
   "source": [
    "#### This is a clear sign of over-fitting. The training loss is decreasing, but the validation loss is way above the training loss and increasing(past  the inflection point of Epoch 20). if we plot accuracy using the code below"
   ]
  },
  {
   "cell_type": "code",
   "execution_count": null,
   "metadata": {},
   "outputs": [
    {
     "data": {
      "image/png": "[encoded data removed]",
      "text/plain": [
       "<Figure size 432x288 with 1 Axes>"
      ]
     },
     "metadata": {
      "needs_background": "light"
     },
     "output_type": "display_data"
    }
   ],
   "source": [
    "plt.plot(hist_2.history['accuracy'])\n",
    "plt.plot(hist_2.history['val_accuracy'])\n",
    "plt.title('Model accuracy')\n",
    "plt.ylabel('Accuracy')\n",
    "plt.xlabel('Epoch')\n",
    "plt.legend(['Train', 'Val'], loc='lower right')\n",
    "plt.show()"
   ]
  },
  {
   "cell_type": "markdown",
   "metadata": {},
   "source": [
    "#### We can see a clearer divergence between train and validation accuracy as well:"
   ]
  },
  {
   "cell_type": "code",
   "execution_count": null,
   "metadata": {},
   "outputs": [],
   "source": [
    "import matplotlib.pyplot as plt "
   ]
  },
  {
   "cell_type": "code",
   "execution_count": null,
   "metadata": {},
   "outputs": [],
   "source": [
    "from keras.layers import Dropout\n",
    "from keras import regularizers"
   ]
  },
  {
   "cell_type": "code",
   "execution_count": null,
   "metadata": {},
   "outputs": [],
   "source": [
    "model_3 = Sequential([\n",
    "    Dense(1000, activation='relu', kernel_regularizer=regularizers.l2(0.01), input_shape=(10,)),\n",
    "    Dropout(0.3),\n",
    "    Dense(1000, activation='relu', kernel_regularizer=regularizers.l2(0.01)),\n",
    "    Dropout(0.3),\n",
    "    Dense(1000, activation='relu', kernel_regularizer=regularizers.l2(0.01)),\n",
    "    Dropout(0.3),\n",
    "    Dense(1000, activation='relu', kernel_regularizer=regularizers.l2(0.01)),\n",
    "    Dropout(0.3),\n",
    "    Dense(1, activation='sigmoid', kernel_regularizer=regularizers.l2(0.01)),\n",
    "])"
   ]
  },
  {
   "cell_type": "code",
   "execution_count": null,
   "metadata": {},
   "outputs": [
    {
     "name": "stdout",
     "output_type": "stream",
     "text": [
      "Epoch 1/100\n",
      "32/32 [==============================] - 15s 256ms/step - loss: 14.2291 - accuracy: 0.6155 - val_loss: 3.8686 - val_accuracy: 0.7717\n",
      "Epoch 2/100\n",
      "32/32 [==============================] - 6s 194ms/step - loss: 1.6942 - accuracy: 0.8004 - val_loss: 0.6909 - val_accuracy: 0.8447\n",
      "Epoch 3/100\n",
      "32/32 [==============================] - 6s 202ms/step - loss: 0.5821 - accuracy: 0.8425 - val_loss: 0.5077 - val_accuracy: 0.8721\n",
      "Epoch 4/100\n",
      "32/32 [==============================] - 6s 193ms/step - loss: 0.5086 - accuracy: 0.8689 - val_loss: 0.5199 - val_accuracy: 0.8584\n",
      "Epoch 5/100\n",
      "32/32 [==============================] - 8s 237ms/step - loss: 0.4759 - accuracy: 0.8777 - val_loss: 0.4652 - val_accuracy: 0.8995\n",
      "Epoch 6/100\n",
      "32/32 [==============================] - 7s 232ms/step - loss: 0.4853 - accuracy: 0.8738 - val_loss: 0.4680 - val_accuracy: 0.8950\n",
      "Epoch 7/100\n",
      "32/32 [==============================] - 7s 227ms/step - loss: 0.4686 - accuracy: 0.8836 - val_loss: 0.4621 - val_accuracy: 0.8858\n",
      "Epoch 8/100\n",
      "32/32 [==============================] - 7s 230ms/step - loss: 0.4491 - accuracy: 0.8924 - val_loss: 0.4622 - val_accuracy: 0.8813\n",
      "Epoch 9/100\n",
      "32/32 [==============================] - 8s 238ms/step - loss: 0.4606 - accuracy: 0.8836 - val_loss: 0.4912 - val_accuracy: 0.8584\n",
      "Epoch 10/100\n",
      "32/32 [==============================] - 7s 225ms/step - loss: 0.4809 - accuracy: 0.8699 - val_loss: 0.4528 - val_accuracy: 0.8950\n",
      "Epoch 11/100\n",
      "32/32 [==============================] - 7s 207ms/step - loss: 0.4510 - accuracy: 0.8787 - val_loss: 0.5141 - val_accuracy: 0.8402\n",
      "Epoch 12/100\n",
      "32/32 [==============================] - 6s 203ms/step - loss: 0.4542 - accuracy: 0.8826 - val_loss: 0.4440 - val_accuracy: 0.8995\n",
      "Epoch 13/100\n",
      "32/32 [==============================] - 7s 229ms/step - loss: 0.4350 - accuracy: 0.8885 - val_loss: 0.4736 - val_accuracy: 0.8858\n",
      "Epoch 14/100\n",
      "32/32 [==============================] - 7s 214ms/step - loss: 0.4303 - accuracy: 0.8914 - val_loss: 0.4670 - val_accuracy: 0.8858\n",
      "Epoch 15/100\n",
      "32/32 [==============================] - 7s 224ms/step - loss: 0.4515 - accuracy: 0.8836 - val_loss: 0.5198 - val_accuracy: 0.8584\n",
      "Epoch 16/100\n",
      "32/32 [==============================] - 7s 218ms/step - loss: 0.4337 - accuracy: 0.8943 - val_loss: 0.4404 - val_accuracy: 0.8950\n",
      "Epoch 17/100\n",
      "32/32 [==============================] - 7s 232ms/step - loss: 0.4235 - accuracy: 0.8885 - val_loss: 0.4404 - val_accuracy: 0.8813\n",
      "Epoch 18/100\n",
      "32/32 [==============================] - 7s 220ms/step - loss: 0.4287 - accuracy: 0.8845 - val_loss: 0.4502 - val_accuracy: 0.8858\n",
      "Epoch 19/100\n",
      "32/32 [==============================] - 7s 206ms/step - loss: 0.4356 - accuracy: 0.8904 - val_loss: 0.4886 - val_accuracy: 0.8630\n",
      "Epoch 20/100\n",
      "32/32 [==============================] - 7s 233ms/step - loss: 0.4408 - accuracy: 0.8836 - val_loss: 0.4412 - val_accuracy: 0.8813\n",
      "Epoch 21/100\n",
      "32/32 [==============================] - 7s 210ms/step - loss: 0.4324 - accuracy: 0.8894 - val_loss: 0.4361 - val_accuracy: 0.9087\n",
      "Epoch 22/100\n",
      "32/32 [==============================] - 6s 200ms/step - loss: 0.4342 - accuracy: 0.8914 - val_loss: 0.4355 - val_accuracy: 0.8995\n",
      "Epoch 23/100\n",
      "32/32 [==============================] - 7s 208ms/step - loss: 0.4257 - accuracy: 0.8826 - val_loss: 0.4467 - val_accuracy: 0.8904\n",
      "Epoch 24/100\n",
      "32/32 [==============================] - 7s 220ms/step - loss: 0.4346 - accuracy: 0.8826 - val_loss: 0.4458 - val_accuracy: 0.8904\n",
      "Epoch 25/100\n",
      "32/32 [==============================] - 8s 242ms/step - loss: 0.4225 - accuracy: 0.8933 - val_loss: 0.4518 - val_accuracy: 0.8904\n",
      "Epoch 26/100\n",
      "32/32 [==============================] - 7s 203ms/step - loss: 0.4205 - accuracy: 0.8933 - val_loss: 0.4755 - val_accuracy: 0.8721\n",
      "Epoch 27/100\n",
      "32/32 [==============================] - 7s 211ms/step - loss: 0.4283 - accuracy: 0.8845 - val_loss: 0.4325 - val_accuracy: 0.9041\n",
      "Epoch 28/100\n",
      "32/32 [==============================] - 6s 198ms/step - loss: 0.4408 - accuracy: 0.8924 - val_loss: 0.4369 - val_accuracy: 0.9087\n",
      "Epoch 29/100\n",
      "32/32 [==============================] - 7s 207ms/step - loss: 0.4528 - accuracy: 0.8767 - val_loss: 0.4508 - val_accuracy: 0.8767\n",
      "Epoch 30/100\n",
      "32/32 [==============================] - 6s 193ms/step - loss: 0.4429 - accuracy: 0.8904 - val_loss: 0.4339 - val_accuracy: 0.9041\n",
      "Epoch 31/100\n",
      "32/32 [==============================] - 6s 193ms/step - loss: 0.4227 - accuracy: 0.8787 - val_loss: 0.4283 - val_accuracy: 0.9041\n",
      "Epoch 32/100\n",
      "32/32 [==============================] - 6s 192ms/step - loss: 0.4302 - accuracy: 0.8796 - val_loss: 0.4903 - val_accuracy: 0.8539\n",
      "Epoch 33/100\n",
      "32/32 [==============================] - 6s 193ms/step - loss: 0.4268 - accuracy: 0.8826 - val_loss: 0.4280 - val_accuracy: 0.9087\n",
      "Epoch 34/100\n",
      "32/32 [==============================] - 6s 194ms/step - loss: 0.4375 - accuracy: 0.8787 - val_loss: 0.4939 - val_accuracy: 0.8584\n",
      "Epoch 35/100\n",
      "32/32 [==============================] - 7s 215ms/step - loss: 0.4244 - accuracy: 0.8865 - val_loss: 0.4980 - val_accuracy: 0.8584\n",
      "Epoch 36/100\n",
      "32/32 [==============================] - 7s 235ms/step - loss: 0.4261 - accuracy: 0.8904 - val_loss: 0.5464 - val_accuracy: 0.8174\n",
      "Epoch 37/100\n",
      "32/32 [==============================] - 6s 198ms/step - loss: 0.4544 - accuracy: 0.8699 - val_loss: 0.4387 - val_accuracy: 0.8995\n",
      "Epoch 38/100\n",
      "32/32 [==============================] - 6s 178ms/step - loss: 0.4243 - accuracy: 0.8826 - val_loss: 0.4426 - val_accuracy: 0.8904\n",
      "Epoch 39/100\n",
      "32/32 [==============================] - 6s 180ms/step - loss: 0.4222 - accuracy: 0.8885 - val_loss: 0.4324 - val_accuracy: 0.8721\n",
      "Epoch 40/100\n",
      "32/32 [==============================] - 6s 178ms/step - loss: 0.4246 - accuracy: 0.8894 - val_loss: 0.4594 - val_accuracy: 0.8813\n",
      "Epoch 41/100\n",
      "32/32 [==============================] - 6s 192ms/step - loss: 0.4088 - accuracy: 0.9002 - val_loss: 0.4381 - val_accuracy: 0.8676\n",
      "Epoch 42/100\n",
      "32/32 [==============================] - 6s 198ms/step - loss: 0.4259 - accuracy: 0.8855 - val_loss: 0.4726 - val_accuracy: 0.8676\n",
      "Epoch 43/100\n",
      "32/32 [==============================] - 6s 199ms/step - loss: 0.4321 - accuracy: 0.8757 - val_loss: 0.4929 - val_accuracy: 0.8584\n",
      "Epoch 44/100\n",
      "32/32 [==============================] - 7s 224ms/step - loss: 0.4250 - accuracy: 0.8796 - val_loss: 0.4291 - val_accuracy: 0.9041\n",
      "Epoch 45/100\n",
      "32/32 [==============================] - 7s 211ms/step - loss: 0.4136 - accuracy: 0.8933 - val_loss: 0.4502 - val_accuracy: 0.8904\n",
      "Epoch 46/100\n",
      "32/32 [==============================] - 7s 208ms/step - loss: 0.4280 - accuracy: 0.8924 - val_loss: 0.4257 - val_accuracy: 0.8995\n",
      "Epoch 47/100\n",
      "32/32 [==============================] - 6s 187ms/step - loss: 0.4227 - accuracy: 0.8836 - val_loss: 0.4383 - val_accuracy: 0.8904\n",
      "Epoch 48/100\n",
      "32/32 [==============================] - 6s 178ms/step - loss: 0.4205 - accuracy: 0.8894 - val_loss: 0.4302 - val_accuracy: 0.8995\n",
      "Epoch 49/100\n",
      "32/32 [==============================] - 6s 176ms/step - loss: 0.4176 - accuracy: 0.8894 - val_loss: 0.4260 - val_accuracy: 0.9041\n",
      "Epoch 50/100\n",
      "32/32 [==============================] - 6s 178ms/step - loss: 0.4223 - accuracy: 0.8885 - val_loss: 0.4262 - val_accuracy: 0.8995\n",
      "Epoch 51/100\n",
      "32/32 [==============================] - 5s 162ms/step - loss: 0.4162 - accuracy: 0.8924 - val_loss: 0.4262 - val_accuracy: 0.8858\n",
      "Epoch 52/100\n",
      "32/32 [==============================] - 6s 176ms/step - loss: 0.4303 - accuracy: 0.8855 - val_loss: 0.4299 - val_accuracy: 0.8995\n",
      "Epoch 53/100\n",
      "32/32 [==============================] - 6s 173ms/step - loss: 0.4253 - accuracy: 0.8816 - val_loss: 0.4696 - val_accuracy: 0.8721\n",
      "Epoch 54/100\n",
      "32/32 [==============================] - 5s 164ms/step - loss: 0.4216 - accuracy: 0.8836 - val_loss: 0.5007 - val_accuracy: 0.8630\n",
      "Epoch 55/100\n",
      "32/32 [==============================] - 6s 194ms/step - loss: 0.4214 - accuracy: 0.8748 - val_loss: 0.4305 - val_accuracy: 0.8950\n",
      "Epoch 56/100\n",
      "32/32 [==============================] - 7s 222ms/step - loss: 0.4174 - accuracy: 0.8904 - val_loss: 0.4259 - val_accuracy: 0.9087\n",
      "Epoch 57/100\n",
      "32/32 [==============================] - 6s 191ms/step - loss: 0.4295 - accuracy: 0.8836 - val_loss: 0.4360 - val_accuracy: 0.8995\n",
      "Epoch 58/100\n",
      "32/32 [==============================] - 5s 171ms/step - loss: 0.4312 - accuracy: 0.8806 - val_loss: 0.4261 - val_accuracy: 0.9087\n",
      "Epoch 59/100\n",
      "32/32 [==============================] - 6s 178ms/step - loss: 0.4151 - accuracy: 0.8904 - val_loss: 0.4397 - val_accuracy: 0.8904\n",
      "Epoch 60/100\n",
      "32/32 [==============================] - 6s 191ms/step - loss: 0.4162 - accuracy: 0.8826 - val_loss: 0.4663 - val_accuracy: 0.8767\n",
      "Epoch 61/100\n",
      "32/32 [==============================] - 6s 178ms/step - loss: 0.4435 - accuracy: 0.8767 - val_loss: 0.4250 - val_accuracy: 0.9041\n",
      "Epoch 62/100\n",
      "32/32 [==============================] - 5s 168ms/step - loss: 0.4146 - accuracy: 0.8865 - val_loss: 0.4309 - val_accuracy: 0.8995\n",
      "Epoch 63/100\n",
      "32/32 [==============================] - 5s 166ms/step - loss: 0.4171 - accuracy: 0.8943 - val_loss: 0.4309 - val_accuracy: 0.8950\n",
      "Epoch 64/100\n",
      "32/32 [==============================] - 5s 169ms/step - loss: 0.4208 - accuracy: 0.8855 - val_loss: 0.4311 - val_accuracy: 0.8995\n",
      "Epoch 65/100\n",
      "32/32 [==============================] - 5s 167ms/step - loss: 0.4181 - accuracy: 0.8894 - val_loss: 0.4246 - val_accuracy: 0.8995\n",
      "Epoch 66/100\n",
      "32/32 [==============================] - 6s 176ms/step - loss: 0.4224 - accuracy: 0.8816 - val_loss: 0.4425 - val_accuracy: 0.8630\n",
      "Epoch 67/100\n",
      "32/32 [==============================] - 6s 185ms/step - loss: 0.4215 - accuracy: 0.8865 - val_loss: 0.4271 - val_accuracy: 0.8995\n",
      "Epoch 68/100\n",
      "32/32 [==============================] - 5s 171ms/step - loss: 0.4281 - accuracy: 0.8875 - val_loss: 0.4298 - val_accuracy: 0.9087\n",
      "Epoch 69/100\n",
      "32/32 [==============================] - 6s 174ms/step - loss: 0.4140 - accuracy: 0.8885 - val_loss: 0.4457 - val_accuracy: 0.8904\n",
      "Epoch 70/100\n",
      "32/32 [==============================] - 6s 174ms/step - loss: 0.4177 - accuracy: 0.8845 - val_loss: 0.4289 - val_accuracy: 0.9132\n",
      "Epoch 71/100\n",
      "32/32 [==============================] - 6s 174ms/step - loss: 0.4161 - accuracy: 0.8943 - val_loss: 0.4246 - val_accuracy: 0.9087\n",
      "Epoch 72/100\n",
      "32/32 [==============================] - 5s 158ms/step - loss: 0.4369 - accuracy: 0.8816 - val_loss: 0.4342 - val_accuracy: 0.9041\n",
      "Epoch 73/100\n",
      "32/32 [==============================] - 5s 164ms/step - loss: 0.4262 - accuracy: 0.8826 - val_loss: 0.4250 - val_accuracy: 0.8950\n",
      "Epoch 74/100\n",
      "32/32 [==============================] - 5s 169ms/step - loss: 0.4172 - accuracy: 0.8865 - val_loss: 0.4462 - val_accuracy: 0.8584\n",
      "Epoch 75/100\n",
      "32/32 [==============================] - 5s 162ms/step - loss: 0.4161 - accuracy: 0.8924 - val_loss: 0.4402 - val_accuracy: 0.8676\n",
      "Epoch 76/100\n",
      "32/32 [==============================] - 5s 164ms/step - loss: 0.4373 - accuracy: 0.8806 - val_loss: 0.4297 - val_accuracy: 0.8995\n",
      "Epoch 77/100\n",
      "32/32 [==============================] - 5s 161ms/step - loss: 0.4186 - accuracy: 0.8885 - val_loss: 0.4300 - val_accuracy: 0.9087\n",
      "Epoch 78/100\n",
      "32/32 [==============================] - 4s 139ms/step - loss: 0.4102 - accuracy: 0.8992 - val_loss: 0.4249 - val_accuracy: 0.9087\n",
      "Epoch 79/100\n",
      "32/32 [==============================] - 5s 146ms/step - loss: 0.4451 - accuracy: 0.8816 - val_loss: 0.4654 - val_accuracy: 0.8721\n",
      "Epoch 80/100\n",
      "32/32 [==============================] - 4s 137ms/step - loss: 0.4247 - accuracy: 0.8826 - val_loss: 0.4554 - val_accuracy: 0.8767\n",
      "Epoch 81/100\n",
      "32/32 [==============================] - 4s 135ms/step - loss: 0.4146 - accuracy: 0.8924 - val_loss: 0.4393 - val_accuracy: 0.8950\n",
      "Epoch 82/100\n",
      "32/32 [==============================] - 4s 137ms/step - loss: 0.4246 - accuracy: 0.8894 - val_loss: 0.4352 - val_accuracy: 0.8904\n",
      "Epoch 83/100\n",
      "32/32 [==============================] - 4s 137ms/step - loss: 0.4230 - accuracy: 0.8845 - val_loss: 0.4349 - val_accuracy: 0.8676\n",
      "Epoch 84/100\n",
      "32/32 [==============================] - 5s 143ms/step - loss: 0.4059 - accuracy: 0.8924 - val_loss: 0.4245 - val_accuracy: 0.8767\n",
      "Epoch 85/100\n",
      "32/32 [==============================] - 4s 140ms/step - loss: 0.4579 - accuracy: 0.8787 - val_loss: 0.4391 - val_accuracy: 0.8813\n",
      "Epoch 86/100\n",
      "32/32 [==============================] - 4s 136ms/step - loss: 0.4299 - accuracy: 0.8904 - val_loss: 0.4316 - val_accuracy: 0.8721\n",
      "Epoch 87/100\n",
      "32/32 [==============================] - 4s 139ms/step - loss: 0.4309 - accuracy: 0.8894 - val_loss: 0.4252 - val_accuracy: 0.8767\n",
      "Epoch 88/100\n",
      "32/32 [==============================] - 4s 129ms/step - loss: 0.4154 - accuracy: 0.8836 - val_loss: 0.4267 - val_accuracy: 0.8995\n",
      "Epoch 89/100\n",
      "32/32 [==============================] - 4s 137ms/step - loss: 0.4119 - accuracy: 0.8816 - val_loss: 0.4460 - val_accuracy: 0.8950\n",
      "Epoch 90/100\n",
      "32/32 [==============================] - 4s 133ms/step - loss: 0.4190 - accuracy: 0.8836 - val_loss: 0.4306 - val_accuracy: 0.8950\n",
      "Epoch 91/100\n",
      "32/32 [==============================] - 5s 144ms/step - loss: 0.4289 - accuracy: 0.8777 - val_loss: 0.4591 - val_accuracy: 0.8767\n",
      "Epoch 92/100\n",
      "32/32 [==============================] - 4s 133ms/step - loss: 0.4329 - accuracy: 0.8796 - val_loss: 0.4246 - val_accuracy: 0.8995\n",
      "Epoch 93/100\n",
      "32/32 [==============================] - 4s 140ms/step - loss: 0.4151 - accuracy: 0.8865 - val_loss: 0.4579 - val_accuracy: 0.8904\n",
      "Epoch 94/100\n",
      "32/32 [==============================] - 5s 163ms/step - loss: 0.4401 - accuracy: 0.8640 - val_loss: 0.4250 - val_accuracy: 0.8995\n",
      "Epoch 95/100\n",
      "32/32 [==============================] - 5s 172ms/step - loss: 0.4154 - accuracy: 0.8924 - val_loss: 0.4945 - val_accuracy: 0.8676\n",
      "Epoch 96/100\n",
      "32/32 [==============================] - 5s 145ms/step - loss: 0.4252 - accuracy: 0.8845 - val_loss: 0.4601 - val_accuracy: 0.8813\n",
      "Epoch 97/100\n",
      "32/32 [==============================] - 5s 146ms/step - loss: 0.4248 - accuracy: 0.8924 - val_loss: 0.4267 - val_accuracy: 0.9087\n",
      "Epoch 98/100\n",
      "32/32 [==============================] - 4s 141ms/step - loss: 0.4126 - accuracy: 0.9002 - val_loss: 0.4414 - val_accuracy: 0.8950\n",
      "Epoch 99/100\n",
      "32/32 [==============================] - 4s 141ms/step - loss: 0.4210 - accuracy: 0.8806 - val_loss: 0.4376 - val_accuracy: 0.8950\n",
      "Epoch 100/100\n",
      "32/32 [==============================] - 4s 139ms/step - loss: 0.4172 - accuracy: 0.8865 - val_loss: 0.4777 - val_accuracy: 0.8676\n"
     ]
    }
   ],
   "source": [
    "model_3.compile(optimizer='adam',\n",
    "              loss='binary_crossentropy',\n",
    "              metrics=['accuracy'])\n",
    "              \n",
    "hist_3 = model_3.fit(X_train, Y_train,\n",
    "          batch_size=32, epochs=100,\n",
    "          validation_data=(X_val, Y_val))"
   ]
  },
  {
   "cell_type": "markdown",
   "metadata": {},
   "source": [
    "#### We'll get a loss graph that looks like this:"
   ]
  },
  {
   "cell_type": "code",
   "execution_count": null,
   "metadata": {},
   "outputs": [
    {
     "data": {
      "image/png": "[encoded data removed]",
      "text/plain": [
       "<Figure size 432x288 with 1 Axes>"
      ]
     },
     "metadata": {
      "needs_background": "light"
     },
     "output_type": "display_data"
    }
   ],
   "source": [
    "plt.plot(hist_3.history['loss'])\n",
    "plt.plot(hist_3.history['val_loss'])\n",
    "plt.title('Model loss')\n",
    "plt.ylabel('Loss')\n",
    "plt.xlabel('Epoch')\n",
    "plt.legend(['Train', 'Val'], loc='upper right')\n",
    "plt.ylim(top=1.2, bottom=0)\n",
    "plt.show()"
   ]
  },
  {
   "cell_type": "markdown",
   "metadata": {},
   "source": [
    "#### You can see that the validation loss much more closely matches our training our training loss. Let's plot the accuracy with similar code snippet:"
   ]
  },
  {
   "cell_type": "code",
   "execution_count": null,
   "metadata": {},
   "outputs": [
    {
     "data": {
      "image/png": "[encoded data removed]",
      "text/plain": [
       "<Figure size 432x288 with 1 Axes>"
      ]
     },
     "metadata": {
      "needs_background": "light"
     },
     "output_type": "display_data"
    }
   ],
   "source": [
    "plt.plot(hist_3.history['accuracy'])\n",
    "plt.plot(hist_3.history['val_accuracy'])\n",
    "plt.title('Model accuracy')\n",
    "plt.ylabel('Accuracy')\n",
    "plt.xlabel('Epoch')\n",
    "plt.legend(['Train', 'Val'], loc='lower right')\n",
    "plt.show()"
   ]
  },
  {
   "cell_type": "markdown",
   "metadata": {},
   "source": [
    "And We wikk get a plot like this:"
   ]
  }
 ],
 "metadata": {
  "interpreter": {
   "hash": "cb837109e84fd2b5122c59630c1be78d7120f3118f9e1f602b03fb353ee2ac28"
  },
  "kernelspec": {
   "display_name": "Python 3.8.6 64-bit",
   "name": "python3"
  },
  "language_info": {
   "codemirror_mode": {
    "name": "ipython",
    "version": 3
   },
   "file_extension": ".py",
   "mimetype": "text/x-python",
   "name": "python",
   "nbconvert_exporter": "python",
   "pygments_lexer": "ipython3",
   "version": "3.8.6"
  },
  "orig_nbformat": 4
 },
 "nbformat": 4,
 "nbformat_minor": 2
}
