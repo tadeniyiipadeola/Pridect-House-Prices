{
 "cells": [
  {
   "cell_type": "code",
   "execution_count": 7,
   "metadata": {},
   "outputs": [
    {
     "data": {
      "text/html": [
       "<div>\n",
       "<style scoped>\n",
       "    .dataframe tbody tr th:only-of-type {\n",
       "        vertical-align: middle;\n",
       "    }\n",
       "\n",
       "    .dataframe tbody tr th {\n",
       "        vertical-align: top;\n",
       "    }\n",
       "\n",
       "    .dataframe thead th {\n",
       "        text-align: right;\n",
       "    }\n",
       "</style>\n",
       "<table border=\"1\" class=\"dataframe\">\n",
       "  <thead>\n",
       "    <tr style=\"text-align: right;\">\n",
       "      <th></th>\n",
       "      <th>LotArea</th>\n",
       "      <th>OverallQual</th>\n",
       "      <th>OverallCond</th>\n",
       "      <th>TotalBsmtSF</th>\n",
       "      <th>FullBath</th>\n",
       "      <th>HalfBath</th>\n",
       "      <th>BedroomAbvGr</th>\n",
       "      <th>TotRmsAbvGrd</th>\n",
       "      <th>Fireplaces</th>\n",
       "      <th>GarageArea</th>\n",
       "      <th>AboveMedianPrice</th>\n",
       "    </tr>\n",
       "  </thead>\n",
       "  <tbody>\n",
       "    <tr>\n",
       "      <th>0</th>\n",
       "      <td>8450</td>\n",
       "      <td>7</td>\n",
       "      <td>5</td>\n",
       "      <td>856</td>\n",
       "      <td>2</td>\n",
       "      <td>1</td>\n",
       "      <td>3</td>\n",
       "      <td>8</td>\n",
       "      <td>0</td>\n",
       "      <td>548</td>\n",
       "      <td>1</td>\n",
       "    </tr>\n",
       "    <tr>\n",
       "      <th>1</th>\n",
       "      <td>9600</td>\n",
       "      <td>6</td>\n",
       "      <td>8</td>\n",
       "      <td>1262</td>\n",
       "      <td>2</td>\n",
       "      <td>0</td>\n",
       "      <td>3</td>\n",
       "      <td>6</td>\n",
       "      <td>1</td>\n",
       "      <td>460</td>\n",
       "      <td>1</td>\n",
       "    </tr>\n",
       "    <tr>\n",
       "      <th>2</th>\n",
       "      <td>11250</td>\n",
       "      <td>7</td>\n",
       "      <td>5</td>\n",
       "      <td>920</td>\n",
       "      <td>2</td>\n",
       "      <td>1</td>\n",
       "      <td>3</td>\n",
       "      <td>6</td>\n",
       "      <td>1</td>\n",
       "      <td>608</td>\n",
       "      <td>1</td>\n",
       "    </tr>\n",
       "    <tr>\n",
       "      <th>3</th>\n",
       "      <td>9550</td>\n",
       "      <td>7</td>\n",
       "      <td>5</td>\n",
       "      <td>756</td>\n",
       "      <td>1</td>\n",
       "      <td>0</td>\n",
       "      <td>3</td>\n",
       "      <td>7</td>\n",
       "      <td>1</td>\n",
       "      <td>642</td>\n",
       "      <td>0</td>\n",
       "    </tr>\n",
       "    <tr>\n",
       "      <th>4</th>\n",
       "      <td>14260</td>\n",
       "      <td>8</td>\n",
       "      <td>5</td>\n",
       "      <td>1145</td>\n",
       "      <td>2</td>\n",
       "      <td>1</td>\n",
       "      <td>4</td>\n",
       "      <td>9</td>\n",
       "      <td>1</td>\n",
       "      <td>836</td>\n",
       "      <td>1</td>\n",
       "    </tr>\n",
       "    <tr>\n",
       "      <th>...</th>\n",
       "      <td>...</td>\n",
       "      <td>...</td>\n",
       "      <td>...</td>\n",
       "      <td>...</td>\n",
       "      <td>...</td>\n",
       "      <td>...</td>\n",
       "      <td>...</td>\n",
       "      <td>...</td>\n",
       "      <td>...</td>\n",
       "      <td>...</td>\n",
       "      <td>...</td>\n",
       "    </tr>\n",
       "    <tr>\n",
       "      <th>1455</th>\n",
       "      <td>7917</td>\n",
       "      <td>6</td>\n",
       "      <td>5</td>\n",
       "      <td>953</td>\n",
       "      <td>2</td>\n",
       "      <td>1</td>\n",
       "      <td>3</td>\n",
       "      <td>7</td>\n",
       "      <td>1</td>\n",
       "      <td>460</td>\n",
       "      <td>1</td>\n",
       "    </tr>\n",
       "    <tr>\n",
       "      <th>1456</th>\n",
       "      <td>13175</td>\n",
       "      <td>6</td>\n",
       "      <td>6</td>\n",
       "      <td>1542</td>\n",
       "      <td>2</td>\n",
       "      <td>0</td>\n",
       "      <td>3</td>\n",
       "      <td>7</td>\n",
       "      <td>2</td>\n",
       "      <td>500</td>\n",
       "      <td>1</td>\n",
       "    </tr>\n",
       "    <tr>\n",
       "      <th>1457</th>\n",
       "      <td>9042</td>\n",
       "      <td>7</td>\n",
       "      <td>9</td>\n",
       "      <td>1152</td>\n",
       "      <td>2</td>\n",
       "      <td>0</td>\n",
       "      <td>4</td>\n",
       "      <td>9</td>\n",
       "      <td>2</td>\n",
       "      <td>252</td>\n",
       "      <td>1</td>\n",
       "    </tr>\n",
       "    <tr>\n",
       "      <th>1458</th>\n",
       "      <td>9717</td>\n",
       "      <td>5</td>\n",
       "      <td>6</td>\n",
       "      <td>1078</td>\n",
       "      <td>1</td>\n",
       "      <td>0</td>\n",
       "      <td>2</td>\n",
       "      <td>5</td>\n",
       "      <td>0</td>\n",
       "      <td>240</td>\n",
       "      <td>0</td>\n",
       "    </tr>\n",
       "    <tr>\n",
       "      <th>1459</th>\n",
       "      <td>9937</td>\n",
       "      <td>5</td>\n",
       "      <td>6</td>\n",
       "      <td>1256</td>\n",
       "      <td>1</td>\n",
       "      <td>1</td>\n",
       "      <td>3</td>\n",
       "      <td>6</td>\n",
       "      <td>0</td>\n",
       "      <td>276</td>\n",
       "      <td>0</td>\n",
       "    </tr>\n",
       "  </tbody>\n",
       "</table>\n",
       "<p>1460 rows × 11 columns</p>\n",
       "</div>"
      ],
      "text/plain": [
       "      LotArea  OverallQual  OverallCond  TotalBsmtSF  FullBath  HalfBath  \\\n",
       "0        8450            7            5          856         2         1   \n",
       "1        9600            6            8         1262         2         0   \n",
       "2       11250            7            5          920         2         1   \n",
       "3        9550            7            5          756         1         0   \n",
       "4       14260            8            5         1145         2         1   \n",
       "...       ...          ...          ...          ...       ...       ...   \n",
       "1455     7917            6            5          953         2         1   \n",
       "1456    13175            6            6         1542         2         0   \n",
       "1457     9042            7            9         1152         2         0   \n",
       "1458     9717            5            6         1078         1         0   \n",
       "1459     9937            5            6         1256         1         1   \n",
       "\n",
       "      BedroomAbvGr  TotRmsAbvGrd  Fireplaces  GarageArea  AboveMedianPrice  \n",
       "0                3             8           0         548                 1  \n",
       "1                3             6           1         460                 1  \n",
       "2                3             6           1         608                 1  \n",
       "3                3             7           1         642                 0  \n",
       "4                4             9           1         836                 1  \n",
       "...            ...           ...         ...         ...               ...  \n",
       "1455             3             7           1         460                 1  \n",
       "1456             3             7           2         500                 1  \n",
       "1457             4             9           2         252                 1  \n",
       "1458             2             5           0         240                 0  \n",
       "1459             3             6           0         276                 0  \n",
       "\n",
       "[1460 rows x 11 columns]"
      ]
     },
     "execution_count": 7,
     "metadata": {},
     "output_type": "execute_result"
    }
   ],
   "source": [
    "import pandas as pd \n",
    "\n",
    "df = pd.read_csv('housepricedata.csv')\n",
    "\n",
    "df\n"
   ]
  },
  {
   "cell_type": "code",
   "execution_count": 8,
   "metadata": {},
   "outputs": [],
   "source": [
    "dataset = df.values"
   ]
  },
  {
   "cell_type": "code",
   "execution_count": 9,
   "metadata": {},
   "outputs": [
    {
     "data": {
      "text/plain": [
       "array([[ 8450,     7,     5, ...,     0,   548,     1],\n",
       "       [ 9600,     6,     8, ...,     1,   460,     1],\n",
       "       [11250,     7,     5, ...,     1,   608,     1],\n",
       "       ...,\n",
       "       [ 9042,     7,     9, ...,     2,   252,     1],\n",
       "       [ 9717,     5,     6, ...,     0,   240,     0],\n",
       "       [ 9937,     5,     6, ...,     0,   276,     0]], dtype=int64)"
      ]
     },
     "execution_count": 9,
     "metadata": {},
     "output_type": "execute_result"
    }
   ],
   "source": [
    "dataset"
   ]
  },
  {
   "cell_type": "code",
   "execution_count": 10,
   "metadata": {},
   "outputs": [],
   "source": [
    "X=dataset[:,0:10]"
   ]
  },
  {
   "cell_type": "code",
   "execution_count": 11,
   "metadata": {},
   "outputs": [
    {
     "data": {
      "text/plain": [
       "array([[ 8450,     7,     5, ...,     8,     0,   548],\n",
       "       [ 9600,     6,     8, ...,     6,     1,   460],\n",
       "       [11250,     7,     5, ...,     6,     1,   608],\n",
       "       ...,\n",
       "       [ 9042,     7,     9, ...,     9,     2,   252],\n",
       "       [ 9717,     5,     6, ...,     5,     0,   240],\n",
       "       [ 9937,     5,     6, ...,     6,     0,   276]], dtype=int64)"
      ]
     },
     "execution_count": 11,
     "metadata": {},
     "output_type": "execute_result"
    }
   ],
   "source": [
    "X"
   ]
  },
  {
   "cell_type": "code",
   "execution_count": 12,
   "metadata": {},
   "outputs": [],
   "source": [
    "Y = dataset[:,10]"
   ]
  },
  {
   "cell_type": "code",
   "execution_count": 13,
   "metadata": {},
   "outputs": [
    {
     "data": {
      "text/plain": [
       "array([1, 1, 1, ..., 1, 0, 0], dtype=int64)"
      ]
     },
     "execution_count": 13,
     "metadata": {},
     "output_type": "execute_result"
    }
   ],
   "source": [
    "Y"
   ]
  },
  {
   "cell_type": "code",
   "execution_count": 16,
   "metadata": {},
   "outputs": [],
   "source": [
    "from sklearn import preprocessing"
   ]
  },
  {
   "cell_type": "code",
   "execution_count": 17,
   "metadata": {},
   "outputs": [],
   "source": [
    "min_max_scaler = preprocessing.MinMaxScaler()\n",
    "x_scale = min_max_scaler.fit_transform(X)"
   ]
  },
  {
   "cell_type": "code",
   "execution_count": 18,
   "metadata": {},
   "outputs": [
    {
     "data": {
      "text/plain": [
       "array([[0.0334198 , 0.66666667, 0.5       , ..., 0.5       , 0.        ,\n",
       "        0.3864598 ],\n",
       "       [0.03879502, 0.55555556, 0.875     , ..., 0.33333333, 0.33333333,\n",
       "        0.32440056],\n",
       "       [0.04650728, 0.66666667, 0.5       , ..., 0.33333333, 0.33333333,\n",
       "        0.42877292],\n",
       "       ...,\n",
       "       [0.03618687, 0.66666667, 1.        , ..., 0.58333333, 0.66666667,\n",
       "        0.17771509],\n",
       "       [0.03934189, 0.44444444, 0.625     , ..., 0.25      , 0.        ,\n",
       "        0.16925247],\n",
       "       [0.04037019, 0.44444444, 0.625     , ..., 0.33333333, 0.        ,\n",
       "        0.19464034]])"
      ]
     },
     "execution_count": 18,
     "metadata": {},
     "output_type": "execute_result"
    }
   ],
   "source": [
    "x_scale"
   ]
  },
  {
   "cell_type": "code",
   "execution_count": 19,
   "metadata": {},
   "outputs": [],
   "source": [
    "from sklearn.model_selection import train_test_split"
   ]
  },
  {
   "cell_type": "code",
   "execution_count": 20,
   "metadata": {},
   "outputs": [],
   "source": [
    "X_train, X_val_and_test, Y_train, Y_val_and_test = train_test_split(x_scale, Y, test_size=0.3)"
   ]
  },
  {
   "cell_type": "code",
   "execution_count": 21,
   "metadata": {},
   "outputs": [],
   "source": [
    "X_val, X_test, Y_val, Y_test = train_test_split(X_val_and_test, Y_val_and_test, test_size=0.5)"
   ]
  },
  {
   "cell_type": "code",
   "execution_count": 22,
   "metadata": {},
   "outputs": [
    {
     "name": "stdout",
     "output_type": "stream",
     "text": [
      "(1022, 10) (219, 10) (219, 10) (1022,) (219,) (219,)\n"
     ]
    }
   ],
   "source": [
    "print(X_train.shape, X_val.shape, X_test.shape, Y_train.shape, Y_val.shape, Y_test.shape)"
   ]
  },
  {
   "cell_type": "code",
   "execution_count": 23,
   "metadata": {},
   "outputs": [],
   "source": [
    "import tensorflow as tf"
   ]
  },
  {
   "cell_type": "code",
   "execution_count": 24,
   "metadata": {},
   "outputs": [],
   "source": [
    "from tensorflow.keras.models import Sequential\n"
   ]
  },
  {
   "cell_type": "code",
   "execution_count": 25,
   "metadata": {},
   "outputs": [],
   "source": [
    "import tensorflow as tf\n",
    "from tensorflow.keras.models import Sequential\n"
   ]
  },
  {
   "cell_type": "code",
   "execution_count": 26,
   "metadata": {},
   "outputs": [],
   "source": [
    "from keras.models import Sequential\n",
    "from keras.layers import Dense"
   ]
  },
  {
   "cell_type": "code",
   "execution_count": 27,
   "metadata": {},
   "outputs": [],
   "source": [
    "model = Sequential([\n",
    "   Dense(32, activation='relu', input_shape=(10,)),\n",
    "   Dense(32, activation='relu'),\n",
    "   Dense(1, activation='sigmoid'),\n",
    "])"
   ]
  },
  {
   "cell_type": "code",
   "execution_count": 28,
   "metadata": {},
   "outputs": [],
   "source": [
    "model.compile(optimizer='sgd',\n",
    "               loss='binary_crossentropy',\n",
    "               metrics=['accuracy'])"
   ]
  },
  {
   "cell_type": "code",
   "execution_count": 29,
   "metadata": {},
   "outputs": [
    {
     "name": "stdout",
     "output_type": "stream",
     "text": [
      "Epoch 1/100\n",
      "32/32 [==============================] - 2s 23ms/step - loss: 0.6976 - accuracy: 0.4932 - val_loss: 0.6978 - val_accuracy: 0.4612\n",
      "Epoch 2/100\n",
      "32/32 [==============================] - 0s 6ms/step - loss: 0.6919 - accuracy: 0.4932 - val_loss: 0.6925 - val_accuracy: 0.4612\n",
      "Epoch 3/100\n",
      "32/32 [==============================] - 0s 9ms/step - loss: 0.6866 - accuracy: 0.4932 - val_loss: 0.6877 - val_accuracy: 0.4612\n",
      "Epoch 4/100\n",
      "32/32 [==============================] - 0s 9ms/step - loss: 0.6814 - accuracy: 0.4980 - val_loss: 0.6830 - val_accuracy: 0.4658\n",
      "Epoch 5/100\n",
      "32/32 [==============================] - 0s 7ms/step - loss: 0.6764 - accuracy: 0.5000 - val_loss: 0.6783 - val_accuracy: 0.4703\n",
      "Epoch 6/100\n",
      "32/32 [==============================] - 0s 8ms/step - loss: 0.6714 - accuracy: 0.5078 - val_loss: 0.6733 - val_accuracy: 0.5023\n",
      "Epoch 7/100\n",
      "32/32 [==============================] - 0s 9ms/step - loss: 0.6660 - accuracy: 0.5342 - val_loss: 0.6683 - val_accuracy: 0.5616\n",
      "Epoch 8/100\n",
      "32/32 [==============================] - 0s 8ms/step - loss: 0.6609 - accuracy: 0.6047 - val_loss: 0.6635 - val_accuracy: 0.6119\n",
      "Epoch 9/100\n",
      "32/32 [==============================] - 0s 7ms/step - loss: 0.6558 - accuracy: 0.6849 - val_loss: 0.6589 - val_accuracy: 0.6575\n",
      "Epoch 10/100\n",
      "32/32 [==============================] - 0s 10ms/step - loss: 0.6507 - accuracy: 0.6781 - val_loss: 0.6538 - val_accuracy: 0.6986\n",
      "Epoch 11/100\n",
      "32/32 [==============================] - 0s 8ms/step - loss: 0.6457 - accuracy: 0.7114 - val_loss: 0.6488 - val_accuracy: 0.7032\n",
      "Epoch 12/100\n",
      "32/32 [==============================] - 0s 8ms/step - loss: 0.6404 - accuracy: 0.7172 - val_loss: 0.6435 - val_accuracy: 0.7260\n",
      "Epoch 13/100\n",
      "32/32 [==============================] - 0s 8ms/step - loss: 0.6348 - accuracy: 0.7358 - val_loss: 0.6382 - val_accuracy: 0.7397\n",
      "Epoch 14/100\n",
      "32/32 [==============================] - 0s 7ms/step - loss: 0.6292 - accuracy: 0.7456 - val_loss: 0.6324 - val_accuracy: 0.7534\n",
      "Epoch 15/100\n",
      "32/32 [==============================] - 0s 6ms/step - loss: 0.6234 - accuracy: 0.7769 - val_loss: 0.6266 - val_accuracy: 0.7808\n",
      "Epoch 16/100\n",
      "32/32 [==============================] - 0s 6ms/step - loss: 0.6172 - accuracy: 0.8043 - val_loss: 0.6205 - val_accuracy: 0.7854\n",
      "Epoch 17/100\n",
      "32/32 [==============================] - 0s 7ms/step - loss: 0.6109 - accuracy: 0.8112 - val_loss: 0.6142 - val_accuracy: 0.7808\n",
      "Epoch 18/100\n",
      "32/32 [==============================] - 0s 6ms/step - loss: 0.6041 - accuracy: 0.8053 - val_loss: 0.6074 - val_accuracy: 0.8037\n",
      "Epoch 19/100\n",
      "32/32 [==============================] - 0s 6ms/step - loss: 0.5971 - accuracy: 0.8190 - val_loss: 0.6003 - val_accuracy: 0.8037\n",
      "Epoch 20/100\n",
      "32/32 [==============================] - 0s 7ms/step - loss: 0.5896 - accuracy: 0.8288 - val_loss: 0.5934 - val_accuracy: 0.8037\n",
      "Epoch 21/100\n",
      "32/32 [==============================] - 0s 6ms/step - loss: 0.5820 - accuracy: 0.8317 - val_loss: 0.5856 - val_accuracy: 0.8037\n",
      "Epoch 22/100\n",
      "32/32 [==============================] - 0s 6ms/step - loss: 0.5741 - accuracy: 0.8317 - val_loss: 0.5779 - val_accuracy: 0.8082\n",
      "Epoch 23/100\n",
      "32/32 [==============================] - 0s 5ms/step - loss: 0.5662 - accuracy: 0.8395 - val_loss: 0.5703 - val_accuracy: 0.8037\n",
      "Epoch 24/100\n",
      "32/32 [==============================] - 0s 5ms/step - loss: 0.5582 - accuracy: 0.8405 - val_loss: 0.5626 - val_accuracy: 0.8037\n",
      "Epoch 25/100\n",
      "32/32 [==============================] - 0s 5ms/step - loss: 0.5496 - accuracy: 0.8434 - val_loss: 0.5539 - val_accuracy: 0.8174\n",
      "Epoch 26/100\n",
      "32/32 [==============================] - 0s 6ms/step - loss: 0.5419 - accuracy: 0.8523 - val_loss: 0.5459 - val_accuracy: 0.8174\n",
      "Epoch 27/100\n",
      "32/32 [==============================] - 0s 6ms/step - loss: 0.5337 - accuracy: 0.8513 - val_loss: 0.5378 - val_accuracy: 0.8174\n",
      "Epoch 28/100\n",
      "32/32 [==============================] - 0s 5ms/step - loss: 0.5252 - accuracy: 0.8513 - val_loss: 0.5294 - val_accuracy: 0.8128\n",
      "Epoch 29/100\n",
      "32/32 [==============================] - 0s 5ms/step - loss: 0.5169 - accuracy: 0.8532 - val_loss: 0.5211 - val_accuracy: 0.8219\n",
      "Epoch 30/100\n",
      "32/32 [==============================] - 0s 6ms/step - loss: 0.5082 - accuracy: 0.8591 - val_loss: 0.5125 - val_accuracy: 0.8219\n",
      "Epoch 31/100\n",
      "32/32 [==============================] - 0s 6ms/step - loss: 0.4995 - accuracy: 0.8581 - val_loss: 0.5039 - val_accuracy: 0.8356\n",
      "Epoch 32/100\n",
      "32/32 [==============================] - 0s 5ms/step - loss: 0.4908 - accuracy: 0.8650 - val_loss: 0.4954 - val_accuracy: 0.8356\n",
      "Epoch 33/100\n",
      "32/32 [==============================] - 0s 5ms/step - loss: 0.4823 - accuracy: 0.8611 - val_loss: 0.4871 - val_accuracy: 0.8356\n",
      "Epoch 34/100\n",
      "32/32 [==============================] - 0s 6ms/step - loss: 0.4737 - accuracy: 0.8640 - val_loss: 0.4792 - val_accuracy: 0.8356\n",
      "Epoch 35/100\n",
      "32/32 [==============================] - 0s 5ms/step - loss: 0.4655 - accuracy: 0.8620 - val_loss: 0.4717 - val_accuracy: 0.8356\n",
      "Epoch 36/100\n",
      "32/32 [==============================] - 0s 4ms/step - loss: 0.4576 - accuracy: 0.8669 - val_loss: 0.4642 - val_accuracy: 0.8356\n",
      "Epoch 37/100\n",
      "32/32 [==============================] - 0s 4ms/step - loss: 0.4500 - accuracy: 0.8689 - val_loss: 0.4567 - val_accuracy: 0.8356\n",
      "Epoch 38/100\n",
      "32/32 [==============================] - 0s 4ms/step - loss: 0.4421 - accuracy: 0.8640 - val_loss: 0.4502 - val_accuracy: 0.8402\n",
      "Epoch 39/100\n",
      "32/32 [==============================] - 0s 3ms/step - loss: 0.4351 - accuracy: 0.8708 - val_loss: 0.4432 - val_accuracy: 0.8265\n",
      "Epoch 40/100\n",
      "32/32 [==============================] - 0s 3ms/step - loss: 0.4276 - accuracy: 0.8708 - val_loss: 0.4370 - val_accuracy: 0.8311\n",
      "Epoch 41/100\n",
      "32/32 [==============================] - 0s 3ms/step - loss: 0.4211 - accuracy: 0.8659 - val_loss: 0.4307 - val_accuracy: 0.8402\n",
      "Epoch 42/100\n",
      "32/32 [==============================] - 0s 4ms/step - loss: 0.4140 - accuracy: 0.8708 - val_loss: 0.4249 - val_accuracy: 0.8402\n",
      "Epoch 43/100\n",
      "32/32 [==============================] - 0s 4ms/step - loss: 0.4080 - accuracy: 0.8620 - val_loss: 0.4193 - val_accuracy: 0.8402\n",
      "Epoch 44/100\n",
      "32/32 [==============================] - 0s 3ms/step - loss: 0.4012 - accuracy: 0.8689 - val_loss: 0.4141 - val_accuracy: 0.8493\n",
      "Epoch 45/100\n",
      "32/32 [==============================] - 0s 3ms/step - loss: 0.3956 - accuracy: 0.8708 - val_loss: 0.4091 - val_accuracy: 0.8493\n",
      "Epoch 46/100\n",
      "32/32 [==============================] - 0s 3ms/step - loss: 0.3895 - accuracy: 0.8728 - val_loss: 0.4042 - val_accuracy: 0.8447\n",
      "Epoch 47/100\n",
      "32/32 [==============================] - 0s 3ms/step - loss: 0.3842 - accuracy: 0.8738 - val_loss: 0.3997 - val_accuracy: 0.8402\n",
      "Epoch 48/100\n",
      "32/32 [==============================] - 0s 4ms/step - loss: 0.3789 - accuracy: 0.8718 - val_loss: 0.3953 - val_accuracy: 0.8493\n",
      "Epoch 49/100\n",
      "32/32 [==============================] - 0s 3ms/step - loss: 0.3741 - accuracy: 0.8757 - val_loss: 0.3914 - val_accuracy: 0.8539\n",
      "Epoch 50/100\n",
      "32/32 [==============================] - 0s 3ms/step - loss: 0.3690 - accuracy: 0.8777 - val_loss: 0.3877 - val_accuracy: 0.8493\n",
      "Epoch 51/100\n",
      "32/32 [==============================] - 0s 3ms/step - loss: 0.3645 - accuracy: 0.8757 - val_loss: 0.3842 - val_accuracy: 0.8493\n",
      "Epoch 52/100\n",
      "32/32 [==============================] - 0s 3ms/step - loss: 0.3604 - accuracy: 0.8738 - val_loss: 0.3806 - val_accuracy: 0.8493\n",
      "Epoch 53/100\n",
      "32/32 [==============================] - 0s 3ms/step - loss: 0.3561 - accuracy: 0.8826 - val_loss: 0.3777 - val_accuracy: 0.8447\n",
      "Epoch 54/100\n",
      "32/32 [==============================] - 0s 3ms/step - loss: 0.3520 - accuracy: 0.8757 - val_loss: 0.3750 - val_accuracy: 0.8447\n",
      "Epoch 55/100\n",
      "32/32 [==============================] - 0s 3ms/step - loss: 0.3481 - accuracy: 0.8796 - val_loss: 0.3717 - val_accuracy: 0.8493\n",
      "Epoch 56/100\n",
      "32/32 [==============================] - 0s 3ms/step - loss: 0.3445 - accuracy: 0.8836 - val_loss: 0.3694 - val_accuracy: 0.8493\n",
      "Epoch 57/100\n",
      "32/32 [==============================] - 0s 5ms/step - loss: 0.3411 - accuracy: 0.8806 - val_loss: 0.3671 - val_accuracy: 0.8493\n",
      "Epoch 58/100\n",
      "32/32 [==============================] - 0s 3ms/step - loss: 0.3381 - accuracy: 0.8796 - val_loss: 0.3644 - val_accuracy: 0.8493\n",
      "Epoch 59/100\n",
      "32/32 [==============================] - 0s 3ms/step - loss: 0.3348 - accuracy: 0.8836 - val_loss: 0.3624 - val_accuracy: 0.8493\n",
      "Epoch 60/100\n",
      "32/32 [==============================] - 0s 4ms/step - loss: 0.3318 - accuracy: 0.8826 - val_loss: 0.3605 - val_accuracy: 0.8539\n",
      "Epoch 61/100\n",
      "32/32 [==============================] - 0s 3ms/step - loss: 0.3290 - accuracy: 0.8836 - val_loss: 0.3588 - val_accuracy: 0.8493\n",
      "Epoch 62/100\n",
      "32/32 [==============================] - 0s 3ms/step - loss: 0.3262 - accuracy: 0.8826 - val_loss: 0.3571 - val_accuracy: 0.8493\n",
      "Epoch 63/100\n",
      "32/32 [==============================] - 0s 3ms/step - loss: 0.3233 - accuracy: 0.8836 - val_loss: 0.3554 - val_accuracy: 0.8447\n",
      "Epoch 64/100\n",
      "32/32 [==============================] - 0s 3ms/step - loss: 0.3218 - accuracy: 0.8816 - val_loss: 0.3537 - val_accuracy: 0.8402\n",
      "Epoch 65/100\n",
      "32/32 [==============================] - 0s 3ms/step - loss: 0.3197 - accuracy: 0.8845 - val_loss: 0.3523 - val_accuracy: 0.8447\n",
      "Epoch 66/100\n",
      "32/32 [==============================] - 0s 4ms/step - loss: 0.3174 - accuracy: 0.8806 - val_loss: 0.3513 - val_accuracy: 0.8539\n",
      "Epoch 67/100\n",
      "32/32 [==============================] - 0s 4ms/step - loss: 0.3156 - accuracy: 0.8836 - val_loss: 0.3501 - val_accuracy: 0.8630\n",
      "Epoch 68/100\n",
      "32/32 [==============================] - 0s 4ms/step - loss: 0.3138 - accuracy: 0.8845 - val_loss: 0.3490 - val_accuracy: 0.8584\n",
      "Epoch 69/100\n",
      "32/32 [==============================] - 0s 3ms/step - loss: 0.3120 - accuracy: 0.8845 - val_loss: 0.3475 - val_accuracy: 0.8493\n",
      "Epoch 70/100\n",
      "32/32 [==============================] - 0s 3ms/step - loss: 0.3102 - accuracy: 0.8855 - val_loss: 0.3464 - val_accuracy: 0.8539\n",
      "Epoch 71/100\n",
      "32/32 [==============================] - 0s 3ms/step - loss: 0.3079 - accuracy: 0.8865 - val_loss: 0.3456 - val_accuracy: 0.8539\n",
      "Epoch 72/100\n",
      "32/32 [==============================] - 0s 3ms/step - loss: 0.3065 - accuracy: 0.8836 - val_loss: 0.3461 - val_accuracy: 0.8630\n",
      "Epoch 73/100\n",
      "32/32 [==============================] - 0s 2ms/step - loss: 0.3053 - accuracy: 0.8894 - val_loss: 0.3435 - val_accuracy: 0.8630\n",
      "Epoch 74/100\n",
      "32/32 [==============================] - 0s 2ms/step - loss: 0.3038 - accuracy: 0.8885 - val_loss: 0.3434 - val_accuracy: 0.8539\n",
      "Epoch 75/100\n",
      "32/32 [==============================] - 0s 3ms/step - loss: 0.3022 - accuracy: 0.8865 - val_loss: 0.3418 - val_accuracy: 0.8584\n",
      "Epoch 76/100\n",
      "32/32 [==============================] - 0s 3ms/step - loss: 0.3009 - accuracy: 0.8875 - val_loss: 0.3411 - val_accuracy: 0.8493\n",
      "Epoch 77/100\n",
      "32/32 [==============================] - 0s 3ms/step - loss: 0.2997 - accuracy: 0.8875 - val_loss: 0.3402 - val_accuracy: 0.8584\n",
      "Epoch 78/100\n",
      "32/32 [==============================] - 0s 3ms/step - loss: 0.2993 - accuracy: 0.8894 - val_loss: 0.3396 - val_accuracy: 0.8584\n",
      "Epoch 79/100\n",
      "32/32 [==============================] - 0s 3ms/step - loss: 0.2975 - accuracy: 0.8836 - val_loss: 0.3395 - val_accuracy: 0.8584\n",
      "Epoch 80/100\n",
      "32/32 [==============================] - 0s 3ms/step - loss: 0.2965 - accuracy: 0.8855 - val_loss: 0.3385 - val_accuracy: 0.8584\n",
      "Epoch 81/100\n",
      "32/32 [==============================] - 0s 3ms/step - loss: 0.2953 - accuracy: 0.8875 - val_loss: 0.3377 - val_accuracy: 0.8630\n",
      "Epoch 82/100\n",
      "32/32 [==============================] - 0s 3ms/step - loss: 0.2943 - accuracy: 0.8894 - val_loss: 0.3374 - val_accuracy: 0.8584\n",
      "Epoch 83/100\n",
      "32/32 [==============================] - 0s 4ms/step - loss: 0.2918 - accuracy: 0.8904 - val_loss: 0.3425 - val_accuracy: 0.8630\n",
      "Epoch 84/100\n",
      "32/32 [==============================] - 0s 4ms/step - loss: 0.2935 - accuracy: 0.8865 - val_loss: 0.3352 - val_accuracy: 0.8539\n",
      "Epoch 85/100\n",
      "32/32 [==============================] - 0s 4ms/step - loss: 0.2918 - accuracy: 0.8904 - val_loss: 0.3345 - val_accuracy: 0.8539\n",
      "Epoch 86/100\n",
      "32/32 [==============================] - 0s 5ms/step - loss: 0.2916 - accuracy: 0.8845 - val_loss: 0.3342 - val_accuracy: 0.8584\n",
      "Epoch 87/100\n",
      "32/32 [==============================] - 0s 4ms/step - loss: 0.2898 - accuracy: 0.8855 - val_loss: 0.3338 - val_accuracy: 0.8630\n",
      "Epoch 88/100\n",
      "32/32 [==============================] - 0s 4ms/step - loss: 0.2893 - accuracy: 0.8865 - val_loss: 0.3329 - val_accuracy: 0.8584\n",
      "Epoch 89/100\n",
      "32/32 [==============================] - 0s 2ms/step - loss: 0.2881 - accuracy: 0.8875 - val_loss: 0.3320 - val_accuracy: 0.8539\n",
      "Epoch 90/100\n",
      "32/32 [==============================] - 0s 3ms/step - loss: 0.2875 - accuracy: 0.8806 - val_loss: 0.3314 - val_accuracy: 0.8584\n",
      "Epoch 91/100\n",
      "32/32 [==============================] - 0s 3ms/step - loss: 0.2868 - accuracy: 0.8845 - val_loss: 0.3311 - val_accuracy: 0.8584\n",
      "Epoch 92/100\n",
      "32/32 [==============================] - 0s 3ms/step - loss: 0.2861 - accuracy: 0.8885 - val_loss: 0.3300 - val_accuracy: 0.8584\n",
      "Epoch 93/100\n",
      "32/32 [==============================] - 0s 3ms/step - loss: 0.2859 - accuracy: 0.8865 - val_loss: 0.3303 - val_accuracy: 0.8584\n",
      "Epoch 94/100\n",
      "32/32 [==============================] - 0s 3ms/step - loss: 0.2850 - accuracy: 0.8855 - val_loss: 0.3289 - val_accuracy: 0.8584\n",
      "Epoch 95/100\n",
      "32/32 [==============================] - 0s 3ms/step - loss: 0.2836 - accuracy: 0.8865 - val_loss: 0.3288 - val_accuracy: 0.8584\n",
      "Epoch 96/100\n",
      "32/32 [==============================] - 0s 3ms/step - loss: 0.2836 - accuracy: 0.8836 - val_loss: 0.3283 - val_accuracy: 0.8584\n",
      "Epoch 97/100\n",
      "32/32 [==============================] - 0s 3ms/step - loss: 0.2823 - accuracy: 0.8885 - val_loss: 0.3271 - val_accuracy: 0.8584\n",
      "Epoch 98/100\n",
      "32/32 [==============================] - 0s 4ms/step - loss: 0.2814 - accuracy: 0.8845 - val_loss: 0.3274 - val_accuracy: 0.8584\n",
      "Epoch 99/100\n",
      "32/32 [==============================] - 0s 4ms/step - loss: 0.2812 - accuracy: 0.8875 - val_loss: 0.3267 - val_accuracy: 0.8584\n",
      "Epoch 100/100\n",
      "32/32 [==============================] - 0s 2ms/step - loss: 0.2813 - accuracy: 0.8865 - val_loss: 0.3251 - val_accuracy: 0.8584\n"
     ]
    }
   ],
   "source": [
    "hist = model.fit(X_train, Y_train,\n",
    "         batch_size=32, epochs=100,\n",
    "         validation_data=(X_val, Y_val))"
   ]
  },
  {
   "cell_type": "code",
   "execution_count": 30,
   "metadata": {},
   "outputs": [
    {
     "name": "stdout",
     "output_type": "stream",
     "text": [
      "7/7 [==============================] - 0s 2ms/step - loss: 0.2732 - accuracy: 0.8950\n"
     ]
    },
    {
     "data": {
      "text/plain": [
       "[0.2731989622116089, 0.8949771523475647]"
      ]
     },
     "execution_count": 30,
     "metadata": {},
     "output_type": "execute_result"
    }
   ],
   "source": [
    "model.evaluate(X_test, Y_test)"
   ]
  },
  {
   "cell_type": "code",
   "execution_count": 32,
   "metadata": {},
   "outputs": [],
   "source": [
    "import matplotlib.pyplot as plt"
   ]
  },
  {
   "cell_type": "code",
   "execution_count": 33,
   "metadata": {},
   "outputs": [
    {
     "data": {
      "image/png": "[encoded data removed]",
      "text/plain": [
       "<Figure size 432x288 with 1 Axes>"
      ]
     },
     "metadata": {
      "needs_background": "light"
     },
     "output_type": "display_data"
    }
   ],
   "source": [
    "plt.plot(hist.history['loss'])\n",
    "plt.plot(hist.history['val_loss'])\n",
    "plt.title('Model loss')\n",
    "plt.ylabel('loss')\n",
    "plt.xlabel('Epoch')\n",
    "plt.legend(['Train', 'Val'], loc='upper right')\n",
    "plt.show()"
   ]
  },
  {
   "cell_type": "code",
   "execution_count": 43,
   "metadata": {},
   "outputs": [
    {
     "data": {
      "image/png": "[encoded data removed]",
      "text/plain": [
       "<Figure size 432x288 with 1 Axes>"
      ]
     },
     "metadata": {
      "needs_background": "light"
     },
     "output_type": "display_data"
    }
   ],
   "source": [
    "plt.plot(hist.history['accuracy'])\n",
    "plt.plot(hist.history['val_accuracy'])\n",
    "plt.title('Model accuracy')\n",
    "plt.ylabel('Accuracy')\n",
    "plt.xlabel('Epoch')\n",
    "plt.legend(['Train', 'Val'], loc='lower right')\n",
    "plt.show()"
   ]
  },
  {
   "cell_type": "code",
   "execution_count": 55,
   "metadata": {},
   "outputs": [
    {
     "name": "stdout",
     "output_type": "stream",
     "text": [
      "Epoch 1/100\n",
      "32/32 [==============================] - 7s 75ms/step - loss: 0.4877 - accuracy: 0.7769 - val_loss: 0.3972 - val_accuracy: 0.8265\n",
      "Epoch 2/100\n",
      "32/32 [==============================] - 2s 55ms/step - loss: 0.3508 - accuracy: 0.8601 - val_loss: 0.3621 - val_accuracy: 0.8539\n",
      "Epoch 3/100\n",
      "32/32 [==============================] - 2s 51ms/step - loss: 0.3258 - accuracy: 0.8748 - val_loss: 0.3197 - val_accuracy: 0.8676\n",
      "Epoch 4/100\n",
      "32/32 [==============================] - 2s 58ms/step - loss: 0.3293 - accuracy: 0.8787 - val_loss: 0.3191 - val_accuracy: 0.8630\n",
      "Epoch 5/100\n",
      "32/32 [==============================] - 2s 55ms/step - loss: 0.2637 - accuracy: 0.8894 - val_loss: 0.3071 - val_accuracy: 0.8630\n",
      "Epoch 6/100\n",
      "32/32 [==============================] - 2s 50ms/step - loss: 0.2527 - accuracy: 0.8973 - val_loss: 0.3568 - val_accuracy: 0.8447\n",
      "Epoch 7/100\n",
      "32/32 [==============================] - 2s 50ms/step - loss: 0.2723 - accuracy: 0.8855 - val_loss: 0.2779 - val_accuracy: 0.8767\n",
      "Epoch 8/100\n",
      "32/32 [==============================] - 2s 51ms/step - loss: 0.2645 - accuracy: 0.8982 - val_loss: 0.3220 - val_accuracy: 0.8858\n",
      "Epoch 9/100\n",
      "32/32 [==============================] - 2s 51ms/step - loss: 0.2592 - accuracy: 0.8933 - val_loss: 0.3064 - val_accuracy: 0.8813\n",
      "Epoch 10/100\n",
      "32/32 [==============================] - 2s 53ms/step - loss: 0.2270 - accuracy: 0.9031 - val_loss: 0.2997 - val_accuracy: 0.8950\n",
      "Epoch 11/100\n",
      "32/32 [==============================] - 2s 58ms/step - loss: 0.2321 - accuracy: 0.8982 - val_loss: 0.2749 - val_accuracy: 0.8904\n",
      "Epoch 12/100\n",
      "32/32 [==============================] - 2s 56ms/step - loss: 0.2134 - accuracy: 0.9080 - val_loss: 0.3269 - val_accuracy: 0.8904\n",
      "Epoch 13/100\n",
      "32/32 [==============================] - 2s 62ms/step - loss: 0.2121 - accuracy: 0.9149 - val_loss: 0.2873 - val_accuracy: 0.8950\n",
      "Epoch 14/100\n",
      "32/32 [==============================] - 2s 54ms/step - loss: 0.1997 - accuracy: 0.9139 - val_loss: 0.3164 - val_accuracy: 0.8721\n",
      "Epoch 15/100\n",
      "32/32 [==============================] - 2s 57ms/step - loss: 0.2166 - accuracy: 0.9149 - val_loss: 0.2812 - val_accuracy: 0.8995\n",
      "Epoch 16/100\n",
      "32/32 [==============================] - 2s 55ms/step - loss: 0.1935 - accuracy: 0.9119 - val_loss: 0.3164 - val_accuracy: 0.8858\n",
      "Epoch 17/100\n",
      "32/32 [==============================] - 2s 63ms/step - loss: 0.2143 - accuracy: 0.9090 - val_loss: 0.3373 - val_accuracy: 0.8539\n",
      "Epoch 18/100\n",
      "32/32 [==============================] - 2s 55ms/step - loss: 0.1866 - accuracy: 0.9100 - val_loss: 0.3027 - val_accuracy: 0.8904\n",
      "Epoch 19/100\n",
      "32/32 [==============================] - 2s 56ms/step - loss: 0.2009 - accuracy: 0.9080 - val_loss: 0.3032 - val_accuracy: 0.8721\n",
      "Epoch 20/100\n",
      "32/32 [==============================] - 2s 56ms/step - loss: 0.1975 - accuracy: 0.9090 - val_loss: 0.3248 - val_accuracy: 0.8858\n",
      "Epoch 21/100\n",
      "32/32 [==============================] - 2s 59ms/step - loss: 0.2126 - accuracy: 0.9012 - val_loss: 0.3296 - val_accuracy: 0.8721\n",
      "Epoch 22/100\n",
      "32/32 [==============================] - 2s 62ms/step - loss: 0.1931 - accuracy: 0.9070 - val_loss: 0.3851 - val_accuracy: 0.8721\n",
      "Epoch 23/100\n",
      "32/32 [==============================] - 2s 52ms/step - loss: 0.1893 - accuracy: 0.9110 - val_loss: 0.3469 - val_accuracy: 0.8813\n",
      "Epoch 24/100\n",
      "32/32 [==============================] - 2s 62ms/step - loss: 0.1905 - accuracy: 0.9217 - val_loss: 0.2770 - val_accuracy: 0.8813\n",
      "Epoch 25/100\n",
      "32/32 [==============================] - 2s 55ms/step - loss: 0.1750 - accuracy: 0.9217 - val_loss: 0.3298 - val_accuracy: 0.8858\n",
      "Epoch 26/100\n",
      "32/32 [==============================] - 2s 56ms/step - loss: 0.1750 - accuracy: 0.9247 - val_loss: 0.3779 - val_accuracy: 0.8813\n",
      "Epoch 27/100\n",
      "32/32 [==============================] - 2s 60ms/step - loss: 0.1856 - accuracy: 0.9149 - val_loss: 0.3807 - val_accuracy: 0.8904\n",
      "Epoch 28/100\n",
      "32/32 [==============================] - 2s 63ms/step - loss: 0.1763 - accuracy: 0.9149 - val_loss: 0.3437 - val_accuracy: 0.8904\n",
      "Epoch 29/100\n",
      "32/32 [==============================] - 2s 58ms/step - loss: 0.1797 - accuracy: 0.9266 - val_loss: 0.3248 - val_accuracy: 0.8813\n",
      "Epoch 30/100\n",
      "32/32 [==============================] - 2s 57ms/step - loss: 0.1746 - accuracy: 0.9217 - val_loss: 0.3306 - val_accuracy: 0.8858\n",
      "Epoch 31/100\n",
      "32/32 [==============================] - 2s 54ms/step - loss: 0.1666 - accuracy: 0.9266 - val_loss: 0.3340 - val_accuracy: 0.8904\n",
      "Epoch 32/100\n",
      "32/32 [==============================] - 2s 58ms/step - loss: 0.1533 - accuracy: 0.9354 - val_loss: 0.3870 - val_accuracy: 0.8721\n",
      "Epoch 33/100\n",
      "32/32 [==============================] - 2s 54ms/step - loss: 0.1726 - accuracy: 0.9256 - val_loss: 0.3225 - val_accuracy: 0.8950\n",
      "Epoch 34/100\n",
      "32/32 [==============================] - 2s 60ms/step - loss: 0.2244 - accuracy: 0.8992 - val_loss: 0.3214 - val_accuracy: 0.8995\n",
      "Epoch 35/100\n",
      "32/32 [==============================] - 2s 61ms/step - loss: 0.1861 - accuracy: 0.9178 - val_loss: 0.3127 - val_accuracy: 0.8767\n",
      "Epoch 36/100\n",
      "32/32 [==============================] - 2s 58ms/step - loss: 0.1823 - accuracy: 0.9090 - val_loss: 0.3171 - val_accuracy: 0.9041\n",
      "Epoch 37/100\n",
      "32/32 [==============================] - 2s 60ms/step - loss: 0.1711 - accuracy: 0.9159 - val_loss: 0.3599 - val_accuracy: 0.8858\n",
      "Epoch 38/100\n",
      "32/32 [==============================] - 2s 57ms/step - loss: 0.1641 - accuracy: 0.9305 - val_loss: 0.3650 - val_accuracy: 0.8904\n",
      "Epoch 39/100\n",
      "32/32 [==============================] - 2s 57ms/step - loss: 0.1633 - accuracy: 0.9237 - val_loss: 0.4095 - val_accuracy: 0.9041\n",
      "Epoch 40/100\n",
      "32/32 [==============================] - 2s 56ms/step - loss: 0.1479 - accuracy: 0.9384 - val_loss: 0.3509 - val_accuracy: 0.8813\n",
      "Epoch 41/100\n",
      "32/32 [==============================] - 2s 64ms/step - loss: 0.1426 - accuracy: 0.9403 - val_loss: 0.4001 - val_accuracy: 0.8904\n",
      "Epoch 42/100\n",
      "32/32 [==============================] - 2s 62ms/step - loss: 0.1611 - accuracy: 0.9266 - val_loss: 0.3314 - val_accuracy: 0.8813\n",
      "Epoch 43/100\n",
      "32/32 [==============================] - 2s 63ms/step - loss: 0.1442 - accuracy: 0.9344 - val_loss: 0.3800 - val_accuracy: 0.8858\n",
      "Epoch 44/100\n",
      "32/32 [==============================] - 2s 61ms/step - loss: 0.1570 - accuracy: 0.9237 - val_loss: 0.3513 - val_accuracy: 0.8721\n",
      "Epoch 45/100\n",
      "32/32 [==============================] - 2s 61ms/step - loss: 0.1481 - accuracy: 0.9393 - val_loss: 0.4085 - val_accuracy: 0.8858\n",
      "Epoch 46/100\n",
      "32/32 [==============================] - 2s 58ms/step - loss: 0.1557 - accuracy: 0.9354 - val_loss: 0.4198 - val_accuracy: 0.8767\n",
      "Epoch 47/100\n",
      "32/32 [==============================] - 2s 57ms/step - loss: 0.1947 - accuracy: 0.9110 - val_loss: 0.3205 - val_accuracy: 0.8676\n",
      "Epoch 48/100\n",
      "32/32 [==============================] - 2s 62ms/step - loss: 0.1459 - accuracy: 0.9335 - val_loss: 0.4133 - val_accuracy: 0.8858\n",
      "Epoch 49/100\n",
      "32/32 [==============================] - 2s 61ms/step - loss: 0.1548 - accuracy: 0.9247 - val_loss: 0.3628 - val_accuracy: 0.8813\n",
      "Epoch 50/100\n",
      "32/32 [==============================] - 2s 54ms/step - loss: 0.1379 - accuracy: 0.9344 - val_loss: 0.4824 - val_accuracy: 0.8950\n",
      "Epoch 51/100\n",
      "32/32 [==============================] - 2s 62ms/step - loss: 0.1442 - accuracy: 0.9305 - val_loss: 0.5504 - val_accuracy: 0.8904\n",
      "Epoch 52/100\n",
      "32/32 [==============================] - 2s 53ms/step - loss: 0.1517 - accuracy: 0.9374 - val_loss: 0.3870 - val_accuracy: 0.8858\n",
      "Epoch 53/100\n",
      "32/32 [==============================] - 2s 55ms/step - loss: 0.1444 - accuracy: 0.9364 - val_loss: 0.3999 - val_accuracy: 0.8721\n",
      "Epoch 54/100\n",
      "32/32 [==============================] - 2s 55ms/step - loss: 0.1370 - accuracy: 0.9423 - val_loss: 0.3677 - val_accuracy: 0.8813\n",
      "Epoch 55/100\n",
      "32/32 [==============================] - 2s 52ms/step - loss: 0.1253 - accuracy: 0.9442 - val_loss: 0.3947 - val_accuracy: 0.8767\n",
      "Epoch 56/100\n",
      "32/32 [==============================] - 2s 51ms/step - loss: 0.1358 - accuracy: 0.9374 - val_loss: 0.4670 - val_accuracy: 0.8630\n",
      "Epoch 57/100\n",
      "32/32 [==============================] - 2s 49ms/step - loss: 0.1443 - accuracy: 0.9344 - val_loss: 0.3965 - val_accuracy: 0.8767\n",
      "Epoch 58/100\n",
      "32/32 [==============================] - 2s 49ms/step - loss: 0.1400 - accuracy: 0.9432 - val_loss: 0.3616 - val_accuracy: 0.8858\n",
      "Epoch 59/100\n",
      "32/32 [==============================] - 1s 46ms/step - loss: 0.1461 - accuracy: 0.9403 - val_loss: 0.3887 - val_accuracy: 0.8813\n",
      "Epoch 60/100\n",
      "32/32 [==============================] - 1s 46ms/step - loss: 0.1411 - accuracy: 0.9442 - val_loss: 0.4045 - val_accuracy: 0.8813\n",
      "Epoch 61/100\n",
      "32/32 [==============================] - 2s 52ms/step - loss: 0.1361 - accuracy: 0.9403 - val_loss: 0.4844 - val_accuracy: 0.8904\n",
      "Epoch 62/100\n",
      "32/32 [==============================] - 2s 50ms/step - loss: 0.1477 - accuracy: 0.9335 - val_loss: 0.4657 - val_accuracy: 0.8904\n",
      "Epoch 63/100\n",
      "32/32 [==============================] - 2s 51ms/step - loss: 0.1397 - accuracy: 0.9374 - val_loss: 0.4873 - val_accuracy: 0.8767\n",
      "Epoch 64/100\n",
      "32/32 [==============================] - 1s 46ms/step - loss: 0.1419 - accuracy: 0.9384 - val_loss: 0.4283 - val_accuracy: 0.8676\n",
      "Epoch 65/100\n",
      "32/32 [==============================] - 2s 48ms/step - loss: 0.1349 - accuracy: 0.9344 - val_loss: 0.4004 - val_accuracy: 0.8813\n",
      "Epoch 66/100\n",
      "32/32 [==============================] - 2s 53ms/step - loss: 0.1433 - accuracy: 0.9354 - val_loss: 0.4370 - val_accuracy: 0.8858\n",
      "Epoch 67/100\n",
      "32/32 [==============================] - 2s 50ms/step - loss: 0.1255 - accuracy: 0.9413 - val_loss: 0.5071 - val_accuracy: 0.8721\n",
      "Epoch 68/100\n",
      "32/32 [==============================] - 2s 53ms/step - loss: 0.1332 - accuracy: 0.9354 - val_loss: 0.4841 - val_accuracy: 0.8676\n",
      "Epoch 69/100\n",
      "32/32 [==============================] - 2s 59ms/step - loss: 0.1417 - accuracy: 0.9452 - val_loss: 0.3684 - val_accuracy: 0.8767\n",
      "Epoch 70/100\n",
      "32/32 [==============================] - 2s 63ms/step - loss: 0.1649 - accuracy: 0.9247 - val_loss: 0.4303 - val_accuracy: 0.8813\n",
      "Epoch 71/100\n",
      "32/32 [==============================] - 2s 57ms/step - loss: 0.1285 - accuracy: 0.9432 - val_loss: 0.4661 - val_accuracy: 0.8630\n",
      "Epoch 72/100\n",
      "32/32 [==============================] - 2s 69ms/step - loss: 0.1156 - accuracy: 0.9521 - val_loss: 0.4686 - val_accuracy: 0.8584\n",
      "Epoch 73/100\n",
      "32/32 [==============================] - 2s 66ms/step - loss: 0.1295 - accuracy: 0.9432 - val_loss: 0.3912 - val_accuracy: 0.8721\n",
      "Epoch 74/100\n",
      "32/32 [==============================] - 2s 70ms/step - loss: 0.1188 - accuracy: 0.9481 - val_loss: 0.4950 - val_accuracy: 0.8676\n",
      "Epoch 75/100\n",
      "32/32 [==============================] - 2s 56ms/step - loss: 0.1082 - accuracy: 0.9530 - val_loss: 0.4934 - val_accuracy: 0.8676\n",
      "Epoch 76/100\n",
      "32/32 [==============================] - 2s 55ms/step - loss: 0.1279 - accuracy: 0.9374 - val_loss: 0.4877 - val_accuracy: 0.8539\n",
      "Epoch 77/100\n",
      "32/32 [==============================] - 2s 60ms/step - loss: 0.1306 - accuracy: 0.9442 - val_loss: 0.5838 - val_accuracy: 0.8676\n",
      "Epoch 78/100\n",
      "32/32 [==============================] - 2s 62ms/step - loss: 0.1673 - accuracy: 0.9286 - val_loss: 0.5503 - val_accuracy: 0.8995\n",
      "Epoch 79/100\n",
      "32/32 [==============================] - 2s 54ms/step - loss: 0.1305 - accuracy: 0.9432 - val_loss: 0.4360 - val_accuracy: 0.8767\n",
      "Epoch 80/100\n",
      "32/32 [==============================] - 2s 60ms/step - loss: 0.1051 - accuracy: 0.9569 - val_loss: 0.5685 - val_accuracy: 0.8584\n",
      "Epoch 81/100\n",
      "32/32 [==============================] - 2s 65ms/step - loss: 0.1231 - accuracy: 0.9501 - val_loss: 0.5014 - val_accuracy: 0.8584\n",
      "Epoch 82/100\n",
      "32/32 [==============================] - 2s 61ms/step - loss: 0.1277 - accuracy: 0.9452 - val_loss: 0.4478 - val_accuracy: 0.8767\n",
      "Epoch 83/100\n",
      "32/32 [==============================] - 2s 51ms/step - loss: 0.1130 - accuracy: 0.9530 - val_loss: 0.4815 - val_accuracy: 0.8676\n",
      "Epoch 84/100\n",
      "32/32 [==============================] - 2s 53ms/step - loss: 0.1073 - accuracy: 0.9569 - val_loss: 0.6364 - val_accuracy: 0.8813\n",
      "Epoch 85/100\n",
      "32/32 [==============================] - 2s 56ms/step - loss: 0.1148 - accuracy: 0.9501 - val_loss: 0.6033 - val_accuracy: 0.8858\n",
      "Epoch 86/100\n",
      "32/32 [==============================] - 2s 56ms/step - loss: 0.1581 - accuracy: 0.9442 - val_loss: 0.5055 - val_accuracy: 0.8584\n",
      "Epoch 87/100\n",
      "32/32 [==============================] - 2s 56ms/step - loss: 0.1656 - accuracy: 0.9266 - val_loss: 0.3518 - val_accuracy: 0.8767\n",
      "Epoch 88/100\n",
      "32/32 [==============================] - 2s 65ms/step - loss: 0.1266 - accuracy: 0.9501 - val_loss: 0.5729 - val_accuracy: 0.8630\n",
      "Epoch 89/100\n",
      "32/32 [==============================] - 2s 63ms/step - loss: 0.1180 - accuracy: 0.9511 - val_loss: 0.6443 - val_accuracy: 0.8950\n",
      "Epoch 90/100\n",
      "32/32 [==============================] - 2s 63ms/step - loss: 0.1328 - accuracy: 0.9432 - val_loss: 0.3800 - val_accuracy: 0.8721\n",
      "Epoch 91/100\n",
      "32/32 [==============================] - 2s 59ms/step - loss: 0.1103 - accuracy: 0.9511 - val_loss: 0.4741 - val_accuracy: 0.8630\n",
      "Epoch 92/100\n",
      "32/32 [==============================] - 2s 58ms/step - loss: 0.1147 - accuracy: 0.9481 - val_loss: 0.5237 - val_accuracy: 0.8813\n",
      "Epoch 93/100\n",
      "32/32 [==============================] - 2s 59ms/step - loss: 0.1240 - accuracy: 0.9472 - val_loss: 0.5693 - val_accuracy: 0.8767\n",
      "Epoch 94/100\n",
      "32/32 [==============================] - 2s 56ms/step - loss: 0.1075 - accuracy: 0.9501 - val_loss: 0.5474 - val_accuracy: 0.8813\n",
      "Epoch 95/100\n",
      "32/32 [==============================] - 2s 59ms/step - loss: 0.1105 - accuracy: 0.9521 - val_loss: 0.5611 - val_accuracy: 0.8630\n",
      "Epoch 96/100\n",
      "32/32 [==============================] - 2s 58ms/step - loss: 0.1112 - accuracy: 0.9521 - val_loss: 0.4700 - val_accuracy: 0.8767\n",
      "Epoch 97/100\n",
      "32/32 [==============================] - 2s 63ms/step - loss: 0.1567 - accuracy: 0.9295 - val_loss: 0.4082 - val_accuracy: 0.8676\n",
      "Epoch 98/100\n",
      "32/32 [==============================] - 2s 62ms/step - loss: 0.1046 - accuracy: 0.9609 - val_loss: 0.5341 - val_accuracy: 0.8813\n",
      "Epoch 99/100\n",
      "32/32 [==============================] - 2s 60ms/step - loss: 0.0989 - accuracy: 0.9579 - val_loss: 0.5313 - val_accuracy: 0.8858\n",
      "Epoch 100/100\n",
      "32/32 [==============================] - 2s 58ms/step - loss: 0.0857 - accuracy: 0.9648 - val_loss: 0.6244 - val_accuracy: 0.8721\n"
     ]
    }
   ],
   "source": [
    "model_2=Sequential([\n",
    "   Dense(1000, activation='relu', input_shape=(10,)),\n",
    "   Dense(1000, activation='relu'),\n",
    "   Dense(1000, activation='relu'),\n",
    "   Dense(1000, activation='relu'),\n",
    "   Dense(1, activation='sigmoid'),\n",
    "])\n",
    "\n",
    "model_2.compile(optimizer='adam', \n",
    "               loss='binary_crossentropy',\n",
    "               metrics = ['accuracy'])\n",
    "\n",
    "hist_2 = model_2.fit(X_train, Y_train,\n",
    "         batch_size=32, epochs=100,\n",
    "         validation_data=(X_val, Y_val))\n",
    "            "
   ]
  },
  {
   "cell_type": "code",
   "execution_count": 57,
   "metadata": {},
   "outputs": [
    {
     "data": {
      "image/png": "[encoded data removed]",
      "text/plain": [
       "<Figure size 432x288 with 1 Axes>"
      ]
     },
     "metadata": {
      "needs_background": "light"
     },
     "output_type": "display_data"
    }
   ],
   "source": [
    "plt.plot(hist_2.history['loss'])\n",
    "plt.plot(hist_2.history['val_loss'])\n",
    "plt.title('Model loss')\n",
    "plt.ylabel('Loss')\n",
    "plt.xlabel('Epoch')\n",
    "plt.legend(['Train', 'Val'], loc='upper right')\n",
    "plt.show()"
   ]
  },
  {
   "cell_type": "code",
   "execution_count": 59,
   "metadata": {},
   "outputs": [
    {
     "data": {
      "image/png": "[encoded data removed]",
      "text/plain": [
       "<Figure size 432x288 with 1 Axes>"
      ]
     },
     "metadata": {
      "needs_background": "light"
     },
     "output_type": "display_data"
    }
   ],
   "source": [
    "plt.plot(hist_2.history['accuracy'])\n",
    "plt.plot(hist_2.history['val_accuracy'])\n",
    "plt.title('Model accuracy')\n",
    "plt.ylabel('Accuracy')\n",
    "plt.xlabel('Epoch')\n",
    "plt.legend(['Train', 'Val'], loc='lower right')\n",
    "plt.show()"
   ]
  }
 ],
 "metadata": {
  "interpreter": {
   "hash": "cb837109e84fd2b5122c59630c1be78d7120f3118f9e1f602b03fb353ee2ac28"
  },
  "kernelspec": {
   "display_name": "Python 3.8.6 64-bit",
   "name": "python3"
  },
  "language_info": {
   "codemirror_mode": {
    "name": "ipython",
    "version": 3
   },
   "file_extension": ".py",
   "mimetype": "text/x-python",
   "name": "python",
   "nbconvert_exporter": "python",
   "pygments_lexer": "ipython3",
   "version": "3.8.6"
  },
  "orig_nbformat": 4
 },
 "nbformat": 4,
 "nbformat_minor": 2
}
