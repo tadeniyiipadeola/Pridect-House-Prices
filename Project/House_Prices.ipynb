{
 "cells": [
  {
   "cell_type": "code",
   "execution_count": 2,
   "metadata": {},
   "outputs": [
    {
     "data": {
      "text/html": [
       "<div>\n",
       "<style scoped>\n",
       "    .dataframe tbody tr th:only-of-type {\n",
       "        vertical-align: middle;\n",
       "    }\n",
       "\n",
       "    .dataframe tbody tr th {\n",
       "        vertical-align: top;\n",
       "    }\n",
       "\n",
       "    .dataframe thead th {\n",
       "        text-align: right;\n",
       "    }\n",
       "</style>\n",
       "<table border=\"1\" class=\"dataframe\">\n",
       "  <thead>\n",
       "    <tr style=\"text-align: right;\">\n",
       "      <th></th>\n",
       "      <th>LotArea</th>\n",
       "      <th>OverallQual</th>\n",
       "      <th>OverallCond</th>\n",
       "      <th>TotalBsmtSF</th>\n",
       "      <th>FullBath</th>\n",
       "      <th>HalfBath</th>\n",
       "      <th>BedroomAbvGr</th>\n",
       "      <th>TotRmsAbvGrd</th>\n",
       "      <th>Fireplaces</th>\n",
       "      <th>GarageArea</th>\n",
       "      <th>AboveMedianPrice</th>\n",
       "    </tr>\n",
       "  </thead>\n",
       "  <tbody>\n",
       "    <tr>\n",
       "      <th>0</th>\n",
       "      <td>8450</td>\n",
       "      <td>7</td>\n",
       "      <td>5</td>\n",
       "      <td>856</td>\n",
       "      <td>2</td>\n",
       "      <td>1</td>\n",
       "      <td>3</td>\n",
       "      <td>8</td>\n",
       "      <td>0</td>\n",
       "      <td>548</td>\n",
       "      <td>1</td>\n",
       "    </tr>\n",
       "    <tr>\n",
       "      <th>1</th>\n",
       "      <td>9600</td>\n",
       "      <td>6</td>\n",
       "      <td>8</td>\n",
       "      <td>1262</td>\n",
       "      <td>2</td>\n",
       "      <td>0</td>\n",
       "      <td>3</td>\n",
       "      <td>6</td>\n",
       "      <td>1</td>\n",
       "      <td>460</td>\n",
       "      <td>1</td>\n",
       "    </tr>\n",
       "    <tr>\n",
       "      <th>2</th>\n",
       "      <td>11250</td>\n",
       "      <td>7</td>\n",
       "      <td>5</td>\n",
       "      <td>920</td>\n",
       "      <td>2</td>\n",
       "      <td>1</td>\n",
       "      <td>3</td>\n",
       "      <td>6</td>\n",
       "      <td>1</td>\n",
       "      <td>608</td>\n",
       "      <td>1</td>\n",
       "    </tr>\n",
       "    <tr>\n",
       "      <th>3</th>\n",
       "      <td>9550</td>\n",
       "      <td>7</td>\n",
       "      <td>5</td>\n",
       "      <td>756</td>\n",
       "      <td>1</td>\n",
       "      <td>0</td>\n",
       "      <td>3</td>\n",
       "      <td>7</td>\n",
       "      <td>1</td>\n",
       "      <td>642</td>\n",
       "      <td>0</td>\n",
       "    </tr>\n",
       "    <tr>\n",
       "      <th>4</th>\n",
       "      <td>14260</td>\n",
       "      <td>8</td>\n",
       "      <td>5</td>\n",
       "      <td>1145</td>\n",
       "      <td>2</td>\n",
       "      <td>1</td>\n",
       "      <td>4</td>\n",
       "      <td>9</td>\n",
       "      <td>1</td>\n",
       "      <td>836</td>\n",
       "      <td>1</td>\n",
       "    </tr>\n",
       "    <tr>\n",
       "      <th>...</th>\n",
       "      <td>...</td>\n",
       "      <td>...</td>\n",
       "      <td>...</td>\n",
       "      <td>...</td>\n",
       "      <td>...</td>\n",
       "      <td>...</td>\n",
       "      <td>...</td>\n",
       "      <td>...</td>\n",
       "      <td>...</td>\n",
       "      <td>...</td>\n",
       "      <td>...</td>\n",
       "    </tr>\n",
       "    <tr>\n",
       "      <th>1455</th>\n",
       "      <td>7917</td>\n",
       "      <td>6</td>\n",
       "      <td>5</td>\n",
       "      <td>953</td>\n",
       "      <td>2</td>\n",
       "      <td>1</td>\n",
       "      <td>3</td>\n",
       "      <td>7</td>\n",
       "      <td>1</td>\n",
       "      <td>460</td>\n",
       "      <td>1</td>\n",
       "    </tr>\n",
       "    <tr>\n",
       "      <th>1456</th>\n",
       "      <td>13175</td>\n",
       "      <td>6</td>\n",
       "      <td>6</td>\n",
       "      <td>1542</td>\n",
       "      <td>2</td>\n",
       "      <td>0</td>\n",
       "      <td>3</td>\n",
       "      <td>7</td>\n",
       "      <td>2</td>\n",
       "      <td>500</td>\n",
       "      <td>1</td>\n",
       "    </tr>\n",
       "    <tr>\n",
       "      <th>1457</th>\n",
       "      <td>9042</td>\n",
       "      <td>7</td>\n",
       "      <td>9</td>\n",
       "      <td>1152</td>\n",
       "      <td>2</td>\n",
       "      <td>0</td>\n",
       "      <td>4</td>\n",
       "      <td>9</td>\n",
       "      <td>2</td>\n",
       "      <td>252</td>\n",
       "      <td>1</td>\n",
       "    </tr>\n",
       "    <tr>\n",
       "      <th>1458</th>\n",
       "      <td>9717</td>\n",
       "      <td>5</td>\n",
       "      <td>6</td>\n",
       "      <td>1078</td>\n",
       "      <td>1</td>\n",
       "      <td>0</td>\n",
       "      <td>2</td>\n",
       "      <td>5</td>\n",
       "      <td>0</td>\n",
       "      <td>240</td>\n",
       "      <td>0</td>\n",
       "    </tr>\n",
       "    <tr>\n",
       "      <th>1459</th>\n",
       "      <td>9937</td>\n",
       "      <td>5</td>\n",
       "      <td>6</td>\n",
       "      <td>1256</td>\n",
       "      <td>1</td>\n",
       "      <td>1</td>\n",
       "      <td>3</td>\n",
       "      <td>6</td>\n",
       "      <td>0</td>\n",
       "      <td>276</td>\n",
       "      <td>0</td>\n",
       "    </tr>\n",
       "  </tbody>\n",
       "</table>\n",
       "<p>1460 rows × 11 columns</p>\n",
       "</div>"
      ],
      "text/plain": [
       "      LotArea  OverallQual  OverallCond  TotalBsmtSF  FullBath  HalfBath  \\\n",
       "0        8450            7            5          856         2         1   \n",
       "1        9600            6            8         1262         2         0   \n",
       "2       11250            7            5          920         2         1   \n",
       "3        9550            7            5          756         1         0   \n",
       "4       14260            8            5         1145         2         1   \n",
       "...       ...          ...          ...          ...       ...       ...   \n",
       "1455     7917            6            5          953         2         1   \n",
       "1456    13175            6            6         1542         2         0   \n",
       "1457     9042            7            9         1152         2         0   \n",
       "1458     9717            5            6         1078         1         0   \n",
       "1459     9937            5            6         1256         1         1   \n",
       "\n",
       "      BedroomAbvGr  TotRmsAbvGrd  Fireplaces  GarageArea  AboveMedianPrice  \n",
       "0                3             8           0         548                 1  \n",
       "1                3             6           1         460                 1  \n",
       "2                3             6           1         608                 1  \n",
       "3                3             7           1         642                 0  \n",
       "4                4             9           1         836                 1  \n",
       "...            ...           ...         ...         ...               ...  \n",
       "1455             3             7           1         460                 1  \n",
       "1456             3             7           2         500                 1  \n",
       "1457             4             9           2         252                 1  \n",
       "1458             2             5           0         240                 0  \n",
       "1459             3             6           0         276                 0  \n",
       "\n",
       "[1460 rows x 11 columns]"
      ]
     },
     "execution_count": 2,
     "metadata": {},
     "output_type": "execute_result"
    }
   ],
   "source": [
    "import pandas as pd \n",
    "\n",
    "df = pd.read_csv('housepricedata.csv')\n",
    "\n",
    "df\n"
   ]
  },
  {
   "cell_type": "code",
   "execution_count": 3,
   "metadata": {},
   "outputs": [],
   "source": [
    "dataset = df.values"
   ]
  },
  {
   "cell_type": "code",
   "execution_count": 4,
   "metadata": {},
   "outputs": [
    {
     "data": {
      "text/plain": [
       "array([[ 8450,     7,     5, ...,     0,   548,     1],\n",
       "       [ 9600,     6,     8, ...,     1,   460,     1],\n",
       "       [11250,     7,     5, ...,     1,   608,     1],\n",
       "       ...,\n",
       "       [ 9042,     7,     9, ...,     2,   252,     1],\n",
       "       [ 9717,     5,     6, ...,     0,   240,     0],\n",
       "       [ 9937,     5,     6, ...,     0,   276,     0]], dtype=int64)"
      ]
     },
     "execution_count": 4,
     "metadata": {},
     "output_type": "execute_result"
    }
   ],
   "source": [
    "dataset"
   ]
  },
  {
   "cell_type": "code",
   "execution_count": 5,
   "metadata": {},
   "outputs": [],
   "source": [
    "X=dataset[:,0:10]"
   ]
  },
  {
   "cell_type": "code",
   "execution_count": 6,
   "metadata": {},
   "outputs": [
    {
     "data": {
      "text/plain": [
       "array([[ 8450,     7,     5, ...,     8,     0,   548],\n",
       "       [ 9600,     6,     8, ...,     6,     1,   460],\n",
       "       [11250,     7,     5, ...,     6,     1,   608],\n",
       "       ...,\n",
       "       [ 9042,     7,     9, ...,     9,     2,   252],\n",
       "       [ 9717,     5,     6, ...,     5,     0,   240],\n",
       "       [ 9937,     5,     6, ...,     6,     0,   276]], dtype=int64)"
      ]
     },
     "execution_count": 6,
     "metadata": {},
     "output_type": "execute_result"
    }
   ],
   "source": [
    "X"
   ]
  },
  {
   "cell_type": "code",
   "execution_count": 7,
   "metadata": {},
   "outputs": [],
   "source": [
    "Y = dataset[:,10]"
   ]
  },
  {
   "cell_type": "code",
   "execution_count": 8,
   "metadata": {},
   "outputs": [
    {
     "data": {
      "text/plain": [
       "array([1, 1, 1, ..., 1, 0, 0], dtype=int64)"
      ]
     },
     "execution_count": 8,
     "metadata": {},
     "output_type": "execute_result"
    }
   ],
   "source": [
    "Y"
   ]
  },
  {
   "cell_type": "code",
   "execution_count": 9,
   "metadata": {},
   "outputs": [],
   "source": [
    "from sklearn import preprocessing"
   ]
  },
  {
   "cell_type": "code",
   "execution_count": 10,
   "metadata": {},
   "outputs": [],
   "source": [
    "min_max_scaler = preprocessing.MinMaxScaler()\n",
    "x_scale = min_max_scaler.fit_transform(X)"
   ]
  },
  {
   "cell_type": "code",
   "execution_count": 11,
   "metadata": {},
   "outputs": [
    {
     "data": {
      "text/plain": [
       "array([[0.0334198 , 0.66666667, 0.5       , ..., 0.5       , 0.        ,\n",
       "        0.3864598 ],\n",
       "       [0.03879502, 0.55555556, 0.875     , ..., 0.33333333, 0.33333333,\n",
       "        0.32440056],\n",
       "       [0.04650728, 0.66666667, 0.5       , ..., 0.33333333, 0.33333333,\n",
       "        0.42877292],\n",
       "       ...,\n",
       "       [0.03618687, 0.66666667, 1.        , ..., 0.58333333, 0.66666667,\n",
       "        0.17771509],\n",
       "       [0.03934189, 0.44444444, 0.625     , ..., 0.25      , 0.        ,\n",
       "        0.16925247],\n",
       "       [0.04037019, 0.44444444, 0.625     , ..., 0.33333333, 0.        ,\n",
       "        0.19464034]])"
      ]
     },
     "execution_count": 11,
     "metadata": {},
     "output_type": "execute_result"
    }
   ],
   "source": [
    "x_scale"
   ]
  },
  {
   "cell_type": "code",
   "execution_count": 12,
   "metadata": {},
   "outputs": [],
   "source": [
    "from sklearn.model_selection import train_test_split"
   ]
  },
  {
   "cell_type": "code",
   "execution_count": 13,
   "metadata": {},
   "outputs": [],
   "source": [
    "X_train, X_val_and_test, Y_train, Y_val_and_test = train_test_split(x_scale, Y, test_size=0.3)"
   ]
  },
  {
   "cell_type": "code",
   "execution_count": 14,
   "metadata": {},
   "outputs": [],
   "source": [
    "X_val, X_test, Y_val, Y_test = train_test_split(X_val_and_test, Y_val_and_test, test_size=0.5)"
   ]
  },
  {
   "cell_type": "code",
   "execution_count": 15,
   "metadata": {},
   "outputs": [
    {
     "name": "stdout",
     "output_type": "stream",
     "text": [
      "(1022, 10) (219, 10) (219, 10) (1022,) (219,) (219,)\n"
     ]
    }
   ],
   "source": [
    "print(X_train.shape, X_val.shape, X_test.shape, Y_train.shape, Y_val.shape, Y_test.shape)"
   ]
  },
  {
   "cell_type": "code",
   "execution_count": 16,
   "metadata": {},
   "outputs": [],
   "source": [
    "import tensorflow as tf"
   ]
  },
  {
   "cell_type": "code",
   "execution_count": 17,
   "metadata": {},
   "outputs": [],
   "source": [
    "from tensorflow.keras.models import Sequential\n"
   ]
  },
  {
   "cell_type": "code",
   "execution_count": 18,
   "metadata": {},
   "outputs": [],
   "source": [
    "import tensorflow as tf\n",
    "from tensorflow.keras.models import Sequential\n"
   ]
  },
  {
   "cell_type": "code",
   "execution_count": 19,
   "metadata": {},
   "outputs": [],
   "source": [
    "from keras.models import Sequential\n",
    "from keras.layers import Dense"
   ]
  },
  {
   "cell_type": "code",
   "execution_count": 20,
   "metadata": {},
   "outputs": [],
   "source": [
    "model = Sequential([\n",
    "   Dense(32, activation='relu', input_shape=(10,)),\n",
    "   Dense(32, activation='relu'),\n",
    "   Dense(1, activation='sigmoid'),\n",
    "])"
   ]
  },
  {
   "cell_type": "code",
   "execution_count": 21,
   "metadata": {},
   "outputs": [],
   "source": [
    "model.compile(optimizer='sgd',\n",
    "               loss='binary_crossentropy',\n",
    "               metrics=['accuracy'])"
   ]
  },
  {
   "cell_type": "code",
   "execution_count": 22,
   "metadata": {},
   "outputs": [
    {
     "name": "stdout",
     "output_type": "stream",
     "text": [
      "Epoch 1/100\n",
      "32/32 [==============================] - 2s 18ms/step - loss: 0.6829 - accuracy: 0.5166 - val_loss: 0.6877 - val_accuracy: 0.4749\n",
      "Epoch 2/100\n",
      "32/32 [==============================] - 0s 5ms/step - loss: 0.6787 - accuracy: 0.5558 - val_loss: 0.6834 - val_accuracy: 0.5571\n",
      "Epoch 3/100\n",
      "32/32 [==============================] - 0s 5ms/step - loss: 0.6753 - accuracy: 0.6419 - val_loss: 0.6801 - val_accuracy: 0.6027\n",
      "Epoch 4/100\n",
      "32/32 [==============================] - 0s 6ms/step - loss: 0.6722 - accuracy: 0.6820 - val_loss: 0.6770 - val_accuracy: 0.6667\n",
      "Epoch 5/100\n",
      "32/32 [==============================] - 0s 6ms/step - loss: 0.6691 - accuracy: 0.7231 - val_loss: 0.6740 - val_accuracy: 0.6849\n",
      "Epoch 6/100\n",
      "32/32 [==============================] - 0s 5ms/step - loss: 0.6660 - accuracy: 0.7427 - val_loss: 0.6706 - val_accuracy: 0.7169\n",
      "Epoch 7/100\n",
      "32/32 [==============================] - 0s 5ms/step - loss: 0.6626 - accuracy: 0.7701 - val_loss: 0.6674 - val_accuracy: 0.7352\n",
      "Epoch 8/100\n",
      "32/32 [==============================] - 0s 6ms/step - loss: 0.6592 - accuracy: 0.7808 - val_loss: 0.6638 - val_accuracy: 0.7489\n",
      "Epoch 9/100\n",
      "32/32 [==============================] - 0s 5ms/step - loss: 0.6556 - accuracy: 0.7886 - val_loss: 0.6601 - val_accuracy: 0.7580\n",
      "Epoch 10/100\n",
      "32/32 [==============================] - 0s 7ms/step - loss: 0.6517 - accuracy: 0.8004 - val_loss: 0.6565 - val_accuracy: 0.7671\n",
      "Epoch 11/100\n",
      "32/32 [==============================] - 0s 6ms/step - loss: 0.6477 - accuracy: 0.8121 - val_loss: 0.6525 - val_accuracy: 0.7580\n",
      "Epoch 12/100\n",
      "32/32 [==============================] - 0s 7ms/step - loss: 0.6435 - accuracy: 0.8180 - val_loss: 0.6482 - val_accuracy: 0.7534\n",
      "Epoch 13/100\n",
      "32/32 [==============================] - 0s 6ms/step - loss: 0.6389 - accuracy: 0.8190 - val_loss: 0.6436 - val_accuracy: 0.7626\n",
      "Epoch 14/100\n",
      "32/32 [==============================] - 0s 7ms/step - loss: 0.6341 - accuracy: 0.8249 - val_loss: 0.6389 - val_accuracy: 0.7717\n",
      "Epoch 15/100\n",
      "32/32 [==============================] - 0s 7ms/step - loss: 0.6289 - accuracy: 0.8258 - val_loss: 0.6338 - val_accuracy: 0.7763\n",
      "Epoch 16/100\n",
      "32/32 [==============================] - 0s 7ms/step - loss: 0.6235 - accuracy: 0.8229 - val_loss: 0.6285 - val_accuracy: 0.7763\n",
      "Epoch 17/100\n",
      "32/32 [==============================] - 0s 8ms/step - loss: 0.6177 - accuracy: 0.8297 - val_loss: 0.6232 - val_accuracy: 0.7717\n",
      "Epoch 18/100\n",
      "32/32 [==============================] - 0s 7ms/step - loss: 0.6116 - accuracy: 0.8278 - val_loss: 0.6177 - val_accuracy: 0.7808\n",
      "Epoch 19/100\n",
      "32/32 [==============================] - 0s 8ms/step - loss: 0.6049 - accuracy: 0.8268 - val_loss: 0.6116 - val_accuracy: 0.7763\n",
      "Epoch 20/100\n",
      "32/32 [==============================] - 0s 8ms/step - loss: 0.5980 - accuracy: 0.8219 - val_loss: 0.6053 - val_accuracy: 0.7763\n",
      "Epoch 21/100\n",
      "32/32 [==============================] - 0s 10ms/step - loss: 0.5906 - accuracy: 0.8288 - val_loss: 0.5978 - val_accuracy: 0.7763\n",
      "Epoch 22/100\n",
      "32/32 [==============================] - 0s 7ms/step - loss: 0.5829 - accuracy: 0.8307 - val_loss: 0.5905 - val_accuracy: 0.7763\n",
      "Epoch 23/100\n",
      "32/32 [==============================] - 0s 8ms/step - loss: 0.5748 - accuracy: 0.8239 - val_loss: 0.5828 - val_accuracy: 0.7854\n",
      "Epoch 24/100\n",
      "32/32 [==============================] - 0s 7ms/step - loss: 0.5664 - accuracy: 0.8288 - val_loss: 0.5753 - val_accuracy: 0.7763\n",
      "Epoch 25/100\n",
      "32/32 [==============================] - 0s 6ms/step - loss: 0.5575 - accuracy: 0.8346 - val_loss: 0.5668 - val_accuracy: 0.7854\n",
      "Epoch 26/100\n",
      "32/32 [==============================] - 0s 6ms/step - loss: 0.5487 - accuracy: 0.8356 - val_loss: 0.5595 - val_accuracy: 0.7808\n",
      "Epoch 27/100\n",
      "32/32 [==============================] - 0s 5ms/step - loss: 0.5395 - accuracy: 0.8337 - val_loss: 0.5504 - val_accuracy: 0.7945\n",
      "Epoch 28/100\n",
      "32/32 [==============================] - 0s 5ms/step - loss: 0.5301 - accuracy: 0.8434 - val_loss: 0.5421 - val_accuracy: 0.7991\n",
      "Epoch 29/100\n",
      "32/32 [==============================] - 0s 6ms/step - loss: 0.5206 - accuracy: 0.8454 - val_loss: 0.5350 - val_accuracy: 0.7900\n",
      "Epoch 30/100\n",
      "32/32 [==============================] - 0s 5ms/step - loss: 0.5110 - accuracy: 0.8425 - val_loss: 0.5254 - val_accuracy: 0.7991\n",
      "Epoch 31/100\n",
      "32/32 [==============================] - 0s 4ms/step - loss: 0.5016 - accuracy: 0.8434 - val_loss: 0.5168 - val_accuracy: 0.8082\n",
      "Epoch 32/100\n",
      "32/32 [==============================] - 0s 4ms/step - loss: 0.4922 - accuracy: 0.8523 - val_loss: 0.5093 - val_accuracy: 0.7991\n",
      "Epoch 33/100\n",
      "32/32 [==============================] - 0s 7ms/step - loss: 0.4824 - accuracy: 0.8415 - val_loss: 0.4996 - val_accuracy: 0.8128\n",
      "Epoch 34/100\n",
      "32/32 [==============================] - 0s 6ms/step - loss: 0.4729 - accuracy: 0.8542 - val_loss: 0.4934 - val_accuracy: 0.8082\n",
      "Epoch 35/100\n",
      "32/32 [==============================] - 0s 6ms/step - loss: 0.4638 - accuracy: 0.8474 - val_loss: 0.4836 - val_accuracy: 0.8128\n",
      "Epoch 36/100\n",
      "32/32 [==============================] - 0s 6ms/step - loss: 0.4546 - accuracy: 0.8620 - val_loss: 0.4764 - val_accuracy: 0.8128\n",
      "Epoch 37/100\n",
      "32/32 [==============================] - 0s 6ms/step - loss: 0.4458 - accuracy: 0.8581 - val_loss: 0.4680 - val_accuracy: 0.8174\n",
      "Epoch 38/100\n",
      "32/32 [==============================] - 0s 5ms/step - loss: 0.4374 - accuracy: 0.8571 - val_loss: 0.4610 - val_accuracy: 0.8174\n",
      "Epoch 39/100\n",
      "32/32 [==============================] - 0s 6ms/step - loss: 0.4287 - accuracy: 0.8630 - val_loss: 0.4559 - val_accuracy: 0.8174\n",
      "Epoch 40/100\n",
      "32/32 [==============================] - 0s 6ms/step - loss: 0.4206 - accuracy: 0.8523 - val_loss: 0.4475 - val_accuracy: 0.8174\n",
      "Epoch 41/100\n",
      "32/32 [==============================] - 0s 6ms/step - loss: 0.4134 - accuracy: 0.8640 - val_loss: 0.4429 - val_accuracy: 0.8174\n",
      "Epoch 42/100\n",
      "32/32 [==============================] - 0s 6ms/step - loss: 0.4057 - accuracy: 0.8571 - val_loss: 0.4370 - val_accuracy: 0.8174\n",
      "Epoch 43/100\n",
      "32/32 [==============================] - 0s 5ms/step - loss: 0.3987 - accuracy: 0.8640 - val_loss: 0.4328 - val_accuracy: 0.8219\n",
      "Epoch 44/100\n",
      "32/32 [==============================] - 0s 5ms/step - loss: 0.3921 - accuracy: 0.8581 - val_loss: 0.4266 - val_accuracy: 0.8174\n",
      "Epoch 45/100\n",
      "32/32 [==============================] - 0s 5ms/step - loss: 0.3857 - accuracy: 0.8650 - val_loss: 0.4230 - val_accuracy: 0.8219\n",
      "Epoch 46/100\n",
      "32/32 [==============================] - 0s 5ms/step - loss: 0.3798 - accuracy: 0.8659 - val_loss: 0.4203 - val_accuracy: 0.8311\n",
      "Epoch 47/100\n",
      "32/32 [==============================] - 0s 5ms/step - loss: 0.3743 - accuracy: 0.8650 - val_loss: 0.4123 - val_accuracy: 0.8219\n",
      "Epoch 48/100\n",
      "32/32 [==============================] - 0s 5ms/step - loss: 0.3689 - accuracy: 0.8689 - val_loss: 0.4090 - val_accuracy: 0.8219\n",
      "Epoch 49/100\n",
      "32/32 [==============================] - 0s 5ms/step - loss: 0.3637 - accuracy: 0.8689 - val_loss: 0.4070 - val_accuracy: 0.8174\n",
      "Epoch 50/100\n",
      "32/32 [==============================] - 0s 5ms/step - loss: 0.3588 - accuracy: 0.8699 - val_loss: 0.4019 - val_accuracy: 0.8174\n",
      "Epoch 51/100\n",
      "32/32 [==============================] - 0s 5ms/step - loss: 0.3539 - accuracy: 0.8728 - val_loss: 0.3993 - val_accuracy: 0.8219\n",
      "Epoch 52/100\n",
      "32/32 [==============================] - 0s 5ms/step - loss: 0.3498 - accuracy: 0.8728 - val_loss: 0.3967 - val_accuracy: 0.8356\n",
      "Epoch 53/100\n",
      "32/32 [==============================] - 0s 4ms/step - loss: 0.3458 - accuracy: 0.8748 - val_loss: 0.3937 - val_accuracy: 0.8265\n",
      "Epoch 54/100\n",
      "32/32 [==============================] - 0s 5ms/step - loss: 0.3423 - accuracy: 0.8708 - val_loss: 0.3897 - val_accuracy: 0.8174\n",
      "Epoch 55/100\n",
      "32/32 [==============================] - 0s 5ms/step - loss: 0.3377 - accuracy: 0.8796 - val_loss: 0.3870 - val_accuracy: 0.8219\n",
      "Epoch 56/100\n",
      "32/32 [==============================] - 0s 5ms/step - loss: 0.3346 - accuracy: 0.8777 - val_loss: 0.3851 - val_accuracy: 0.8265\n",
      "Epoch 57/100\n",
      "32/32 [==============================] - 0s 6ms/step - loss: 0.3316 - accuracy: 0.8757 - val_loss: 0.3845 - val_accuracy: 0.8311\n",
      "Epoch 58/100\n",
      "32/32 [==============================] - 0s 5ms/step - loss: 0.3283 - accuracy: 0.8748 - val_loss: 0.3808 - val_accuracy: 0.8265\n",
      "Epoch 59/100\n",
      "32/32 [==============================] - 0s 4ms/step - loss: 0.3251 - accuracy: 0.8757 - val_loss: 0.3800 - val_accuracy: 0.8356\n",
      "Epoch 60/100\n",
      "32/32 [==============================] - 0s 4ms/step - loss: 0.3226 - accuracy: 0.8787 - val_loss: 0.3780 - val_accuracy: 0.8356\n",
      "Epoch 61/100\n",
      "32/32 [==============================] - 0s 4ms/step - loss: 0.3191 - accuracy: 0.8836 - val_loss: 0.3754 - val_accuracy: 0.8311\n",
      "Epoch 62/100\n",
      "32/32 [==============================] - 0s 4ms/step - loss: 0.3179 - accuracy: 0.8787 - val_loss: 0.3763 - val_accuracy: 0.8402\n",
      "Epoch 63/100\n",
      "32/32 [==============================] - 0s 5ms/step - loss: 0.3148 - accuracy: 0.8826 - val_loss: 0.3764 - val_accuracy: 0.8356\n",
      "Epoch 64/100\n",
      "32/32 [==============================] - 0s 5ms/step - loss: 0.3127 - accuracy: 0.8738 - val_loss: 0.3710 - val_accuracy: 0.8356\n",
      "Epoch 65/100\n",
      "32/32 [==============================] - 0s 5ms/step - loss: 0.3110 - accuracy: 0.8787 - val_loss: 0.3695 - val_accuracy: 0.8356\n",
      "Epoch 66/100\n",
      "32/32 [==============================] - 0s 4ms/step - loss: 0.3091 - accuracy: 0.8836 - val_loss: 0.3703 - val_accuracy: 0.8356\n",
      "Epoch 67/100\n",
      "32/32 [==============================] - 0s 5ms/step - loss: 0.3068 - accuracy: 0.8738 - val_loss: 0.3681 - val_accuracy: 0.8402\n",
      "Epoch 68/100\n",
      "32/32 [==============================] - 0s 5ms/step - loss: 0.3049 - accuracy: 0.8806 - val_loss: 0.3667 - val_accuracy: 0.8402\n",
      "Epoch 69/100\n",
      "32/32 [==============================] - 0s 7ms/step - loss: 0.3033 - accuracy: 0.8826 - val_loss: 0.3674 - val_accuracy: 0.8402\n",
      "Epoch 70/100\n",
      "32/32 [==============================] - 0s 5ms/step - loss: 0.3017 - accuracy: 0.8796 - val_loss: 0.3666 - val_accuracy: 0.8402\n",
      "Epoch 71/100\n",
      "32/32 [==============================] - 0s 6ms/step - loss: 0.2998 - accuracy: 0.8826 - val_loss: 0.3641 - val_accuracy: 0.8447\n",
      "Epoch 72/100\n",
      "32/32 [==============================] - 0s 4ms/step - loss: 0.2979 - accuracy: 0.8836 - val_loss: 0.3682 - val_accuracy: 0.8447\n",
      "Epoch 73/100\n",
      "32/32 [==============================] - 0s 5ms/step - loss: 0.2973 - accuracy: 0.8836 - val_loss: 0.3640 - val_accuracy: 0.8402\n",
      "Epoch 74/100\n",
      "32/32 [==============================] - 0s 5ms/step - loss: 0.2949 - accuracy: 0.8836 - val_loss: 0.3600 - val_accuracy: 0.8402\n",
      "Epoch 75/100\n",
      "32/32 [==============================] - 0s 4ms/step - loss: 0.2944 - accuracy: 0.8855 - val_loss: 0.3604 - val_accuracy: 0.8447\n",
      "Epoch 76/100\n",
      "32/32 [==============================] - 0s 4ms/step - loss: 0.2928 - accuracy: 0.8816 - val_loss: 0.3591 - val_accuracy: 0.8447\n",
      "Epoch 77/100\n",
      "32/32 [==============================] - 0s 5ms/step - loss: 0.2912 - accuracy: 0.8816 - val_loss: 0.3581 - val_accuracy: 0.8447\n",
      "Epoch 78/100\n",
      "32/32 [==============================] - 0s 7ms/step - loss: 0.2900 - accuracy: 0.8865 - val_loss: 0.3583 - val_accuracy: 0.8493\n",
      "Epoch 79/100\n",
      "32/32 [==============================] - 0s 6ms/step - loss: 0.2894 - accuracy: 0.8836 - val_loss: 0.3576 - val_accuracy: 0.8493\n",
      "Epoch 80/100\n",
      "32/32 [==============================] - 0s 7ms/step - loss: 0.2883 - accuracy: 0.8845 - val_loss: 0.3591 - val_accuracy: 0.8447\n",
      "Epoch 81/100\n",
      "32/32 [==============================] - 0s 6ms/step - loss: 0.2870 - accuracy: 0.8845 - val_loss: 0.3567 - val_accuracy: 0.8493\n",
      "Epoch 82/100\n",
      "32/32 [==============================] - 0s 5ms/step - loss: 0.2858 - accuracy: 0.8855 - val_loss: 0.3555 - val_accuracy: 0.8539\n",
      "Epoch 83/100\n",
      "32/32 [==============================] - 0s 6ms/step - loss: 0.2838 - accuracy: 0.8894 - val_loss: 0.3591 - val_accuracy: 0.8447\n",
      "Epoch 84/100\n",
      "32/32 [==============================] - 0s 6ms/step - loss: 0.2835 - accuracy: 0.8865 - val_loss: 0.3522 - val_accuracy: 0.8447\n",
      "Epoch 85/100\n",
      "32/32 [==============================] - 0s 6ms/step - loss: 0.2826 - accuracy: 0.8894 - val_loss: 0.3548 - val_accuracy: 0.8447\n",
      "Epoch 86/100\n",
      "32/32 [==============================] - 0s 6ms/step - loss: 0.2817 - accuracy: 0.8855 - val_loss: 0.3514 - val_accuracy: 0.8539\n",
      "Epoch 87/100\n",
      "32/32 [==============================] - 0s 7ms/step - loss: 0.2811 - accuracy: 0.8845 - val_loss: 0.3508 - val_accuracy: 0.8539\n",
      "Epoch 88/100\n",
      "32/32 [==============================] - 0s 6ms/step - loss: 0.2793 - accuracy: 0.8894 - val_loss: 0.3540 - val_accuracy: 0.8447\n",
      "Epoch 89/100\n",
      "32/32 [==============================] - 0s 5ms/step - loss: 0.2787 - accuracy: 0.8875 - val_loss: 0.3480 - val_accuracy: 0.8447\n",
      "Epoch 90/100\n",
      "32/32 [==============================] - 0s 6ms/step - loss: 0.2778 - accuracy: 0.8865 - val_loss: 0.3473 - val_accuracy: 0.8447\n",
      "Epoch 91/100\n",
      "32/32 [==============================] - 0s 5ms/step - loss: 0.2764 - accuracy: 0.8885 - val_loss: 0.3461 - val_accuracy: 0.8265\n",
      "Epoch 92/100\n",
      "32/32 [==============================] - 0s 5ms/step - loss: 0.2764 - accuracy: 0.8855 - val_loss: 0.3458 - val_accuracy: 0.8447\n",
      "Epoch 93/100\n",
      "32/32 [==============================] - 0s 5ms/step - loss: 0.2762 - accuracy: 0.8865 - val_loss: 0.3483 - val_accuracy: 0.8539\n",
      "Epoch 94/100\n",
      "32/32 [==============================] - 0s 5ms/step - loss: 0.2747 - accuracy: 0.8894 - val_loss: 0.3467 - val_accuracy: 0.8539\n",
      "Epoch 95/100\n",
      "32/32 [==============================] - 0s 5ms/step - loss: 0.2736 - accuracy: 0.8894 - val_loss: 0.3469 - val_accuracy: 0.8539\n",
      "Epoch 96/100\n",
      "32/32 [==============================] - 0s 4ms/step - loss: 0.2726 - accuracy: 0.8933 - val_loss: 0.3518 - val_accuracy: 0.8402\n",
      "Epoch 97/100\n",
      "32/32 [==============================] - 0s 5ms/step - loss: 0.2713 - accuracy: 0.8914 - val_loss: 0.3417 - val_accuracy: 0.8356\n",
      "Epoch 98/100\n",
      "32/32 [==============================] - 0s 5ms/step - loss: 0.2724 - accuracy: 0.8914 - val_loss: 0.3429 - val_accuracy: 0.8539\n",
      "Epoch 99/100\n",
      "32/32 [==============================] - 0s 5ms/step - loss: 0.2711 - accuracy: 0.8904 - val_loss: 0.3418 - val_accuracy: 0.8539\n",
      "Epoch 100/100\n",
      "32/32 [==============================] - 0s 6ms/step - loss: 0.2709 - accuracy: 0.8914 - val_loss: 0.3464 - val_accuracy: 0.8402\n"
     ]
    }
   ],
   "source": [
    "hist = model.fit(X_train, Y_train,\n",
    "         batch_size=32, epochs=100,\n",
    "         validation_data=(X_val, Y_val))"
   ]
  },
  {
   "cell_type": "code",
   "execution_count": 23,
   "metadata": {},
   "outputs": [
    {
     "name": "stdout",
     "output_type": "stream",
     "text": [
      "7/7 [==============================] - 0s 3ms/step - loss: 0.3029 - accuracy: 0.8767\n"
     ]
    },
    {
     "data": {
      "text/plain": [
       "[0.3029365837574005, 0.8767123222351074]"
      ]
     },
     "execution_count": 23,
     "metadata": {},
     "output_type": "execute_result"
    }
   ],
   "source": [
    "model.evaluate(X_test, Y_test)"
   ]
  },
  {
   "cell_type": "code",
   "execution_count": 24,
   "metadata": {},
   "outputs": [],
   "source": [
    "import matplotlib.pyplot as plt"
   ]
  },
  {
   "cell_type": "code",
   "execution_count": 25,
   "metadata": {},
   "outputs": [
    {
     "data": {
      "image/png": "[encoded data removed]",
      "text/plain": [
       "<Figure size 432x288 with 1 Axes>"
      ]
     },
     "metadata": {
      "needs_background": "light"
     },
     "output_type": "display_data"
    }
   ],
   "source": [
    "plt.plot(hist.history['loss'])\n",
    "plt.plot(hist.history['val_loss'])\n",
    "plt.title('Model loss')\n",
    "plt.ylabel('loss')\n",
    "plt.xlabel('Epoch')\n",
    "plt.legend(['Train', 'Val'], loc='upper right')\n",
    "plt.show()"
   ]
  },
  {
   "cell_type": "code",
   "execution_count": 26,
   "metadata": {},
   "outputs": [
    {
     "data": {
      "image/png": "[encoded data removed]",
      "text/plain": [
       "<Figure size 432x288 with 1 Axes>"
      ]
     },
     "metadata": {
      "needs_background": "light"
     },
     "output_type": "display_data"
    }
   ],
   "source": [
    "plt.plot(hist.history['accuracy'])\n",
    "plt.plot(hist.history['val_accuracy'])\n",
    "plt.title('Model accuracy')\n",
    "plt.ylabel('Accuracy')\n",
    "plt.xlabel('Epoch')\n",
    "plt.legend(['Train', 'Val'], loc='lower right')\n",
    "plt.show()"
   ]
  },
  {
   "cell_type": "code",
   "execution_count": 27,
   "metadata": {},
   "outputs": [
    {
     "name": "stdout",
     "output_type": "stream",
     "text": [
      "Epoch 1/100\n",
      "32/32 [==============================] - 2s 42ms/step - loss: 0.4810 - accuracy: 0.7779 - val_loss: 0.3942 - val_accuracy: 0.8219\n",
      "Epoch 2/100\n",
      "32/32 [==============================] - 1s 33ms/step - loss: 0.3258 - accuracy: 0.8669 - val_loss: 0.3416 - val_accuracy: 0.8311\n",
      "Epoch 3/100\n",
      "32/32 [==============================] - 1s 34ms/step - loss: 0.3044 - accuracy: 0.8767 - val_loss: 0.3086 - val_accuracy: 0.8493\n",
      "Epoch 4/100\n",
      "32/32 [==============================] - 1s 34ms/step - loss: 0.2632 - accuracy: 0.8904 - val_loss: 0.4349 - val_accuracy: 0.8493\n",
      "Epoch 5/100\n",
      "32/32 [==============================] - 1s 35ms/step - loss: 0.3230 - accuracy: 0.8679 - val_loss: 0.3342 - val_accuracy: 0.8493\n",
      "Epoch 6/100\n",
      "32/32 [==============================] - 1s 41ms/step - loss: 0.2799 - accuracy: 0.8885 - val_loss: 0.3523 - val_accuracy: 0.8493\n",
      "Epoch 7/100\n",
      "32/32 [==============================] - 1s 34ms/step - loss: 0.2390 - accuracy: 0.8885 - val_loss: 0.2735 - val_accuracy: 0.8721\n",
      "Epoch 8/100\n",
      "32/32 [==============================] - 1s 34ms/step - loss: 0.2509 - accuracy: 0.8943 - val_loss: 0.3326 - val_accuracy: 0.8402\n",
      "Epoch 9/100\n",
      "32/32 [==============================] - 1s 39ms/step - loss: 0.2288 - accuracy: 0.8992 - val_loss: 0.2979 - val_accuracy: 0.8584\n",
      "Epoch 10/100\n",
      "32/32 [==============================] - 1s 39ms/step - loss: 0.2212 - accuracy: 0.9022 - val_loss: 0.2782 - val_accuracy: 0.8858\n",
      "Epoch 11/100\n",
      "32/32 [==============================] - 1s 36ms/step - loss: 0.2209 - accuracy: 0.9022 - val_loss: 0.3262 - val_accuracy: 0.8858\n",
      "Epoch 12/100\n",
      "32/32 [==============================] - 1s 43ms/step - loss: 0.2081 - accuracy: 0.9031 - val_loss: 0.2908 - val_accuracy: 0.8904\n",
      "Epoch 13/100\n",
      "32/32 [==============================] - 1s 41ms/step - loss: 0.2017 - accuracy: 0.9168 - val_loss: 0.3347 - val_accuracy: 0.8813\n",
      "Epoch 14/100\n",
      "32/32 [==============================] - 1s 38ms/step - loss: 0.2070 - accuracy: 0.9217 - val_loss: 0.2943 - val_accuracy: 0.8721\n",
      "Epoch 15/100\n",
      "32/32 [==============================] - 1s 37ms/step - loss: 0.1889 - accuracy: 0.9168 - val_loss: 0.3924 - val_accuracy: 0.8402\n",
      "Epoch 16/100\n",
      "32/32 [==============================] - 1s 37ms/step - loss: 0.2063 - accuracy: 0.9080 - val_loss: 0.3411 - val_accuracy: 0.8493\n",
      "Epoch 17/100\n",
      "32/32 [==============================] - 1s 32ms/step - loss: 0.2033 - accuracy: 0.9149 - val_loss: 0.2937 - val_accuracy: 0.8767\n",
      "Epoch 18/100\n",
      "32/32 [==============================] - 1s 34ms/step - loss: 0.1912 - accuracy: 0.9295 - val_loss: 0.3777 - val_accuracy: 0.8311\n",
      "Epoch 19/100\n",
      "32/32 [==============================] - 1s 36ms/step - loss: 0.1922 - accuracy: 0.9070 - val_loss: 0.3399 - val_accuracy: 0.8767\n",
      "Epoch 20/100\n",
      "32/32 [==============================] - 1s 33ms/step - loss: 0.1855 - accuracy: 0.9247 - val_loss: 0.3371 - val_accuracy: 0.8493\n",
      "Epoch 21/100\n",
      "32/32 [==============================] - 1s 30ms/step - loss: 0.1736 - accuracy: 0.9217 - val_loss: 0.2819 - val_accuracy: 0.8767\n",
      "Epoch 22/100\n",
      "32/32 [==============================] - 1s 33ms/step - loss: 0.1905 - accuracy: 0.9178 - val_loss: 0.2611 - val_accuracy: 0.8858\n",
      "Epoch 23/100\n",
      "32/32 [==============================] - 1s 41ms/step - loss: 0.1801 - accuracy: 0.9266 - val_loss: 0.3591 - val_accuracy: 0.8630\n",
      "Epoch 24/100\n",
      "32/32 [==============================] - 1s 36ms/step - loss: 0.1680 - accuracy: 0.9286 - val_loss: 0.4819 - val_accuracy: 0.7900\n",
      "Epoch 25/100\n",
      "32/32 [==============================] - 1s 36ms/step - loss: 0.1943 - accuracy: 0.9090 - val_loss: 0.3085 - val_accuracy: 0.8493\n",
      "Epoch 26/100\n",
      "32/32 [==============================] - 1s 32ms/step - loss: 0.1710 - accuracy: 0.9344 - val_loss: 0.3571 - val_accuracy: 0.8493\n",
      "Epoch 27/100\n",
      "32/32 [==============================] - 1s 35ms/step - loss: 0.1692 - accuracy: 0.9315 - val_loss: 0.4621 - val_accuracy: 0.8082\n",
      "Epoch 28/100\n",
      "32/32 [==============================] - 1s 39ms/step - loss: 0.1749 - accuracy: 0.9188 - val_loss: 0.2817 - val_accuracy: 0.8584\n",
      "Epoch 29/100\n",
      "32/32 [==============================] - 1s 39ms/step - loss: 0.1729 - accuracy: 0.9344 - val_loss: 0.3796 - val_accuracy: 0.8584\n",
      "Epoch 30/100\n",
      "32/32 [==============================] - 1s 33ms/step - loss: 0.1890 - accuracy: 0.9207 - val_loss: 0.3684 - val_accuracy: 0.8311\n",
      "Epoch 31/100\n",
      "32/32 [==============================] - 1s 31ms/step - loss: 0.1617 - accuracy: 0.9374 - val_loss: 0.3747 - val_accuracy: 0.8630\n",
      "Epoch 32/100\n",
      "32/32 [==============================] - 1s 41ms/step - loss: 0.1623 - accuracy: 0.9384 - val_loss: 0.2946 - val_accuracy: 0.8676\n",
      "Epoch 33/100\n",
      "32/32 [==============================] - 1s 41ms/step - loss: 0.1640 - accuracy: 0.9344 - val_loss: 0.3078 - val_accuracy: 0.8721\n",
      "Epoch 34/100\n",
      "32/32 [==============================] - 1s 35ms/step - loss: 0.1498 - accuracy: 0.9413 - val_loss: 0.3648 - val_accuracy: 0.8630\n",
      "Epoch 35/100\n",
      "32/32 [==============================] - 1s 34ms/step - loss: 0.1536 - accuracy: 0.9335 - val_loss: 0.4022 - val_accuracy: 0.8584\n",
      "Epoch 36/100\n",
      "32/32 [==============================] - 1s 36ms/step - loss: 0.1550 - accuracy: 0.9335 - val_loss: 0.3081 - val_accuracy: 0.8493\n",
      "Epoch 37/100\n",
      "32/32 [==============================] - 1s 43ms/step - loss: 0.1647 - accuracy: 0.9344 - val_loss: 0.2929 - val_accuracy: 0.8584\n",
      "Epoch 38/100\n",
      "32/32 [==============================] - 2s 55ms/step - loss: 0.1649 - accuracy: 0.9295 - val_loss: 0.3113 - val_accuracy: 0.8539\n",
      "Epoch 39/100\n",
      "32/32 [==============================] - 2s 68ms/step - loss: 0.1715 - accuracy: 0.9286 - val_loss: 0.5128 - val_accuracy: 0.8311\n",
      "Epoch 40/100\n",
      "32/32 [==============================] - 3s 86ms/step - loss: 0.1523 - accuracy: 0.9393 - val_loss: 0.4495 - val_accuracy: 0.8447\n",
      "Epoch 41/100\n",
      "32/32 [==============================] - 2s 69ms/step - loss: 0.1616 - accuracy: 0.9384 - val_loss: 0.3436 - val_accuracy: 0.8630\n",
      "Epoch 42/100\n",
      "32/32 [==============================] - 2s 55ms/step - loss: 0.1505 - accuracy: 0.9344 - val_loss: 0.3548 - val_accuracy: 0.8721\n",
      "Epoch 43/100\n",
      "32/32 [==============================] - 2s 48ms/step - loss: 0.1617 - accuracy: 0.9315 - val_loss: 0.3352 - val_accuracy: 0.8493\n",
      "Epoch 44/100\n",
      "32/32 [==============================] - 1s 43ms/step - loss: 0.1485 - accuracy: 0.9423 - val_loss: 0.3583 - val_accuracy: 0.8539\n",
      "Epoch 45/100\n",
      "32/32 [==============================] - 1s 40ms/step - loss: 0.1809 - accuracy: 0.9335 - val_loss: 0.4285 - val_accuracy: 0.8584\n",
      "Epoch 46/100\n",
      "32/32 [==============================] - 2s 49ms/step - loss: 0.1381 - accuracy: 0.9432 - val_loss: 0.3479 - val_accuracy: 0.8676\n",
      "Epoch 47/100\n",
      "32/32 [==============================] - 1s 42ms/step - loss: 0.1245 - accuracy: 0.9442 - val_loss: 0.4361 - val_accuracy: 0.8630\n",
      "Epoch 48/100\n",
      "32/32 [==============================] - 1s 43ms/step - loss: 0.1405 - accuracy: 0.9472 - val_loss: 0.2964 - val_accuracy: 0.8813\n",
      "Epoch 49/100\n",
      "32/32 [==============================] - 1s 39ms/step - loss: 0.1606 - accuracy: 0.9315 - val_loss: 0.3214 - val_accuracy: 0.8721\n",
      "Epoch 50/100\n",
      "32/32 [==============================] - 1s 39ms/step - loss: 0.1374 - accuracy: 0.9354 - val_loss: 0.4329 - val_accuracy: 0.8447\n",
      "Epoch 51/100\n",
      "32/32 [==============================] - 1s 38ms/step - loss: 0.1595 - accuracy: 0.9305 - val_loss: 0.4570 - val_accuracy: 0.8539\n",
      "Epoch 52/100\n",
      "32/32 [==============================] - 1s 37ms/step - loss: 0.1423 - accuracy: 0.9413 - val_loss: 0.4272 - val_accuracy: 0.8447\n",
      "Epoch 53/100\n",
      "32/32 [==============================] - 1s 35ms/step - loss: 0.1197 - accuracy: 0.9501 - val_loss: 0.4238 - val_accuracy: 0.8584\n",
      "Epoch 54/100\n",
      "32/32 [==============================] - 1s 32ms/step - loss: 0.1416 - accuracy: 0.9403 - val_loss: 0.4813 - val_accuracy: 0.8265\n",
      "Epoch 55/100\n",
      "32/32 [==============================] - 1s 38ms/step - loss: 0.1200 - accuracy: 0.9511 - val_loss: 0.4928 - val_accuracy: 0.8493\n",
      "Epoch 56/100\n",
      "32/32 [==============================] - 1s 40ms/step - loss: 0.1408 - accuracy: 0.9423 - val_loss: 0.4502 - val_accuracy: 0.8447\n",
      "Epoch 57/100\n",
      "32/32 [==============================] - 1s 38ms/step - loss: 0.1293 - accuracy: 0.9472 - val_loss: 0.3947 - val_accuracy: 0.8676\n",
      "Epoch 58/100\n",
      "32/32 [==============================] - 1s 40ms/step - loss: 0.1251 - accuracy: 0.9481 - val_loss: 0.3737 - val_accuracy: 0.8539\n",
      "Epoch 59/100\n",
      "32/32 [==============================] - 1s 38ms/step - loss: 0.1171 - accuracy: 0.9540 - val_loss: 0.5646 - val_accuracy: 0.8539\n",
      "Epoch 60/100\n",
      "32/32 [==============================] - 1s 39ms/step - loss: 0.1190 - accuracy: 0.9501 - val_loss: 0.6297 - val_accuracy: 0.8356\n",
      "Epoch 61/100\n",
      "32/32 [==============================] - 1s 40ms/step - loss: 0.1291 - accuracy: 0.9481 - val_loss: 0.6357 - val_accuracy: 0.8265\n",
      "Epoch 62/100\n",
      "32/32 [==============================] - 1s 39ms/step - loss: 0.1694 - accuracy: 0.9305 - val_loss: 0.4689 - val_accuracy: 0.8493\n",
      "Epoch 63/100\n",
      "32/32 [==============================] - 1s 37ms/step - loss: 0.1256 - accuracy: 0.9511 - val_loss: 0.3987 - val_accuracy: 0.8630\n",
      "Epoch 64/100\n",
      "32/32 [==============================] - 1s 37ms/step - loss: 0.1123 - accuracy: 0.9569 - val_loss: 0.4972 - val_accuracy: 0.8630\n",
      "Epoch 65/100\n",
      "32/32 [==============================] - 1s 33ms/step - loss: 0.1331 - accuracy: 0.9452 - val_loss: 0.3345 - val_accuracy: 0.8676\n",
      "Epoch 66/100\n",
      "32/32 [==============================] - 1s 33ms/step - loss: 0.1082 - accuracy: 0.9589 - val_loss: 0.4594 - val_accuracy: 0.8447\n",
      "Epoch 67/100\n",
      "32/32 [==============================] - 1s 32ms/step - loss: 0.1181 - accuracy: 0.9521 - val_loss: 0.3754 - val_accuracy: 0.8447\n",
      "Epoch 68/100\n",
      "32/32 [==============================] - 1s 33ms/step - loss: 0.1370 - accuracy: 0.9472 - val_loss: 0.5688 - val_accuracy: 0.8219\n",
      "Epoch 69/100\n",
      "32/32 [==============================] - 1s 32ms/step - loss: 0.2000 - accuracy: 0.9159 - val_loss: 0.4307 - val_accuracy: 0.8493\n",
      "Epoch 70/100\n",
      "32/32 [==============================] - 1s 33ms/step - loss: 0.1176 - accuracy: 0.9550 - val_loss: 0.4696 - val_accuracy: 0.8539\n",
      "Epoch 71/100\n",
      "32/32 [==============================] - 1s 31ms/step - loss: 0.0979 - accuracy: 0.9579 - val_loss: 0.5267 - val_accuracy: 0.8447\n",
      "Epoch 72/100\n",
      "32/32 [==============================] - 1s 29ms/step - loss: 0.1032 - accuracy: 0.9560 - val_loss: 0.5518 - val_accuracy: 0.8584\n",
      "Epoch 73/100\n",
      "32/32 [==============================] - 1s 29ms/step - loss: 0.0934 - accuracy: 0.9618 - val_loss: 0.4858 - val_accuracy: 0.8447\n",
      "Epoch 74/100\n",
      "32/32 [==============================] - 1s 33ms/step - loss: 0.1032 - accuracy: 0.9530 - val_loss: 0.4990 - val_accuracy: 0.8539\n",
      "Epoch 75/100\n",
      "32/32 [==============================] - 1s 43ms/step - loss: 0.1191 - accuracy: 0.9481 - val_loss: 0.5201 - val_accuracy: 0.8447\n",
      "Epoch 76/100\n",
      "32/32 [==============================] - 1s 36ms/step - loss: 0.1198 - accuracy: 0.9511 - val_loss: 0.4978 - val_accuracy: 0.8584\n",
      "Epoch 77/100\n",
      "32/32 [==============================] - 1s 36ms/step - loss: 0.1183 - accuracy: 0.9511 - val_loss: 0.4662 - val_accuracy: 0.8676\n",
      "Epoch 78/100\n",
      "32/32 [==============================] - 1s 35ms/step - loss: 0.1104 - accuracy: 0.9511 - val_loss: 0.5733 - val_accuracy: 0.8630\n",
      "Epoch 79/100\n",
      "32/32 [==============================] - 1s 34ms/step - loss: 0.1196 - accuracy: 0.9491 - val_loss: 0.4480 - val_accuracy: 0.8767\n",
      "Epoch 80/100\n",
      "32/32 [==============================] - 1s 32ms/step - loss: 0.1127 - accuracy: 0.9560 - val_loss: 0.7546 - val_accuracy: 0.8128\n",
      "Epoch 81/100\n",
      "32/32 [==============================] - 1s 32ms/step - loss: 0.0960 - accuracy: 0.9648 - val_loss: 0.5173 - val_accuracy: 0.8630\n",
      "Epoch 82/100\n",
      "32/32 [==============================] - 1s 31ms/step - loss: 0.1174 - accuracy: 0.9481 - val_loss: 0.6511 - val_accuracy: 0.8402\n",
      "Epoch 83/100\n",
      "32/32 [==============================] - 1s 30ms/step - loss: 0.1395 - accuracy: 0.9491 - val_loss: 0.5478 - val_accuracy: 0.8219\n",
      "Epoch 84/100\n",
      "32/32 [==============================] - 1s 30ms/step - loss: 0.1242 - accuracy: 0.9560 - val_loss: 0.6257 - val_accuracy: 0.8493\n",
      "Epoch 85/100\n",
      "32/32 [==============================] - 1s 32ms/step - loss: 0.1123 - accuracy: 0.9530 - val_loss: 0.5737 - val_accuracy: 0.8539\n",
      "Epoch 86/100\n",
      "32/32 [==============================] - 1s 37ms/step - loss: 0.1041 - accuracy: 0.9569 - val_loss: 0.6696 - val_accuracy: 0.8584\n",
      "Epoch 87/100\n",
      "32/32 [==============================] - 1s 34ms/step - loss: 0.1174 - accuracy: 0.9472 - val_loss: 0.6055 - val_accuracy: 0.8721\n",
      "Epoch 88/100\n",
      "32/32 [==============================] - 1s 33ms/step - loss: 0.1107 - accuracy: 0.9589 - val_loss: 0.6040 - val_accuracy: 0.8447\n",
      "Epoch 89/100\n",
      "32/32 [==============================] - 1s 41ms/step - loss: 0.0980 - accuracy: 0.9599 - val_loss: 0.6750 - val_accuracy: 0.8447\n",
      "Epoch 90/100\n",
      "32/32 [==============================] - 1s 41ms/step - loss: 0.0929 - accuracy: 0.9628 - val_loss: 0.6637 - val_accuracy: 0.8402\n",
      "Epoch 91/100\n",
      "32/32 [==============================] - 1s 37ms/step - loss: 0.0825 - accuracy: 0.9648 - val_loss: 0.6529 - val_accuracy: 0.8539\n",
      "Epoch 92/100\n",
      "32/32 [==============================] - 1s 45ms/step - loss: 0.0873 - accuracy: 0.9609 - val_loss: 0.5809 - val_accuracy: 0.8630\n",
      "Epoch 93/100\n",
      "32/32 [==============================] - 2s 49ms/step - loss: 0.1365 - accuracy: 0.9521 - val_loss: 0.5676 - val_accuracy: 0.8630\n",
      "Epoch 94/100\n",
      "32/32 [==============================] - 2s 58ms/step - loss: 0.1050 - accuracy: 0.9530 - val_loss: 0.5828 - val_accuracy: 0.8630\n",
      "Epoch 95/100\n",
      "32/32 [==============================] - 2s 49ms/step - loss: 0.1146 - accuracy: 0.9560 - val_loss: 0.5904 - val_accuracy: 0.8539\n",
      "Epoch 96/100\n",
      "32/32 [==============================] - 2s 52ms/step - loss: 0.0932 - accuracy: 0.9618 - val_loss: 0.5629 - val_accuracy: 0.8493\n",
      "Epoch 97/100\n",
      "32/32 [==============================] - 1s 42ms/step - loss: 0.0986 - accuracy: 0.9540 - val_loss: 0.7450 - val_accuracy: 0.8493\n",
      "Epoch 98/100\n",
      "32/32 [==============================] - 1s 44ms/step - loss: 0.1054 - accuracy: 0.9599 - val_loss: 0.7078 - val_accuracy: 0.8539\n",
      "Epoch 99/100\n",
      "32/32 [==============================] - 1s 41ms/step - loss: 0.1131 - accuracy: 0.9462 - val_loss: 0.5772 - val_accuracy: 0.8493\n",
      "Epoch 100/100\n",
      "32/32 [==============================] - 1s 40ms/step - loss: 0.1135 - accuracy: 0.9560 - val_loss: 0.5020 - val_accuracy: 0.8584\n"
     ]
    }
   ],
   "source": [
    "model_2=Sequential([\n",
    "   Dense(1000, activation='relu', input_shape=(10,)),\n",
    "   Dense(1000, activation='relu'),\n",
    "   Dense(1000, activation='relu'),\n",
    "   Dense(1000, activation='relu'),\n",
    "   Dense(1, activation='sigmoid'),\n",
    "])\n",
    "\n",
    "model_2.compile(optimizer='adam', \n",
    "               loss='binary_crossentropy',\n",
    "               metrics = ['accuracy'])\n",
    "\n",
    "hist_2 = model_2.fit(X_train, Y_train,\n",
    "         batch_size=32, epochs=100,\n",
    "         validation_data=(X_val, Y_val))\n",
    "            "
   ]
  },
  {
   "cell_type": "code",
   "execution_count": null,
   "metadata": {},
   "outputs": [],
   "source": []
  },
  {
   "cell_type": "code",
   "execution_count": 28,
   "metadata": {},
   "outputs": [
    {
     "data": {
      "image/png": "[encoded data removed]",
      "text/plain": [
       "<Figure size 432x288 with 1 Axes>"
      ]
     },
     "metadata": {
      "needs_background": "light"
     },
     "output_type": "display_data"
    }
   ],
   "source": [
    "plt.plot(hist_2.history['loss'])\n",
    "plt.plot(hist_2.history['val_loss'])\n",
    "plt.title('Model loss')\n",
    "plt.ylabel('Loss')\n",
    "plt.xlabel('Epoch')\n",
    "plt.legend(['Train', 'Val'], loc='upper right')\n",
    "plt.show()"
   ]
  },
  {
   "cell_type": "markdown",
   "metadata": {},
   "source": [
    "#### This is a clear sign of over-fitting. The training loss is decreasing, but the validation loss is way above the training loss and increasing(past  the inflection point of Epoch 20). if we plot accuracy using the code below"
   ]
  },
  {
   "cell_type": "code",
   "execution_count": 29,
   "metadata": {},
   "outputs": [
    {
     "data": {
      "image/png": "[encoded data removed]",
      "text/plain": [
       "<Figure size 432x288 with 1 Axes>"
      ]
     },
     "metadata": {
      "needs_background": "light"
     },
     "output_type": "display_data"
    }
   ],
   "source": [
    "plt.plot(hist_2.history['accuracy'])\n",
    "plt.plot(hist_2.history['val_accuracy'])\n",
    "plt.title('Model accuracy')\n",
    "plt.ylabel('Accuracy')\n",
    "plt.xlabel('Epoch')\n",
    "plt.legend(['Train', 'Val'], loc='lower right')\n",
    "plt.show()"
   ]
  },
  {
   "cell_type": "markdown",
   "metadata": {},
   "source": [
    "#### We can see a clearer divergence between train and validation accuracy as well:"
   ]
  },
  {
   "cell_type": "code",
   "execution_count": 30,
   "metadata": {},
   "outputs": [],
   "source": [
    "import matplotlib.pyplot as plt "
   ]
  },
  {
   "cell_type": "code",
   "execution_count": 31,
   "metadata": {},
   "outputs": [],
   "source": [
    "from keras.layers import Dropout\n",
    "from keras import regularizers"
   ]
  },
  {
   "cell_type": "code",
   "execution_count": 32,
   "metadata": {},
   "outputs": [],
   "source": [
    "model_3 = Sequential([\n",
    "    Dense(1000, activation='relu', kernel_regularizer=regularizers.l2(0.01), input_shape=(10,)),\n",
    "    Dropout(0.3),\n",
    "    Dense(1000, activation='relu', kernel_regularizer=regularizers.l2(0.01)),\n",
    "    Dropout(0.3),\n",
    "    Dense(1000, activation='relu', kernel_regularizer=regularizers.l2(0.01)),\n",
    "    Dropout(0.3),\n",
    "    Dense(1000, activation='relu', kernel_regularizer=regularizers.l2(0.01)),\n",
    "    Dropout(0.3),\n",
    "    Dense(1, activation='sigmoid', kernel_regularizer=regularizers.l2(0.01)),\n",
    "])"
   ]
  },
  {
   "cell_type": "code",
   "execution_count": 33,
   "metadata": {},
   "outputs": [
    {
     "name": "stdout",
     "output_type": "stream",
     "text": [
      "Epoch 1/100\n",
      "32/32 [==============================] - 3s 53ms/step - loss: 14.2706 - accuracy: 0.6399 - val_loss: 3.9074 - val_accuracy: 0.7945\n",
      "Epoch 2/100\n",
      "32/32 [==============================] - 1s 41ms/step - loss: 1.6804 - accuracy: 0.8297 - val_loss: 0.7770 - val_accuracy: 0.8082\n",
      "Epoch 3/100\n",
      "32/32 [==============================] - 1s 41ms/step - loss: 0.5986 - accuracy: 0.8454 - val_loss: 0.5608 - val_accuracy: 0.8356\n",
      "Epoch 4/100\n",
      "32/32 [==============================] - 1s 41ms/step - loss: 0.4969 - accuracy: 0.8728 - val_loss: 0.5335 - val_accuracy: 0.8402\n",
      "Epoch 5/100\n",
      "32/32 [==============================] - 1s 41ms/step - loss: 0.4945 - accuracy: 0.8748 - val_loss: 0.5626 - val_accuracy: 0.8356\n",
      "Epoch 6/100\n",
      "32/32 [==============================] - 1s 44ms/step - loss: 0.4744 - accuracy: 0.8708 - val_loss: 0.5014 - val_accuracy: 0.8402\n",
      "Epoch 7/100\n",
      "32/32 [==============================] - 1s 46ms/step - loss: 0.4671 - accuracy: 0.8796 - val_loss: 0.4979 - val_accuracy: 0.8402\n",
      "Epoch 8/100\n",
      "32/32 [==============================] - 2s 52ms/step - loss: 0.4711 - accuracy: 0.8806 - val_loss: 0.5351 - val_accuracy: 0.8311\n",
      "Epoch 9/100\n",
      "32/32 [==============================] - 2s 52ms/step - loss: 0.4583 - accuracy: 0.8806 - val_loss: 0.4891 - val_accuracy: 0.8447\n",
      "Epoch 10/100\n",
      "32/32 [==============================] - 2s 49ms/step - loss: 0.4476 - accuracy: 0.8728 - val_loss: 0.5130 - val_accuracy: 0.8630\n",
      "Epoch 11/100\n",
      "32/32 [==============================] - 2s 52ms/step - loss: 0.4488 - accuracy: 0.8796 - val_loss: 0.4868 - val_accuracy: 0.8447\n",
      "Epoch 12/100\n",
      "32/32 [==============================] - 2s 53ms/step - loss: 0.4518 - accuracy: 0.8738 - val_loss: 0.4886 - val_accuracy: 0.8447\n",
      "Epoch 13/100\n",
      "32/32 [==============================] - 2s 50ms/step - loss: 0.4484 - accuracy: 0.8767 - val_loss: 0.4905 - val_accuracy: 0.8356\n",
      "Epoch 14/100\n",
      "32/32 [==============================] - 1s 43ms/step - loss: 0.4403 - accuracy: 0.8963 - val_loss: 0.4904 - val_accuracy: 0.8447\n",
      "Epoch 15/100\n",
      "32/32 [==============================] - 1s 43ms/step - loss: 0.4467 - accuracy: 0.8836 - val_loss: 0.4778 - val_accuracy: 0.8539\n",
      "Epoch 16/100\n",
      "32/32 [==============================] - 1s 44ms/step - loss: 0.4372 - accuracy: 0.8914 - val_loss: 0.5356 - val_accuracy: 0.8402\n",
      "Epoch 17/100\n",
      "32/32 [==============================] - 2s 55ms/step - loss: 0.4533 - accuracy: 0.8806 - val_loss: 0.4787 - val_accuracy: 0.8539\n",
      "Epoch 18/100\n",
      "32/32 [==============================] - 1s 46ms/step - loss: 0.4297 - accuracy: 0.8924 - val_loss: 0.4875 - val_accuracy: 0.8539\n",
      "Epoch 19/100\n",
      "32/32 [==============================] - 1s 46ms/step - loss: 0.4273 - accuracy: 0.8963 - val_loss: 0.4743 - val_accuracy: 0.8447\n",
      "Epoch 20/100\n",
      "32/32 [==============================] - 2s 50ms/step - loss: 0.4256 - accuracy: 0.9002 - val_loss: 0.4992 - val_accuracy: 0.8493\n",
      "Epoch 21/100\n",
      "32/32 [==============================] - 2s 53ms/step - loss: 0.4446 - accuracy: 0.8787 - val_loss: 0.4735 - val_accuracy: 0.8539\n",
      "Epoch 22/100\n",
      "32/32 [==============================] - 2s 51ms/step - loss: 0.4572 - accuracy: 0.8777 - val_loss: 0.4770 - val_accuracy: 0.8539\n",
      "Epoch 23/100\n",
      "32/32 [==============================] - 2s 50ms/step - loss: 0.4339 - accuracy: 0.8973 - val_loss: 0.4671 - val_accuracy: 0.8539\n",
      "Epoch 24/100\n",
      "32/32 [==============================] - 2s 53ms/step - loss: 0.4272 - accuracy: 0.8885 - val_loss: 0.5002 - val_accuracy: 0.8493\n",
      "Epoch 25/100\n",
      "32/32 [==============================] - 2s 59ms/step - loss: 0.4522 - accuracy: 0.8669 - val_loss: 0.4925 - val_accuracy: 0.8493\n",
      "Epoch 26/100\n",
      "32/32 [==============================] - 2s 62ms/step - loss: 0.4412 - accuracy: 0.8836 - val_loss: 0.4677 - val_accuracy: 0.8493\n",
      "Epoch 27/100\n",
      "32/32 [==============================] - 2s 59ms/step - loss: 0.4295 - accuracy: 0.8885 - val_loss: 0.4761 - val_accuracy: 0.8493\n",
      "Epoch 28/100\n",
      "32/32 [==============================] - 2s 61ms/step - loss: 0.4246 - accuracy: 0.8865 - val_loss: 0.4672 - val_accuracy: 0.8539\n",
      "Epoch 29/100\n",
      "32/32 [==============================] - 2s 56ms/step - loss: 0.4317 - accuracy: 0.8885 - val_loss: 0.5055 - val_accuracy: 0.8493\n",
      "Epoch 30/100\n",
      "32/32 [==============================] - 2s 57ms/step - loss: 0.4296 - accuracy: 0.8943 - val_loss: 0.5051 - val_accuracy: 0.8493\n",
      "Epoch 31/100\n",
      "32/32 [==============================] - 2s 59ms/step - loss: 0.4336 - accuracy: 0.8845 - val_loss: 0.4741 - val_accuracy: 0.8493\n",
      "Epoch 32/100\n",
      "32/32 [==============================] - 2s 57ms/step - loss: 0.4400 - accuracy: 0.8816 - val_loss: 0.4680 - val_accuracy: 0.8493\n",
      "Epoch 33/100\n",
      "32/32 [==============================] - 2s 51ms/step - loss: 0.4262 - accuracy: 0.8982 - val_loss: 0.4612 - val_accuracy: 0.8539\n",
      "Epoch 34/100\n",
      "32/32 [==============================] - 1s 46ms/step - loss: 0.4198 - accuracy: 0.8992 - val_loss: 0.4762 - val_accuracy: 0.8539\n",
      "Epoch 35/100\n",
      "32/32 [==============================] - 1s 45ms/step - loss: 0.4219 - accuracy: 0.8973 - val_loss: 0.4580 - val_accuracy: 0.8493\n",
      "Epoch 36/100\n",
      "32/32 [==============================] - 1s 46ms/step - loss: 0.4200 - accuracy: 0.8982 - val_loss: 0.4704 - val_accuracy: 0.8584\n",
      "Epoch 37/100\n",
      "32/32 [==============================] - 1s 46ms/step - loss: 0.4268 - accuracy: 0.8885 - val_loss: 0.5454 - val_accuracy: 0.8402\n",
      "Epoch 38/100\n",
      "32/32 [==============================] - 2s 50ms/step - loss: 0.4455 - accuracy: 0.8757 - val_loss: 0.4638 - val_accuracy: 0.8539\n",
      "Epoch 39/100\n",
      "32/32 [==============================] - 2s 50ms/step - loss: 0.4379 - accuracy: 0.8845 - val_loss: 0.4903 - val_accuracy: 0.8630\n",
      "Epoch 40/100\n",
      "32/32 [==============================] - 2s 48ms/step - loss: 0.4227 - accuracy: 0.8885 - val_loss: 0.4686 - val_accuracy: 0.8630\n",
      "Epoch 41/100\n",
      "32/32 [==============================] - 2s 49ms/step - loss: 0.4256 - accuracy: 0.8973 - val_loss: 0.4796 - val_accuracy: 0.8584\n",
      "Epoch 42/100\n",
      "32/32 [==============================] - 1s 44ms/step - loss: 0.4362 - accuracy: 0.8855 - val_loss: 0.5197 - val_accuracy: 0.8493\n",
      "Epoch 43/100\n",
      "32/32 [==============================] - 1s 41ms/step - loss: 0.4191 - accuracy: 0.8924 - val_loss: 0.4657 - val_accuracy: 0.8493\n",
      "Epoch 44/100\n",
      "32/32 [==============================] - 1s 41ms/step - loss: 0.4344 - accuracy: 0.8875 - val_loss: 0.4836 - val_accuracy: 0.8721\n",
      "Epoch 45/100\n",
      "32/32 [==============================] - 1s 40ms/step - loss: 0.4391 - accuracy: 0.8826 - val_loss: 0.4901 - val_accuracy: 0.8584\n",
      "Epoch 46/100\n",
      "32/32 [==============================] - 1s 43ms/step - loss: 0.4267 - accuracy: 0.8855 - val_loss: 0.4764 - val_accuracy: 0.8539\n",
      "Epoch 47/100\n",
      "32/32 [==============================] - 1s 40ms/step - loss: 0.4287 - accuracy: 0.8865 - val_loss: 0.4909 - val_accuracy: 0.8584\n",
      "Epoch 48/100\n",
      "32/32 [==============================] - 1s 40ms/step - loss: 0.4339 - accuracy: 0.8796 - val_loss: 0.4672 - val_accuracy: 0.8493\n",
      "Epoch 49/100\n",
      "32/32 [==============================] - 2s 51ms/step - loss: 0.4267 - accuracy: 0.8787 - val_loss: 0.5125 - val_accuracy: 0.8402\n",
      "Epoch 50/100\n",
      "32/32 [==============================] - 2s 55ms/step - loss: 0.4162 - accuracy: 0.8914 - val_loss: 0.4688 - val_accuracy: 0.8539\n",
      "Epoch 51/100\n",
      "32/32 [==============================] - 2s 49ms/step - loss: 0.4397 - accuracy: 0.8748 - val_loss: 0.4663 - val_accuracy: 0.8493\n",
      "Epoch 52/100\n",
      "32/32 [==============================] - 2s 48ms/step - loss: 0.4263 - accuracy: 0.8875 - val_loss: 0.4670 - val_accuracy: 0.8493\n",
      "Epoch 53/100\n",
      "32/32 [==============================] - 1s 43ms/step - loss: 0.4329 - accuracy: 0.8855 - val_loss: 0.4661 - val_accuracy: 0.8539\n",
      "Epoch 54/100\n",
      "32/32 [==============================] - 1s 43ms/step - loss: 0.4380 - accuracy: 0.8757 - val_loss: 0.4664 - val_accuracy: 0.8539\n",
      "Epoch 55/100\n",
      "32/32 [==============================] - 1s 42ms/step - loss: 0.4307 - accuracy: 0.8806 - val_loss: 0.4691 - val_accuracy: 0.8539\n",
      "Epoch 56/100\n",
      "32/32 [==============================] - 1s 46ms/step - loss: 0.4489 - accuracy: 0.8777 - val_loss: 0.5473 - val_accuracy: 0.8356\n",
      "Epoch 57/100\n",
      "32/32 [==============================] - 1s 42ms/step - loss: 0.4428 - accuracy: 0.8777 - val_loss: 0.4905 - val_accuracy: 0.8493\n",
      "Epoch 58/100\n",
      "32/32 [==============================] - 1s 42ms/step - loss: 0.4300 - accuracy: 0.8875 - val_loss: 0.4684 - val_accuracy: 0.8539\n",
      "Epoch 59/100\n",
      "32/32 [==============================] - 1s 41ms/step - loss: 0.4077 - accuracy: 0.8963 - val_loss: 0.4745 - val_accuracy: 0.8539\n",
      "Epoch 60/100\n",
      "32/32 [==============================] - 1s 46ms/step - loss: 0.4305 - accuracy: 0.8953 - val_loss: 0.4726 - val_accuracy: 0.8539\n",
      "Epoch 61/100\n",
      "32/32 [==============================] - 1s 46ms/step - loss: 0.4293 - accuracy: 0.8845 - val_loss: 0.4771 - val_accuracy: 0.8539\n",
      "Epoch 62/100\n",
      "32/32 [==============================] - 1s 47ms/step - loss: 0.4149 - accuracy: 0.8963 - val_loss: 0.4574 - val_accuracy: 0.8539\n",
      "Epoch 63/100\n",
      "32/32 [==============================] - 1s 46ms/step - loss: 0.4182 - accuracy: 0.8953 - val_loss: 0.4575 - val_accuracy: 0.8493\n",
      "Epoch 64/100\n",
      "32/32 [==============================] - 1s 43ms/step - loss: 0.4288 - accuracy: 0.8943 - val_loss: 0.5418 - val_accuracy: 0.8311\n",
      "Epoch 65/100\n",
      "32/32 [==============================] - 1s 40ms/step - loss: 0.4201 - accuracy: 0.8875 - val_loss: 0.4826 - val_accuracy: 0.8539\n",
      "Epoch 66/100\n",
      "32/32 [==============================] - 1s 40ms/step - loss: 0.4203 - accuracy: 0.8943 - val_loss: 0.4759 - val_accuracy: 0.8539\n",
      "Epoch 67/100\n",
      "32/32 [==============================] - 1s 41ms/step - loss: 0.4248 - accuracy: 0.8894 - val_loss: 0.4591 - val_accuracy: 0.8493\n",
      "Epoch 68/100\n",
      "32/32 [==============================] - 2s 50ms/step - loss: 0.4339 - accuracy: 0.8767 - val_loss: 0.4680 - val_accuracy: 0.8539\n",
      "Epoch 69/100\n",
      "32/32 [==============================] - 2s 48ms/step - loss: 0.4186 - accuracy: 0.8914 - val_loss: 0.4599 - val_accuracy: 0.8539\n",
      "Epoch 70/100\n",
      "32/32 [==============================] - 2s 53ms/step - loss: 0.4297 - accuracy: 0.8885 - val_loss: 0.4904 - val_accuracy: 0.8630\n",
      "Epoch 71/100\n",
      "32/32 [==============================] - 2s 54ms/step - loss: 0.4396 - accuracy: 0.8806 - val_loss: 0.4687 - val_accuracy: 0.8493\n",
      "Epoch 72/100\n",
      "32/32 [==============================] - 2s 60ms/step - loss: 0.4253 - accuracy: 0.8855 - val_loss: 0.4872 - val_accuracy: 0.8676\n",
      "Epoch 73/100\n",
      "32/32 [==============================] - 2s 58ms/step - loss: 0.4383 - accuracy: 0.8748 - val_loss: 0.5030 - val_accuracy: 0.8493\n",
      "Epoch 74/100\n",
      "32/32 [==============================] - 2s 62ms/step - loss: 0.4331 - accuracy: 0.8865 - val_loss: 0.4755 - val_accuracy: 0.8584\n",
      "Epoch 75/100\n",
      "32/32 [==============================] - 2s 50ms/step - loss: 0.4214 - accuracy: 0.8943 - val_loss: 0.4701 - val_accuracy: 0.8539\n",
      "Epoch 76/100\n",
      "32/32 [==============================] - 2s 55ms/step - loss: 0.4196 - accuracy: 0.8963 - val_loss: 0.4809 - val_accuracy: 0.8676\n",
      "Epoch 77/100\n",
      "32/32 [==============================] - 2s 53ms/step - loss: 0.4568 - accuracy: 0.8718 - val_loss: 0.4756 - val_accuracy: 0.8584\n",
      "Epoch 78/100\n",
      "32/32 [==============================] - 2s 53ms/step - loss: 0.4218 - accuracy: 0.8885 - val_loss: 0.4789 - val_accuracy: 0.8630\n",
      "Epoch 79/100\n",
      "32/32 [==============================] - 2s 49ms/step - loss: 0.4202 - accuracy: 0.9002 - val_loss: 0.4618 - val_accuracy: 0.8493\n",
      "Epoch 80/100\n",
      "32/32 [==============================] - 2s 51ms/step - loss: 0.4315 - accuracy: 0.8855 - val_loss: 0.5108 - val_accuracy: 0.8630\n",
      "Epoch 81/100\n",
      "32/32 [==============================] - 2s 62ms/step - loss: 0.4415 - accuracy: 0.8748 - val_loss: 0.4666 - val_accuracy: 0.8493\n",
      "Epoch 82/100\n",
      "32/32 [==============================] - 2s 54ms/step - loss: 0.4305 - accuracy: 0.8865 - val_loss: 0.4623 - val_accuracy: 0.8493\n",
      "Epoch 83/100\n",
      "32/32 [==============================] - 2s 55ms/step - loss: 0.4199 - accuracy: 0.8973 - val_loss: 0.4712 - val_accuracy: 0.8539\n",
      "Epoch 84/100\n",
      "32/32 [==============================] - 2s 56ms/step - loss: 0.4307 - accuracy: 0.8855 - val_loss: 0.4569 - val_accuracy: 0.8539\n",
      "Epoch 85/100\n",
      "32/32 [==============================] - 2s 62ms/step - loss: 0.4273 - accuracy: 0.8914 - val_loss: 0.4568 - val_accuracy: 0.8493\n",
      "Epoch 86/100\n",
      "32/32 [==============================] - 2s 54ms/step - loss: 0.4330 - accuracy: 0.8757 - val_loss: 0.4648 - val_accuracy: 0.8493\n",
      "Epoch 87/100\n",
      "32/32 [==============================] - 2s 63ms/step - loss: 0.4112 - accuracy: 0.9012 - val_loss: 0.4793 - val_accuracy: 0.8539\n",
      "Epoch 88/100\n",
      "32/32 [==============================] - 2s 67ms/step - loss: 0.4275 - accuracy: 0.8885 - val_loss: 0.5174 - val_accuracy: 0.8402\n",
      "Epoch 89/100\n",
      "32/32 [==============================] - 2s 66ms/step - loss: 0.4247 - accuracy: 0.8865 - val_loss: 0.4684 - val_accuracy: 0.8539\n",
      "Epoch 90/100\n",
      "32/32 [==============================] - 2s 61ms/step - loss: 0.4187 - accuracy: 0.8865 - val_loss: 0.5146 - val_accuracy: 0.8630\n",
      "Epoch 91/100\n",
      "32/32 [==============================] - 2s 61ms/step - loss: 0.4226 - accuracy: 0.8894 - val_loss: 0.5093 - val_accuracy: 0.8630\n",
      "Epoch 92/100\n",
      "32/32 [==============================] - 2s 72ms/step - loss: 0.4177 - accuracy: 0.8904 - val_loss: 0.4647 - val_accuracy: 0.8539\n",
      "Epoch 93/100\n",
      "32/32 [==============================] - 2s 63ms/step - loss: 0.4209 - accuracy: 0.8826 - val_loss: 0.4720 - val_accuracy: 0.8539\n",
      "Epoch 94/100\n",
      "32/32 [==============================] - 2s 58ms/step - loss: 0.4110 - accuracy: 0.8894 - val_loss: 0.4581 - val_accuracy: 0.8539\n",
      "Epoch 95/100\n",
      "32/32 [==============================] - 2s 49ms/step - loss: 0.4192 - accuracy: 0.8943 - val_loss: 0.5009 - val_accuracy: 0.8630\n",
      "Epoch 96/100\n",
      "32/32 [==============================] - 2s 72ms/step - loss: 0.4325 - accuracy: 0.8924 - val_loss: 0.4799 - val_accuracy: 0.8539\n",
      "Epoch 97/100\n",
      "32/32 [==============================] - 3s 82ms/step - loss: 0.4194 - accuracy: 0.9031 - val_loss: 0.4570 - val_accuracy: 0.8493\n",
      "Epoch 98/100\n",
      "32/32 [==============================] - 2s 77ms/step - loss: 0.4249 - accuracy: 0.8914 - val_loss: 0.4653 - val_accuracy: 0.8539\n",
      "Epoch 99/100\n",
      "32/32 [==============================] - 2s 71ms/step - loss: 0.4318 - accuracy: 0.8865 - val_loss: 0.4960 - val_accuracy: 0.8676\n",
      "Epoch 100/100\n",
      "32/32 [==============================] - 2s 58ms/step - loss: 0.4217 - accuracy: 0.8953 - val_loss: 0.4715 - val_accuracy: 0.8447\n"
     ]
    }
   ],
   "source": [
    "model_3.compile(optimizer='adam',\n",
    "              loss='binary_crossentropy',\n",
    "              metrics=['accuracy'])\n",
    "              \n",
    "hist_3 = model_3.fit(X_train, Y_train,\n",
    "          batch_size=32, epochs=100,\n",
    "          validation_data=(X_val, Y_val))"
   ]
  },
  {
   "cell_type": "markdown",
   "metadata": {},
   "source": [
    "#### We'll get a loss graph that looks like this:"
   ]
  },
  {
   "cell_type": "code",
   "execution_count": 34,
   "metadata": {},
   "outputs": [
    {
     "data": {
      "image/png": "[encoded data removed]",
      "text/plain": [
       "<Figure size 432x288 with 1 Axes>"
      ]
     },
     "metadata": {
      "needs_background": "light"
     },
     "output_type": "display_data"
    }
   ],
   "source": [
    "plt.plot(hist_3.history['loss'])\n",
    "plt.plot(hist_3.history['val_loss'])\n",
    "plt.title('Model loss')\n",
    "plt.ylabel('Loss')\n",
    "plt.xlabel('Epoch')\n",
    "plt.legend(['Train', 'Val'], loc='upper right')\n",
    "plt.ylim(top=1.2, bottom=0)\n",
    "plt.show()"
   ]
  },
  {
   "cell_type": "markdown",
   "metadata": {},
   "source": [
    "#### You can see that the validation loss much more closely matches our training our training loss. Let's plot the accuracy with similar code snippet:"
   ]
  },
  {
   "cell_type": "code",
   "execution_count": 35,
   "metadata": {},
   "outputs": [
    {
     "data": {
      "image/png": "[encoded data removed]",
      "text/plain": [
       "<Figure size 432x288 with 1 Axes>"
      ]
     },
     "metadata": {
      "needs_background": "light"
     },
     "output_type": "display_data"
    }
   ],
   "source": [
    "plt.plot(hist_3.history['accuracy'])\n",
    "plt.plot(hist_3.history['val_accuracy'])\n",
    "plt.title('Model accuracy')\n",
    "plt.ylabel('Accuracy')\n",
    "plt.xlabel('Epoch')\n",
    "plt.legend(['Train', 'Val'], loc='lower right')\n",
    "plt.show()"
   ]
  },
  {
   "cell_type": "markdown",
   "metadata": {},
   "source": [
    "And We wikk get a plot like this:"
   ]
  }
 ],
 "metadata": {
  "interpreter": {
   "hash": "cb837109e84fd2b5122c59630c1be78d7120f3118f9e1f602b03fb353ee2ac28"
  },
  "kernelspec": {
   "display_name": "Python 3.8.6 64-bit",
   "name": "python3"
  },
  "language_info": {
   "codemirror_mode": {
    "name": "ipython",
    "version": 3
   },
   "file_extension": ".py",
   "mimetype": "text/x-python",
   "name": "python",
   "nbconvert_exporter": "python",
   "pygments_lexer": "ipython3",
   "version": "3.8.6"
  },
  "orig_nbformat": 4
 },
 "nbformat": 4,
 "nbformat_minor": 2
}
